{
  "nbformat": 4,
  "nbformat_minor": 0,
  "metadata": {
    "colab": {
      "name": "gcmillar_CEUS_Space_time_analytics_JupyterNB.ipynb",
      "provenance": [],
      "collapsed_sections": [],
      "toc_visible": true,
      "include_colab_link": true
    },
    "kernelspec": {
      "name": "python3",
      "display_name": "Python 3"
    },
    "accelerator": "GPU"
  },
  "cells": [
    {
      "cell_type": "markdown",
      "metadata": {
        "id": "view-in-github",
        "colab_type": "text"
      },
      "source": [
        "<a href=\"https://colab.research.google.com/github/gcmillar/CEUS/blob/master/gcmillar_CEUS_Space_time_analytics_JupyterNB.ipynb\" target=\"_parent\"><img src=\"https://colab.research.google.com/assets/colab-badge.svg\" alt=\"Open In Colab\"/></a>"
      ]
    },
    {
      "cell_type": "markdown",
      "metadata": {
        "id": "0h5E6g5xIrKL",
        "colab_type": "text"
      },
      "source": [
        "---\n",
        "---\n",
        "#        **Space-time Analytics of Human Physiology for Urban Planning**\n",
        "---\n",
        "---"
      ]
    },
    {
      "cell_type": "markdown",
      "metadata": {
        "id": "hcqShGttHsb2",
        "colab_type": "text"
      },
      "source": [
        "## Paper\n",
        "This is code and data for computational reproducibility of the following paper:\n",
        "> **Garrett C. Millar**, Ondrej Mitas, Wilco Boode Lisette Hoeke, Joost de Kruijff, Anna Petrasova, Helena Mitasova (2020): \n",
        "Space-time Analytics of Human Physiology for Urban Planning. In: Computers, Environment, and Urban Sytstems, In: *Advances in portable sensing methodologies for urban environments: Understanding cities from a mobility perspective*. \n",
        "[DOI here]"
      ]
    },
    {
      "cell_type": "markdown",
      "metadata": {
        "id": "uLnyFCClJn6F",
        "colab_type": "text"
      },
      "source": [
        "## Code\n",
        "This is a modified version of a notebook for reproducibility of the applied methodological framework applied in the Millar et al. 2020 paper. The original notebook is at https://colab.research.google.com/github/gcmillar/CEUS/blob/master/PeopleEnvironmentGrassGIS.ipynb\n",
        "\n",
        "The tools implementing the published methods are available at https://grass.osgeo.org/grass7/manuals/addons/."
      ]
    },
    {
      "cell_type": "markdown",
      "metadata": {
        "id": "-i2K8lJ4J1z4",
        "colab_type": "text"
      },
      "source": [
        "## Run Notes\n",
        "Click play button in upper left corner of code window to run script: <img src=\"https://raw.githubusercontent.com/gcmillar/CEUS/master/img/codebutton.png\" alt=\"runbutton\" width=\"14\" height=\"14\">\n",
        "<!-- ![alt text](https://raw.githubusercontent.com/gcmillar/CEUS/master/img/codebutton.png \"Logo Title Text 1\") -->\n",
        "\n",
        "Code cells with long computational times: <img src=\"https://raw.githubusercontent.com/gcmillar/CEUS/master/img/wait_time.png\" alt=\"runbutton\" width=\"25\" height=\"25\">\n"
      ]
    },
    {
      "cell_type": "markdown",
      "metadata": {
        "id": "e1s1-UILONus",
        "colab_type": "text"
      },
      "source": [
        "## Directory Structure\n",
        "\n",
        "<mark>... do if time ...</mark>\n",
        "\n",
        "<!-- The three elements of an algorithm are code, data and results. Code processes the data and outputs the results. In addition to that, we also specify the required runtime environment and metadata. This is how these elements map to the capsule file system:\n",
        "\n",
        "*   **Code** goes in the Code pane. Your code will be copied to the code directory at the beginning of each run.\n",
        "*   **Data** goes in the Data pane. Your data will be copied to the /data directory at the beginning of each run.\n",
        "*   **Results** include any plots, figures, and resulting data, which should be saved in the /results directory. At the end of the run, these files will appear in the Results pane where you can view and download them. -->\n",
        "\n",
        "---"
      ]
    },
    {
      "cell_type": "markdown",
      "metadata": {
        "id": "PZk_VvpuKf0F",
        "colab_type": "text"
      },
      "source": [
        "# Software: **R**\n",
        "\n",
        "---\n",
        "\n",
        "Very first, and most needed step, load cell magic for R, and then begin each R-script cell with: `%%R`  "
      ]
    },
    {
      "cell_type": "code",
      "metadata": {
        "id": "T03DfBR1Hrh3",
        "colab_type": "code",
        "colab": {}
      },
      "source": [
        "# activate R magic\n",
        "%load_ext rpy2.ipython"
      ],
      "execution_count": 0,
      "outputs": []
    },
    {
      "cell_type": "markdown",
      "metadata": {
        "id": "eRwEVbK3LaXX",
        "colab_type": "text"
      },
      "source": [
        "## Setup"
      ]
    },
    {
      "cell_type": "code",
      "metadata": {
        "id": "hjs1qjDF5_aE",
        "colab_type": "code",
        "colab": {}
      },
      "source": [
        "import warnings\n",
        "# warnings.filterwarnings(action='once')\n",
        "warnings.filterwarnings('ignore')"
      ],
      "execution_count": 0,
      "outputs": []
    },
    {
      "cell_type": "markdown",
      "metadata": {
        "id": "3UewP07YeyjZ",
        "colab_type": "text"
      },
      "source": [
        "### GDAL & Colaboratory Notebooks \n",
        "\n",
        "Need to setup the colaboratory notebook with GDAL, to be used in R. As this will be running on a ubuntu server, run \n",
        "*   `apt-get update`\n",
        "*   `apt-get install libgdal-dev` \n",
        "    *   – run this before trying to install GDAL otherwise you will get errors.\n",
        "    * The flag -y accepts the download and runs – this is the longest part (but not too long)\n",
        "*   Install python-gdal again with the -y flag\n",
        "*   Install NumPy and SciPy (not compulsory, but why not?)\n",
        "*   Test the installation by importing GDAL. No error? It should be ok.\n",
        "\n",
        "> **NOTE**: <img src=\"https://raw.githubusercontent.com/gcmillar/CEUS/master/img/wait_time.png\" alt=\"runbutton\" width=\"25\" height=\"25\">"
      ]
    },
    {
      "cell_type": "code",
      "metadata": {
        "id": "PIg3hmu1eLA_",
        "colab_type": "code",
        "colab": {}
      },
      "source": [
        "%%capture\n",
        "#Step 1\n",
        "!apt-get update\n",
        "#Step 2\n",
        "!apt-get install libgdal-dev -y\n",
        "#Step 3\n",
        "!apt-get install python-gdal -y\n",
        "#Step 4\n",
        "!apt-get install python-numpy python-scipy -y\n",
        "#Step 5\n",
        "import gdal "
      ],
      "execution_count": 0,
      "outputs": []
    },
    {
      "cell_type": "markdown",
      "metadata": {
        "id": "AvGtTNhMfhVU",
        "colab_type": "text"
      },
      "source": [
        "#### Install GDAL in R"
      ]
    },
    {
      "cell_type": "code",
      "metadata": {
        "id": "6KbcYcDbej7I",
        "colab_type": "code",
        "colab": {}
      },
      "source": [
        "%%R\n",
        "install.packages(\"rgdal\")\n",
        "library(rgdal);"
      ],
      "execution_count": 0,
      "outputs": []
    },
    {
      "cell_type": "markdown",
      "metadata": {
        "colab_type": "text",
        "id": "n9t-PhSneJ-H"
      },
      "source": [
        "### Install Required R Packages \n",
        "> **NOTE**: <img src=\"https://raw.githubusercontent.com/gcmillar/CEUS/master/img/wait_time.png\" alt=\"runbutton\" width=\"25\" height=\"25\">"
      ]
    },
    {
      "cell_type": "code",
      "metadata": {
        "id": "iS0OHB_vKpXC",
        "colab_type": "code",
        "colab": {}
      },
      "source": [
        "%%capture\n",
        "%%R\n",
        "options(digits = 8)\n",
        "if (!require(dplyr)) {install.packages(\"dplyr\"); library(dplyr)}\n",
        "if (!require(tidyr)) {install.packages(\"tidyr\"); library(tidyr)}\n",
        "if (!require(sp)) {install.packages(\"sp\"); library(sp)}\n",
        "if (!require(raster)) {install.packages(\"raster\"); library(raster)}\n",
        "if (!require(rgeos)) {install.packages(\"rgeos\"); library(rgeos)}\n",
        "if (!require(rgbif)) {install.packages(\"rgbif\"); library(rgbif)}\n",
        "if (!require(viridis)) {install.packages(\"viridis\"); library(viridis)}\n",
        "if (!require(gridExtra)) {install.packages(\"gridExtra\"); library(gridExtra)}\n",
        "if (!require(R.matlab)) {install.packages(\"R.matlab\"); library(R.matlab)}\n",
        "if (!require(plyr)) {install.packages(\"plyr\"); library(plyr)}\n",
        "if (!require(data.table)) {install.packages(\"data.table\"); library(data.table)}\n",
        "if (!require(maptools)) {install.packages(\"maptools\"); library(maptools)}\n",
        "if (!require(spatstat)) {install.packages(\"spatstat\"); library(spatstat)}\n",
        "if (!require(rasterVis)) {install.packages(\"rasterVis\"); library(rasterVis)}\n",
        "if (!require(leaflet)) {install.packages(\"leaflet\"); library(leaflet)}\n",
        "if (!require(RColorBrewer)) {install.packages(\"RColorBrewer\"); library(RColorBrewer)}\n",
        "if (!require(scales)) {install.packages(\"scales\"); library(scales)}\n",
        "if (!require(spgwr)) {install.packages(\"spgwr\"); library(spgwr)}\n",
        "if (!require(gdalUtils)) {install.packages(\"gdalUtils\"); library(gdalUtils)}\n",
        "if (!require(devtools)) {install.packages(\"devtools\"); library(devtools)}\n",
        "if (!require(tidyverse)) {install.packages(\"tidyverse\"); library(tidyverse)}\n",
        "if (!require(sf)) {install.packages(\"sf\"); library(sf)}\n",
        "if (!require(ggmap)) {install.packages(\"ggmap\"); library(ggmap)}\n",
        "if (!require(formatR)) {install.packages(\"formatR\"); library(formatR)}\n",
        "if (!require(stats)) {install.packages(\"stats\"); library(stats)}\n",
        "if (!require(data.table)) {install.packages(\"data.table\"); library(data.table)}\n",
        "if (!require(lubridate)) {install.packages(\"lubridate\"); library(lubridate)}\n",
        "if (!require(ggplot2)) {install.packages(\"ggplot2\"); library(ggplot2)}\n",
        "if (!require(grid)) {install.packages(\"grid\"); library(grid)}\n",
        "if (!require(gridExtra)) {install.packages(\"gridExtra\"); library(gridExtra)}\n",
        "if (!require(lattice)) {install.packages(\"lattice\"); library(lattice)}\n",
        "if (!require(leaflet)) {install.packages(\"leaflet\"); library(leaflet)};"
      ],
      "execution_count": 0,
      "outputs": []
    },
    {
      "cell_type": "markdown",
      "metadata": {
        "id": "2OV72uepLixb",
        "colab_type": "text"
      },
      "source": [
        "## Data Processing"
      ]
    },
    {
      "cell_type": "markdown",
      "metadata": {
        "id": "2oWgKcnyRZ2y",
        "colab_type": "text"
      },
      "source": [
        "Read in CEUS Initial Cyclist Data [.csv]; using [online link from GitHub](https://raw.githubusercontent.com/gcmillar/CEUS/master/CHIPS_all.csv):\n",
        "\n",
        "> **File Description**: Initial dataset for CEUS analysis (.csv of cyclists' location and physiological data) \n",
        "<!-- ~~~ -->\n",
        " <!-- **File Description**: Initial dataset for CEUS analysis (.csv of cyclists' location and physiological data)  -->\n",
        "<!-- ~~~ -->\n"
      ]
    },
    {
      "cell_type": "code",
      "metadata": {
        "id": "inzG0s8pPmmG",
        "colab_type": "code",
        "outputId": "7b8b881a-a5e9-4d1f-e08a-cd62e462dcee",
        "colab": {
          "base_uri": "https://localhost:8080/",
          "height": 210
        }
      },
      "source": [
        "# import csv\n",
        "!wget \"https://raw.githubusercontent.com/gcmillar/CEUS/master/CHIPS_all.csv\""
      ],
      "execution_count": 10,
      "outputs": [
        {
          "output_type": "stream",
          "text": [
            "--2020-01-25 18:47:32--  https://raw.githubusercontent.com/gcmillar/CEUS/master/CHIPS_all.csv\n",
            "Resolving raw.githubusercontent.com (raw.githubusercontent.com)... 151.101.0.133, 151.101.64.133, 151.101.128.133, ...\n",
            "Connecting to raw.githubusercontent.com (raw.githubusercontent.com)|151.101.0.133|:443... connected.\n",
            "HTTP request sent, awaiting response... 200 OK\n",
            "Length: 24581967 (23M) [text/plain]\n",
            "Saving to: ‘CHIPS_all.csv.2’\n",
            "\n",
            "\rCHIPS_all.csv.2       0%[                    ]       0  --.-KB/s               \rCHIPS_all.csv.2     100%[===================>]  23.44M   144MB/s    in 0.2s    \n",
            "\n",
            "2020-01-25 18:47:33 (144 MB/s) - ‘CHIPS_all.csv.2’ saved [24581967/24581967]\n",
            "\n"
          ],
          "name": "stdout"
        }
      ]
    },
    {
      "cell_type": "code",
      "metadata": {
        "id": "sPcnkvACLicK",
        "colab_type": "code",
        "outputId": "3d78cdba-9b66-45f2-c4ea-b72dfcc7734b",
        "colab": {
          "base_uri": "https://localhost:8080/",
          "height": 262
        }
      },
      "source": [
        "%%R\n",
        "setwd(\"/content/\")\n",
        "CHIPS_df <- read.table(\"CHIPS_all.csv\", header = TRUE, row.names=NULL, sep=\",\")\n",
        "setnames(CHIPS_df, \"long\", \"lon\")\n",
        "head(CHIPS_df)"
      ],
      "execution_count": 11,
      "outputs": [
        {
          "output_type": "display_data",
          "data": {
            "text/plain": [
              "  participant time conductance conductance_z      phasic    phasic_z      tonic\n",
              "1           1 0.00    0.793927    -1.3018331 0.066627671 0.009995110 0.72729933\n",
              "2           1 0.25    0.797768    -1.3012050 0.070468671 0.010623231 0.72729933\n",
              "3           1 0.50    0.793927    -1.3018331 0.066710821 0.010000283 0.72721618\n",
              "4           1 0.75    0.793927    -1.3018331 0.066901547 0.010013549 0.72702545\n",
              "5           1 1.00    0.795207    -1.3016238 0.068476940 0.010245688 0.72673006\n",
              "6           1 1.25    0.795207    -1.3016238 0.068863176 0.010278589 0.72634382\n",
              "     tonic_z       lat     lon altitude distance speed speed2 power\n",
              "1 -1.3118282 51.693625 5.04576        2        0     0      0     0\n",
              "2 -1.3118282 51.693625 5.04576        2        0     0      0     0\n",
              "3 -1.3118334 51.693625 5.04576        2        0     0      0     0\n",
              "4 -1.3118466 51.693625 5.04576        2        0     0      0     0\n",
              "5 -1.3118694 51.693625 5.04576        2        0     0      0     0\n",
              "6 -1.3119023 51.693625 5.04576        2        0     0      0     0\n"
            ]
          },
          "metadata": {
            "tags": []
          }
        }
      ]
    },
    {
      "cell_type": "markdown",
      "metadata": {
        "id": "eTFxJNzJLufO",
        "colab_type": "text"
      },
      "source": [
        "### Artifact Correction\n",
        "The script and descriptions below detail the process of removing the first and last 4.00% of the raw skin conductance data to correct for artifacts: \n",
        "Using time, we know 4.00% of `max(CHIPS_df$time)` is `max(CHIPS_df$time) * 0.040` seconds. So, we'll delete the first and last `max(CHIPS_df$time) * 0.040` seconds (or `max(CHIPS_df$time) * 0.040 / 60` \n",
        "minutes) in the data to remove the observed artifacts. Since the data was collected every 0.25 seconds, that means `round(max(CHIPS_df$time) * 0.040 * 4)` rows should be deleted at the beginning and end of the data set."
      ]
    },
    {
      "cell_type": "code",
      "metadata": {
        "id": "Rf48N1ZuLzGA",
        "colab_type": "code",
        "outputId": "96b529ac-064a-4fbc-a773-93af9a0c898d",
        "colab": {
          "base_uri": "https://localhost:8080/",
          "height": 385
        }
      },
      "source": [
        "%%R\n",
        "unique(CHIPS_df$participant)\n",
        "# keeping specific pt data\n",
        "CHIPS_pts <- CHIPS_df\n",
        "# data needs to first be separated by participants to remove artifacts \n",
        "pt1 <- CHIPS_pts[CHIPS_pts$participant == 1, ]\n",
        "pt2 <- CHIPS_pts[CHIPS_pts$participant == 2, ]\n",
        "pt3 <- CHIPS_pts[CHIPS_pts$participant == 3, ]\n",
        "pt4 <- CHIPS_pts[CHIPS_pts$participant == 4, ]\n",
        "pt5 <- CHIPS_pts[CHIPS_pts$participant == 5, ]\n",
        "pt6 <- CHIPS_pts[CHIPS_pts$participant == 6, ]\n",
        "pt7 <- CHIPS_pts[CHIPS_pts$participant == 7, ]\n",
        "pt8 <- CHIPS_pts[CHIPS_pts$participant == 8, ]\n",
        "pt9 <- CHIPS_pts[CHIPS_pts$participant == 9, ]\n",
        "pt10 <- CHIPS_pts[CHIPS_pts$participant == 10, ]\n",
        "pt11 <- CHIPS_pts[CHIPS_pts$participant == 11, ]\n",
        "pt12 <- CHIPS_pts[CHIPS_pts$participant == 12, ]\n",
        "# first rows\n",
        "N <- round(max(CHIPS_pts$time) * 0.040 * 4)\n",
        "pt1 <- pt1[-(1:N), , drop = FALSE]\n",
        "pt2 <- pt2[-(1:N), , drop = FALSE]\n",
        "pt3 <- pt3[-(1:N), , drop = FALSE]\n",
        "pt4 <- pt4[-(1:N), , drop = FALSE]\n",
        "pt5 <- pt5[-(1:N), , drop = FALSE]\n",
        "pt6 <- pt6[-(1:N), , drop = FALSE]\n",
        "pt7 <- pt7[-(1:N), , drop = FALSE]\n",
        "pt8 <- pt8[-(1:N), , drop = FALSE]\n",
        "pt9 <- pt9[-(1:N), , drop = FALSE]\n",
        "pt10 <- pt10[-(1:N), , drop = FALSE]\n",
        "pt11 <- pt11[-(1:N), , drop = FALSE]\n",
        "pt12 <- pt12[-(1:N), , drop = FALSE]\n",
        "# last rows\n",
        "N.2 <- round(max(CHIPS_pts$time) * 0.040 * 4)\n",
        "pt1 <- pt1[1:(nrow(pt1)-N.2),]\n",
        "pt2 <- pt2[1:(nrow(pt2)-N.2),]\n",
        "pt3 <- pt3[1:(nrow(pt3)-N.2),]\n",
        "pt4 <- pt4[1:(nrow(pt4)-N.2),]\n",
        "pt5 <- pt5[1:(nrow(pt5)-N.2),]\n",
        "pt6 <- pt6[1:(nrow(pt6)-N.2),]\n",
        "pt7 <- pt7[1:(nrow(pt7)-N.2),]\n",
        "pt8 <- pt8[1:(nrow(pt8)-N.2),]\n",
        "pt9 <- pt9[1:(nrow(pt9)-N.2),]\n",
        "pt10 <- pt10[1:(nrow(pt10)-N.2),]\n",
        "pt11 <- pt11[1:(nrow(pt11)-N.2),]\n",
        "pt12 <- pt12[1:(nrow(pt12)-N.2),]\n",
        "\n",
        "head(pt12)"
      ],
      "execution_count": 12,
      "outputs": [
        {
          "output_type": "display_data",
          "data": {
            "text/plain": [
              "       participant   time conductance conductance_z     phasic   phasic_z\n",
              "180492          12 180.00    1.736116   -0.89114065 0.43757066 0.50406617\n",
              "180493          12 180.25    1.750206   -0.87470662 0.43082627 0.49661933\n",
              "180494          12 180.50    1.748925   -0.87620073 0.41152351 0.47456467\n",
              "180495          12 180.75    1.768139   -0.85379025 0.41534734 0.47949793\n",
              "180496          12 181.00    1.757892   -0.86574196 0.39205259 0.45279037\n",
              "180497          12 181.25    1.688721   -0.94642037 0.31185251 0.35968177\n",
              "           tonic    tonic_z       lat      lon altitude distance speed speed2\n",
              "180492 1.2985453 -1.3952068 51.689022 5.049557      2.7   1373.3   0.0   0.00\n",
              "180493 1.3193797 -1.3713259 51.689022 5.049557      2.7   1373.3   0.0   0.00\n",
              "180494 1.3374015 -1.3507654 51.688829 5.049606      2.9   1395.0   5.4  19.44\n",
              "180495 1.3527917 -1.3332882 51.688829 5.049606      2.9   1395.0   5.4  19.44\n",
              "180496 1.3658394 -1.3185323 51.688829 5.049606      2.9   1395.0   5.4  19.44\n",
              "180497 1.3768685 -1.3061021 51.688829 5.049606      2.9   1395.0   5.4  19.44\n",
              "            power\n",
              "180492  47.020324\n",
              "180493  47.020324\n",
              "180494 216.721799\n",
              "180495 216.721799\n",
              "180496 216.721799\n",
              "180497 216.721799\n"
            ]
          },
          "metadata": {
            "tags": []
          }
        }
      ]
    },
    {
      "cell_type": "markdown",
      "metadata": {
        "id": "iUlGnMdvYSko",
        "colab_type": "text"
      },
      "source": [
        "### Joining \n",
        "All participant data that were just separated and cleaned by using time are re-included into the same data frame."
      ]
    },
    {
      "cell_type": "code",
      "metadata": {
        "attributes": {
          "cache": "TRUE",
          "classes": [],
          "id": "",
          "message": "FALSE,",
          "tidy": "TRUE,",
          "warning": "FALSE,"
        },
        "colab_type": "code",
        "id": "MT7OKP0XZCsN",
        "outputId": "3baff204-d403-4f0c-872e-8577af1d9f1d",
        "colab": {
          "base_uri": "https://localhost:8080/",
          "height": 332
        }
      },
      "source": [
        "%%R\n",
        "# join\n",
        "CHIPS_df_clean <- rbind(pt1, pt2, pt3, pt4, pt5, pt6, pt7, pt8, pt9, pt10, pt11, pt12)\n",
        "CHIPS_df_clean <- add_count(CHIPS_df_clean, lon, lat, name = \"data.points.n\")\n",
        "CHIPS_df_clean$lon.lat <- paste(CHIPS_df_clean$lon, CHIPS_df_clean$lat, sep=\",\")\n",
        "CHIPS_time.in.cell <- aggregate(time ~ lat + lon, data = CHIPS_df_clean, sum)\n",
        "# inspect resulting data\n",
        "print(head(CHIPS_df_clean))\n",
        "print(colnames(CHIPS_df_clean))\n",
        "nrow((CHIPS_df_clean))"
      ],
      "execution_count": 13,
      "outputs": [
        {
          "output_type": "display_data",
          "data": {
            "text/plain": [
              "# A tibble: 6 x 17\n",
              "  participant  time conductance conductance_z  phasic phasic_z tonic tonic_z\n",
              "        <int> <dbl>       <dbl>         <dbl>   <dbl>    <dbl> <dbl>   <dbl>\n",
              "1           1  180        0.789         -1.30 0.00781 0.00149  0.782   -1.30\n",
              "2           1  180.       0.789         -1.30 0.00651 0.00128  0.782   -1.30\n",
              "3           1  180.       0.788         -1.30 0.00522 0.00107  0.783   -1.30\n",
              "4           1  181.       0.788         -1.30 0.00393 0.000858 0.784   -1.30\n",
              "5           1  181        0.787         -1.30 0.00264 0.000654 0.785   -1.30\n",
              "6           1  181.       0.787         -1.30 0.00134 0.000453 0.785   -1.30\n",
              "# … with 9 more variables: lat <dbl>, lon <dbl>, altitude <dbl>,\n",
              "#   distance <dbl>, speed <dbl>, speed2 <dbl>, power <dbl>,\n",
              "#   data.points.n <int>, lon.lat <chr>\n",
              " [1] \"participant\"   \"time\"          \"conductance\"   \"conductance_z\"\n",
              " [5] \"phasic\"        \"phasic_z\"      \"tonic\"         \"tonic_z\"      \n",
              " [9] \"lat\"           \"lon\"           \"altitude\"      \"distance\"     \n",
              "[13] \"speed\"         \"speed2\"        \"power\"         \"data.points.n\"\n",
              "[17] \"lon.lat\"      \n",
              "[1] 179292\n"
            ]
          },
          "metadata": {
            "tags": []
          }
        }
      ]
    },
    {
      "cell_type": "markdown",
      "metadata": {
        "id": "ZWLfza5-Yf3l",
        "colab_type": "text"
      },
      "source": [
        "### Skin Conductance\n",
        "\n",
        "<mark>**Should this code be included, since the resulting charts didn't end up making the paper?**</mark>\n",
        "\n",
        "Half participants went Waalwijk --> Tilburg, other half went Tilburg --> Waalwijk:\n",
        "*   `Waalwijk --> Tilburg: 1, 3, 4, 10, 11, 12`\n",
        "*   `Tilburg --> Waalwijk: 2, 5, 6, 7, 8, 9`\n",
        "Groups need to be split for proper GPS data visualiztion\n",
        "\n",
        "Plotting SCR data as a function of elevation and speed by time stamps of each way point using `ggplot`. This helps examine examine potentially confounding effects between variables.\n",
        "\n",
        "As to not confuse ggplot, we do not pass the `SpatialPointsDataFrame`-object directly, but convert it to a regular data frame with `as.data.frame()`:"
      ]
    },
    {
      "cell_type": "code",
      "metadata": {
        "attributes": {
          "cache": "TRUE",
          "classes": [],
          "dpi": "300,",
          "fig.align": "'center',",
          "fig.cap": "\"\",",
          "fig.height": "5,",
          "id": "",
          "message": "FALSE,",
          "tidy": "TRUE,",
          "warning": "FALSE,"
        },
        "id": "Cc9tQ1-oYEfs",
        "colab_type": "code",
        "outputId": "44ce6556-da9b-4a05-ea52-3b2524b6e700",
        "colab": {
          "base_uri": "https://localhost:8080/",
          "height": 0
        }
      },
      "source": [
        "%%R\n",
        "CHIPS_df_clean$direction <- NA\n",
        "CHIPS_df_clean$direction[which(CHIPS_df_clean$participant %in% c(1, 3, 4, 10, 11, 12))] <- \"waal_til\"\n",
        "CHIPS_df_clean$direction[which(CHIPS_df_clean$participant %in% c(2, 5, 6, 7, 8, 9))] <- \"til_waal\"\n",
        "CHIPS_df_clean$direction <- as.factor(CHIPS_df_clean$direction)\n",
        "CHIPS_waal_til <- subset(CHIPS_df_clean, direction==\"waal_til\")\n",
        "CHIPS_til_waal <- subset(CHIPS_df_clean, direction==\"til_waal\")\n",
        "head(CHIPS_df_clean$direction)\n",
        "head(CHIPS_waal_til)\n",
        "head(CHIPS_til_waal)"
      ],
      "execution_count": 10,
      "outputs": [
        {
          "output_type": "display_data",
          "data": {
            "text/plain": [
              "# A tibble: 6 x 18\n",
              "  participant  time conductance conductance_z phasic phasic_z tonic tonic_z\n",
              "        <int> <dbl>       <dbl>         <dbl>  <dbl>    <dbl> <dbl>   <dbl>\n",
              "1           2  180         4.16         0.153  0.513    0.196  3.65 -0.0424\n",
              "2           2  180.        4.14         0.147  0.501    0.191  3.64 -0.0440\n",
              "3           2  180.        4.50         0.279  0.864    0.324  3.64 -0.0456\n",
              "4           2  181.        4.50         0.278  0.867    0.325  3.63 -0.0472\n",
              "5           2  181         4.40         0.243  0.776    0.292  3.63 -0.0489\n",
              "6           2  181.        4.33         0.215  0.706    0.265  3.62 -0.0506\n",
              "# … with 10 more variables: lat <dbl>, lon <dbl>, altitude <dbl>,\n",
              "#   distance <dbl>, speed <dbl>, speed2 <dbl>, power <dbl>,\n",
              "#   data.points.n <int>, lon.lat <chr>, direction <fct>\n"
            ]
          },
          "metadata": {
            "tags": []
          }
        }
      ]
    },
    {
      "cell_type": "code",
      "metadata": {
        "id": "_vlxAUOkaD1I",
        "colab_type": "code",
        "outputId": "6d929c6b-d120-4d6a-acfc-7cf2329a2b1f",
        "colab": {
          "base_uri": "https://localhost:8080/",
          "height": 0
        }
      },
      "source": [
        "%%R\n",
        "# restricting decimal places for graphs\n",
        "options(digits = 0)\n",
        "# plot of time and elevation, colored by skin conductance\n",
        "# CHIPS_waal_til\n",
        "time_elev_conduct_plot.waal_til <- ggplot(as.data.frame(CHIPS_waal_til), # convert to regular dataframe\n",
        "                                          aes(x=time, y=altitude, color = phasic_z)) +\n",
        "  scale_color_gradient2(low= \"dodgerblue4\", mid=\"slategray2\", high=\"red3\",\n",
        "                        midpoint = median(CHIPS_df$phasic_z),\n",
        "                        breaks=seq(min(CHIPS_df$phasic_z), max(CHIPS_df$phasic_z),\n",
        "                                    (max(CHIPS_df$phasic_z)-min(CHIPS_df$phasic_z))/4)) +\n",
        "  theme(panel.grid.major = element_line(colour = \"#808080\"),\n",
        "        legend.title = element_blank()) +\n",
        "  theme_linedraw(base_size = 28) +\n",
        "  geom_point(alpha = 0.6, size = 3.5, show.legend = FALSE) + \n",
        "  geom_smooth(span = 0.3, colour=\"#90CA77\", size=3, alpha=0.6) +\n",
        "   # theme_bw() + \n",
        "   ggtitle(\"Waalwijk to Tilburg\") +\n",
        "  labs(x='\\nCycling time', y='')\n",
        "\n",
        "# CHIPS_til_waal\n",
        "CHIPS_til_waal[order(CHIPS_til_waal$distance),]\n",
        "CHIPS_til_waal$participant[1:50]\n",
        "time_elev_conduct_plot.til_waal <- ggplot(as.data.frame(CHIPS_til_waal), # convert to regular dataframe\n",
        "            aes(x=time, y=altitude, color = phasic_z)) +\n",
        "  scale_color_gradient2(low= \"dodgerblue4\", mid=\"slategray2\", high=\"red3\", \n",
        "                       midpoint = median(CHIPS_df$phasic_z),\n",
        "                       breaks=seq(min(CHIPS_df$phasic_z), max(CHIPS_df$phasic_z),\n",
        "                                    (max(CHIPS_df$phasic_z)-min(CHIPS_df$phasic_z))/4)) +\n",
        "  theme(panel.grid.major = element_line(colour = \"#808080\")) +\n",
        "  theme_linedraw(base_size = 28) +\n",
        "  geom_point(alpha = 0.6, size = 3.5, show.legend = FALSE) + \n",
        "  geom_smooth(span = 0.3, colour=\"#90CA77\", size=3, alpha=0.6) +\n",
        "  ggtitle(\"Tilburg to Waalwijk\") +\n",
        "  labs(x='\\nCycling time', y='')\n",
        "# together\n",
        "grid.arrange(time_elev_conduct_plot.waal_til, time_elev_conduct_plot.til_waal, ncol=2)\n",
        "\n",
        "# plot of time and speed, colored by skin conductance\n",
        "# CHIPS_waal_til\n",
        "\n",
        "# subset(CHIPS_waal_til, CHIPS_waal_til$participant==9,CHIPS_waal_til$distance>100)\n",
        "\n",
        "time_speed_conduct_plot.waal_til <- ggplot(as.data.frame(CHIPS_waal_til), # convert to regular dataframe\n",
        "                                          aes(x=time, y=speed, color = phasic_z)) +\n",
        "  geom_smooth(span = 0.3, colour=\"darkgray\", size=3, alpha=0.6) +\n",
        "  scale_color_gradient2(low= \"dodgerblue4\", mid=\"slategray2\", high=\"red3\", \n",
        "                        midpoint = median(CHIPS_df$phasic_z),\n",
        "                        breaks=seq(min(CHIPS_df$phasic_z), max(CHIPS_df$phasic_z),\n",
        "                                    (max(CHIPS_df$phasic_z)-min(CHIPS_df$phasic_z))/4)) +\n",
        "  theme(panel.grid.major = element_line(colour = \"#808080\"),\n",
        "        legend.title = element_blank()) +\n",
        "  theme_linedraw(base_size = 28) +\n",
        "  geom_point(alpha = 0.6, size = 3.5, show.legend = FALSE) + \n",
        "  geom_smooth(span = 0.3, colour=\"#90CA77\", size=3, alpha=0.6) +\n",
        "   # theme_bw() + \n",
        "   ggtitle(\"Waalwijk to Tilburg\") +\n",
        "  labs(x='\\nCycling time', y='')\n",
        "# CHIPS_til_waal\n",
        "time_speed_conduct_plot.til_waal <- ggplot(as.data.frame(CHIPS_til_waal), # convert to regular dataframe\n",
        "            aes(x=time, y=speed, color = phasic_z)) +\n",
        "  geom_smooth(span = 0.3, colour=\"darkgray\", size=3, alpha=0.6) +\n",
        "  scale_color_gradient2(low= \"dodgerblue4\", mid=\"slategray2\", high=\"red3\", \n",
        "                       midpoint = median(CHIPS_df$phasic_z),\n",
        "                       breaks=seq(min(CHIPS_df$phasic_z), max(CHIPS_df$phasic_z),\n",
        "                                    (max(CHIPS_df$phasic_z)-min(CHIPS_df$phasic_z))/4)) +\n",
        "  theme(panel.grid.major = element_line(colour = \"#808080\")) +\n",
        "  theme_linedraw(base_size = 28) +\n",
        "  geom_point(alpha = 0.6, size = 3.5, show.legend = FALSE) + \n",
        "  geom_smooth(span = 0.3, colour=\"#90CA77\", size=3, alpha=0.6) +\n",
        "  ggtitle(\"Tilburg to Waalwijk\") +\n",
        "  labs(x='\\nCycling time', y='')\n",
        "# together\n",
        "grid.arrange(time_speed_conduct_plot.waal_til, time_speed_conduct_plot.til_waal, ncol=2)\n",
        "\n",
        "\n",
        "# direction instead of time on x axis\n",
        "# first elevation\n",
        "# order_by(CHIPS_waal_til$altitude, CHIPS_waal_til$distance)\n",
        "CHIPS_waal_til <- subset(CHIPS_waal_til, distance>=100)\n",
        "dist_elev_conduct_plot.waal_til <- ggplot(as.data.frame(CHIPS_waal_til), # convert to regular dataframe\n",
        "                                          aes(x=distance, y=altitude, color = phasic_z)) +\n",
        "  scale_color_gradient2(low= \"dodgerblue4\", mid=\"slategray2\", high=\"red3\",\n",
        "                        midpoint = median(CHIPS_df$phasic_z),\n",
        "                        breaks=seq(min(CHIPS_df$phasic_z), max(CHIPS_df$phasic_z),\n",
        "                                    (max(CHIPS_df$phasic_z)-min(CHIPS_df$phasic_z))/4)) +\n",
        "  theme(panel.grid.major = element_line(colour = \"#808080\"),\n",
        "        legend.title = element_blank()) +\n",
        "  theme_linedraw(base_size = 28) +\n",
        "  geom_point(alpha = 0.6, size = 3.5, show.legend = FALSE) + \n",
        "  geom_smooth(span = 0.3, colour=\"#90CA77\", size=3, alpha=0.6) +\n",
        "   # theme_bw() + \n",
        "   ggtitle(\"Waalwijk to Tilburg\") +\n",
        "  labs(x='\\nDistance (m)', y='')\n",
        "\n",
        "# CHIPS_til_waal\n",
        "CHIPS_til_waal <- subset(CHIPS_til_waal, distance>=100)\n",
        "dist_elev_conduct_plot.til_waal <- ggplot(as.data.frame(CHIPS_til_waal), # convert to regular dataframe\n",
        "            aes(x=distance, y=altitude, color = phasic_z)) +\n",
        "  scale_color_gradient2(low= \"dodgerblue4\", mid=\"slategray2\", high=\"red3\", \n",
        "                       midpoint = median(CHIPS_df$phasic_z),\n",
        "                       breaks=seq(min(CHIPS_df$phasic_z), max(CHIPS_df$phasic_z),\n",
        "                                    (max(CHIPS_df$phasic_z)-min(CHIPS_df$phasic_z))/4)) +\n",
        "  theme(panel.grid.major = element_line(colour = \"#808080\")) +\n",
        "  theme_linedraw(base_size = 28) +\n",
        "  geom_point(alpha = 0.6, size = 3.5, show.legend = FALSE) + \n",
        "  geom_smooth(span = 0.3, colour=\"#90CA77\", size=3, alpha=0.6) +\n",
        "  ggtitle(\"Tilburg to Waalwijk\") +\n",
        "  labs(x='\\nDistance (m)', y='')\n",
        "# together\n",
        "grid.arrange(dist_elev_conduct_plot.waal_til,dist_elev_conduct_plot.til_waal, ncol=2)\n",
        "\n",
        "\n",
        "# now for speed\n",
        "\n",
        "dist_speed_conduct_plot.waal_til <- ggplot(as.data.frame(CHIPS_waal_til), # convert to regular dataframe\n",
        "                                          aes(x=distance, y=speed, color = phasic_z)) +\n",
        "  scale_color_gradient2(low= \"dodgerblue4\", mid=\"slategray2\", high=\"red3\",\n",
        "                        midpoint = median(CHIPS_df$phasic_z),\n",
        "                        breaks=seq(min(CHIPS_df$phasic_z), max(CHIPS_df$phasic_z),\n",
        "                                    (max(CHIPS_df$phasic_z)-min(CHIPS_df$phasic_z))/4)) +\n",
        "  theme(panel.grid.major = element_line(colour = \"#808080\"),\n",
        "        legend.title = element_blank()) +\n",
        "  theme_linedraw(base_size = 28) +\n",
        "  geom_point(alpha = 0.6, size = 3.5, show.legend = FALSE) + \n",
        "  geom_point() + \n",
        "  geom_smooth(span = 0.3, colour=\"#90CA77\", size=3, alpha=0.6) +\n",
        "   # theme_bw() + \n",
        "   ggtitle(\"Waalwijk to Tilburg\") +\n",
        "  labs(x='\\nDistance (m)', y='')\n",
        "\n",
        "# CHIPS_til_waal\n",
        "CHIPS_til_waal <- subset(CHIPS_til_waal, speed>0)\n",
        "dist_speed_conduct_plot.til_waal <- ggplot(as.data.frame(CHIPS_til_waal), # convert to regular dataframe\n",
        "            aes(x=distance, y=speed, color = phasic_z)) +\n",
        "  scale_color_gradient2(low= \"dodgerblue4\", mid=\"slategray2\", high=\"red3\", \n",
        "                       midpoint = median(CHIPS_df$phasic_z),\n",
        "                       breaks=seq(min(CHIPS_df$phasic_z), max(CHIPS_df$phasic_z),\n",
        "                                    (max(CHIPS_df$phasic_z)-min(CHIPS_df$phasic_z))/4)) +\n",
        "  theme(panel.grid.major = element_line(colour = \"#808080\")) +\n",
        "  theme_linedraw(base_size = 28) +\n",
        "  geom_point(alpha = 0.6, size = 3.5, show.legend = FALSE) + \n",
        "  geom_smooth(span = 0.3, colour=\"#90CA77\", size=3, alpha=0.6) +\n",
        "  ggtitle(\"Tilburg to Waalwijk\") +\n",
        "  labs(x='\\nDistance (m)', y='')\n",
        "# together\n",
        "grid.arrange(dist_speed_conduct_plot.waal_til,dist_speed_conduct_plot.til_waal, ncol=2)"
      ],
      "execution_count": 11,
      "outputs": [
        {
          "output_type": "error",
          "ename": "KeyboardInterrupt",
          "evalue": "ignored",
          "traceback": [
            "\u001b[0;31m---------------------------------------------------------------------------\u001b[0m",
            "\u001b[0;31mKeyboardInterrupt\u001b[0m                         Traceback (most recent call last)",
            "\u001b[0;32m/usr/local/lib/python3.6/dist-packages/rpy2/rinterface/__init__.py\u001b[0m in \u001b[0;36mconsoleWarn\u001b[0;34m(x)\u001b[0m\n\u001b[1;32m    143\u001b[0m \u001b[0mset_writeconsole_regular\u001b[0m\u001b[0;34m(\u001b[0m\u001b[0mconsolePrint\u001b[0m\u001b[0;34m)\u001b[0m\u001b[0;34m\u001b[0m\u001b[0;34m\u001b[0m\u001b[0m\n\u001b[1;32m    144\u001b[0m \u001b[0;34m\u001b[0m\u001b[0m\n\u001b[0;32m--> 145\u001b[0;31m \u001b[0;32mdef\u001b[0m \u001b[0mconsoleWarn\u001b[0m\u001b[0;34m(\u001b[0m\u001b[0mx\u001b[0m\u001b[0;34m)\u001b[0m\u001b[0;34m:\u001b[0m\u001b[0;34m\u001b[0m\u001b[0;34m\u001b[0m\u001b[0m\n\u001b[0m\u001b[1;32m    146\u001b[0m     \u001b[0mwarnings\u001b[0m\u001b[0;34m.\u001b[0m\u001b[0mwarn\u001b[0m\u001b[0;34m(\u001b[0m\u001b[0mx\u001b[0m\u001b[0;34m,\u001b[0m \u001b[0mRRuntimeWarning\u001b[0m\u001b[0;34m)\u001b[0m\u001b[0;34m\u001b[0m\u001b[0;34m\u001b[0m\u001b[0m\n\u001b[1;32m    147\u001b[0m \u001b[0mset_writeconsole_warnerror\u001b[0m\u001b[0;34m(\u001b[0m\u001b[0mconsoleWarn\u001b[0m\u001b[0;34m)\u001b[0m\u001b[0;34m\u001b[0m\u001b[0;34m\u001b[0m\u001b[0m\n",
            "\u001b[0;31mKeyboardInterrupt\u001b[0m: "
          ]
        },
        {
          "output_type": "error",
          "ename": "KeyboardInterrupt",
          "evalue": "ignored",
          "traceback": [
            "\u001b[0;31m---------------------------------------------------------------------------\u001b[0m",
            "\u001b[0;31mKeyboardInterrupt\u001b[0m                         Traceback (most recent call last)",
            "\u001b[0;32m/usr/local/lib/python3.6/dist-packages/rpy2/rinterface/__init__.py\u001b[0m in \u001b[0;36mconsoleWarn\u001b[0;34m(x)\u001b[0m\n\u001b[1;32m    143\u001b[0m \u001b[0mset_writeconsole_regular\u001b[0m\u001b[0;34m(\u001b[0m\u001b[0mconsolePrint\u001b[0m\u001b[0;34m)\u001b[0m\u001b[0;34m\u001b[0m\u001b[0;34m\u001b[0m\u001b[0m\n\u001b[1;32m    144\u001b[0m \u001b[0;34m\u001b[0m\u001b[0m\n\u001b[0;32m--> 145\u001b[0;31m \u001b[0;32mdef\u001b[0m \u001b[0mconsoleWarn\u001b[0m\u001b[0;34m(\u001b[0m\u001b[0mx\u001b[0m\u001b[0;34m)\u001b[0m\u001b[0;34m:\u001b[0m\u001b[0;34m\u001b[0m\u001b[0;34m\u001b[0m\u001b[0m\n\u001b[0m\u001b[1;32m    146\u001b[0m     \u001b[0mwarnings\u001b[0m\u001b[0;34m.\u001b[0m\u001b[0mwarn\u001b[0m\u001b[0;34m(\u001b[0m\u001b[0mx\u001b[0m\u001b[0;34m,\u001b[0m \u001b[0mRRuntimeWarning\u001b[0m\u001b[0;34m)\u001b[0m\u001b[0;34m\u001b[0m\u001b[0;34m\u001b[0m\u001b[0m\n\u001b[1;32m    147\u001b[0m \u001b[0mset_writeconsole_warnerror\u001b[0m\u001b[0;34m(\u001b[0m\u001b[0mconsoleWarn\u001b[0m\u001b[0;34m)\u001b[0m\u001b[0;34m\u001b[0m\u001b[0;34m\u001b[0m\u001b[0m\n",
            "\u001b[0;31mKeyboardInterrupt\u001b[0m: "
          ]
        },
        {
          "output_type": "error",
          "ename": "KeyboardInterrupt",
          "evalue": "ignored",
          "traceback": [
            "\u001b[0;31m---------------------------------------------------------------------------\u001b[0m",
            "\u001b[0;31mKeyboardInterrupt\u001b[0m                         Traceback (most recent call last)",
            "\u001b[0;32m<ipython-input-11-bddb90938d3b>\u001b[0m in \u001b[0;36m<module>\u001b[0;34m()\u001b[0m\n\u001b[0;32m----> 1\u001b[0;31m \u001b[0mget_ipython\u001b[0m\u001b[0;34m(\u001b[0m\u001b[0;34m)\u001b[0m\u001b[0;34m.\u001b[0m\u001b[0mrun_cell_magic\u001b[0m\u001b[0;34m(\u001b[0m\u001b[0;34m'R'\u001b[0m\u001b[0;34m,\u001b[0m \u001b[0;34m''\u001b[0m\u001b[0;34m,\u001b[0m \u001b[0;34m'# restricting decimal places for graphs\\noptions(digits = 0)\\n# plot of time and elevation, colored by skin conductance\\n# CHIPS_waal_til\\ntime_elev_conduct_plot.waal_til <- ggplot(as.data.frame(CHIPS_waal_til), # convert to regular dataframe\\n                                          aes(x=time, y=altitude, color = phasic_z)) +\\n  scale_color_gradient2(low= \"dodgerblue4\", mid=\"slategray2\", high=\"red3\",\\n                        midpoint = median(CHIPS_df$phasic_z),\\n                        breaks=seq(min(CHIPS_df$phasic_z), max(CHIPS_df$phasic_z),\\n                                    (max(CHIPS_df$phasic_z)-min(CHIPS_df$phasic_z))/4)) +\\n  theme(panel.grid.major = element_line(colour = \"#808080\"),\\n        legend.title = element_blank()) +\\n  theme_linedraw(base_size = 28) +\\n  geom_point(alpha = 0.6, size = 3.5, show.legend = FALSE) + \\n  geom_smooth(span = 0.3, colour=\"#90CA77\", size=3, alpha=0.6) +\\n   # theme_bw() + \\n   ggtitle(\"Waalwijk to Tilburg\") +\\n  labs(x=\\'\\\\nCycling time\\', y=\\'\\')\\n\\n# CHIPS_til_waal\\nCHIPS_til_waal[order(CHIPS_til_waal$distance),]\\nCHIPS_til_waal$participant[1:50]\\ntime_elev_conduct_plot.til_waal <- ggplot(as.data.frame(CHIPS_til_waal), # convert to regular dataframe\\n            aes(x=time, y=altitude, color = phasic_z)) +\\n  scale_color_gradient2(low= \"dodgerblue4\", mid...\n\u001b[0m",
            "\u001b[0;32m/usr/local/lib/python3.6/dist-packages/IPython/core/interactiveshell.py\u001b[0m in \u001b[0;36mrun_cell_magic\u001b[0;34m(self, magic_name, line, cell)\u001b[0m\n\u001b[1;32m   2115\u001b[0m             \u001b[0mmagic_arg_s\u001b[0m \u001b[0;34m=\u001b[0m \u001b[0mself\u001b[0m\u001b[0;34m.\u001b[0m\u001b[0mvar_expand\u001b[0m\u001b[0;34m(\u001b[0m\u001b[0mline\u001b[0m\u001b[0;34m,\u001b[0m \u001b[0mstack_depth\u001b[0m\u001b[0;34m)\u001b[0m\u001b[0;34m\u001b[0m\u001b[0;34m\u001b[0m\u001b[0m\n\u001b[1;32m   2116\u001b[0m             \u001b[0;32mwith\u001b[0m \u001b[0mself\u001b[0m\u001b[0;34m.\u001b[0m\u001b[0mbuiltin_trap\u001b[0m\u001b[0;34m:\u001b[0m\u001b[0;34m\u001b[0m\u001b[0;34m\u001b[0m\u001b[0m\n\u001b[0;32m-> 2117\u001b[0;31m                 \u001b[0mresult\u001b[0m \u001b[0;34m=\u001b[0m \u001b[0mfn\u001b[0m\u001b[0;34m(\u001b[0m\u001b[0mmagic_arg_s\u001b[0m\u001b[0;34m,\u001b[0m \u001b[0mcell\u001b[0m\u001b[0;34m)\u001b[0m\u001b[0;34m\u001b[0m\u001b[0;34m\u001b[0m\u001b[0m\n\u001b[0m\u001b[1;32m   2118\u001b[0m             \u001b[0;32mreturn\u001b[0m \u001b[0mresult\u001b[0m\u001b[0;34m\u001b[0m\u001b[0;34m\u001b[0m\u001b[0m\n\u001b[1;32m   2119\u001b[0m \u001b[0;34m\u001b[0m\u001b[0m\n",
            "\u001b[0;32m</usr/local/lib/python3.6/dist-packages/decorator.py:decorator-gen-127>\u001b[0m in \u001b[0;36mR\u001b[0;34m(self, line, cell, local_ns)\u001b[0m\n",
            "\u001b[0;32m/usr/local/lib/python3.6/dist-packages/IPython/core/magic.py\u001b[0m in \u001b[0;36m<lambda>\u001b[0;34m(f, *a, **k)\u001b[0m\n\u001b[1;32m    186\u001b[0m     \u001b[0;31m# but it's overkill for just that one bit of state.\u001b[0m\u001b[0;34m\u001b[0m\u001b[0;34m\u001b[0m\u001b[0;34m\u001b[0m\u001b[0m\n\u001b[1;32m    187\u001b[0m     \u001b[0;32mdef\u001b[0m \u001b[0mmagic_deco\u001b[0m\u001b[0;34m(\u001b[0m\u001b[0marg\u001b[0m\u001b[0;34m)\u001b[0m\u001b[0;34m:\u001b[0m\u001b[0;34m\u001b[0m\u001b[0;34m\u001b[0m\u001b[0m\n\u001b[0;32m--> 188\u001b[0;31m         \u001b[0mcall\u001b[0m \u001b[0;34m=\u001b[0m \u001b[0;32mlambda\u001b[0m \u001b[0mf\u001b[0m\u001b[0;34m,\u001b[0m \u001b[0;34m*\u001b[0m\u001b[0ma\u001b[0m\u001b[0;34m,\u001b[0m \u001b[0;34m**\u001b[0m\u001b[0mk\u001b[0m\u001b[0;34m:\u001b[0m \u001b[0mf\u001b[0m\u001b[0;34m(\u001b[0m\u001b[0;34m*\u001b[0m\u001b[0ma\u001b[0m\u001b[0;34m,\u001b[0m \u001b[0;34m**\u001b[0m\u001b[0mk\u001b[0m\u001b[0;34m)\u001b[0m\u001b[0;34m\u001b[0m\u001b[0;34m\u001b[0m\u001b[0m\n\u001b[0m\u001b[1;32m    189\u001b[0m \u001b[0;34m\u001b[0m\u001b[0m\n\u001b[1;32m    190\u001b[0m         \u001b[0;32mif\u001b[0m \u001b[0mcallable\u001b[0m\u001b[0;34m(\u001b[0m\u001b[0marg\u001b[0m\u001b[0;34m)\u001b[0m\u001b[0;34m:\u001b[0m\u001b[0;34m\u001b[0m\u001b[0;34m\u001b[0m\u001b[0m\n",
            "\u001b[0;32m/usr/local/lib/python3.6/dist-packages/rpy2/ipython/rmagic.py\u001b[0m in \u001b[0;36mR\u001b[0;34m(self, line, cell, local_ns)\u001b[0m\n\u001b[1;32m    702\u001b[0m                     \u001b[0mreturn_output\u001b[0m \u001b[0;34m=\u001b[0m \u001b[0;32mFalse\u001b[0m\u001b[0;34m\u001b[0m\u001b[0;34m\u001b[0m\u001b[0m\n\u001b[1;32m    703\u001b[0m             \u001b[0;32melse\u001b[0m\u001b[0;34m:\u001b[0m\u001b[0;34m\u001b[0m\u001b[0;34m\u001b[0m\u001b[0m\n\u001b[0;32m--> 704\u001b[0;31m                 \u001b[0mtext_result\u001b[0m\u001b[0;34m,\u001b[0m \u001b[0mresult\u001b[0m\u001b[0;34m,\u001b[0m \u001b[0mvisible\u001b[0m \u001b[0;34m=\u001b[0m \u001b[0mself\u001b[0m\u001b[0;34m.\u001b[0m\u001b[0meval\u001b[0m\u001b[0;34m(\u001b[0m\u001b[0mcode\u001b[0m\u001b[0;34m)\u001b[0m\u001b[0;34m\u001b[0m\u001b[0;34m\u001b[0m\u001b[0m\n\u001b[0m\u001b[1;32m    705\u001b[0m                 \u001b[0mtext_output\u001b[0m \u001b[0;34m+=\u001b[0m \u001b[0mtext_result\u001b[0m\u001b[0;34m\u001b[0m\u001b[0;34m\u001b[0m\u001b[0m\n\u001b[1;32m    706\u001b[0m                 \u001b[0;32mif\u001b[0m \u001b[0mvisible\u001b[0m\u001b[0;34m:\u001b[0m\u001b[0;34m\u001b[0m\u001b[0;34m\u001b[0m\u001b[0m\n",
            "\u001b[0;32m/usr/local/lib/python3.6/dist-packages/rpy2/ipython/rmagic.py\u001b[0m in \u001b[0;36meval\u001b[0;34m(self, code)\u001b[0m\n\u001b[1;32m    252\u001b[0m         \u001b[0;32mtry\u001b[0m\u001b[0;34m:\u001b[0m\u001b[0;34m\u001b[0m\u001b[0;34m\u001b[0m\u001b[0m\n\u001b[1;32m    253\u001b[0m             \u001b[0;31m# Need the newline in case the last line in code is a comment\u001b[0m\u001b[0;34m\u001b[0m\u001b[0;34m\u001b[0m\u001b[0;34m\u001b[0m\u001b[0m\n\u001b[0;32m--> 254\u001b[0;31m             \u001b[0mvalue\u001b[0m\u001b[0;34m,\u001b[0m \u001b[0mvisible\u001b[0m \u001b[0;34m=\u001b[0m \u001b[0mro\u001b[0m\u001b[0;34m.\u001b[0m\u001b[0mr\u001b[0m\u001b[0;34m(\u001b[0m\u001b[0;34m\"withVisible({%s\\n})\"\u001b[0m \u001b[0;34m%\u001b[0m \u001b[0mcode\u001b[0m\u001b[0;34m)\u001b[0m\u001b[0;34m\u001b[0m\u001b[0;34m\u001b[0m\u001b[0m\n\u001b[0m\u001b[1;32m    255\u001b[0m         \u001b[0;32mexcept\u001b[0m \u001b[0;34m(\u001b[0m\u001b[0mri\u001b[0m\u001b[0;34m.\u001b[0m\u001b[0mRRuntimeError\u001b[0m\u001b[0;34m,\u001b[0m \u001b[0mValueError\u001b[0m\u001b[0;34m)\u001b[0m \u001b[0;32mas\u001b[0m \u001b[0mexception\u001b[0m\u001b[0;34m:\u001b[0m\u001b[0;34m\u001b[0m\u001b[0;34m\u001b[0m\u001b[0m\n\u001b[1;32m    256\u001b[0m             \u001b[0mwarning_or_other_msg\u001b[0m \u001b[0;34m=\u001b[0m \u001b[0mself\u001b[0m\u001b[0;34m.\u001b[0m\u001b[0mflush\u001b[0m\u001b[0;34m(\u001b[0m\u001b[0;34m)\u001b[0m \u001b[0;31m# otherwise next return seems to have copy of error\u001b[0m\u001b[0;34m\u001b[0m\u001b[0;34m\u001b[0m\u001b[0m\n",
            "\u001b[0;32m/usr/local/lib/python3.6/dist-packages/rpy2/robjects/__init__.py\u001b[0m in \u001b[0;36m__call__\u001b[0;34m(self, string)\u001b[0m\n\u001b[1;32m    350\u001b[0m     \u001b[0;32mdef\u001b[0m \u001b[0m__call__\u001b[0m\u001b[0;34m(\u001b[0m\u001b[0mself\u001b[0m\u001b[0;34m,\u001b[0m \u001b[0mstring\u001b[0m\u001b[0;34m)\u001b[0m\u001b[0;34m:\u001b[0m\u001b[0;34m\u001b[0m\u001b[0;34m\u001b[0m\u001b[0m\n\u001b[1;32m    351\u001b[0m         \u001b[0mp\u001b[0m \u001b[0;34m=\u001b[0m \u001b[0m_rparse\u001b[0m\u001b[0;34m(\u001b[0m\u001b[0mtext\u001b[0m\u001b[0;34m=\u001b[0m\u001b[0mStrSexpVector\u001b[0m\u001b[0;34m(\u001b[0m\u001b[0;34m(\u001b[0m\u001b[0mstring\u001b[0m\u001b[0;34m,\u001b[0m\u001b[0;34m)\u001b[0m\u001b[0;34m)\u001b[0m\u001b[0;34m)\u001b[0m\u001b[0;34m\u001b[0m\u001b[0;34m\u001b[0m\u001b[0m\n\u001b[0;32m--> 352\u001b[0;31m         \u001b[0mres\u001b[0m \u001b[0;34m=\u001b[0m \u001b[0mself\u001b[0m\u001b[0;34m.\u001b[0m\u001b[0meval\u001b[0m\u001b[0;34m(\u001b[0m\u001b[0mp\u001b[0m\u001b[0;34m)\u001b[0m\u001b[0;34m\u001b[0m\u001b[0;34m\u001b[0m\u001b[0m\n\u001b[0m\u001b[1;32m    353\u001b[0m         \u001b[0;32mreturn\u001b[0m \u001b[0mconversion\u001b[0m\u001b[0;34m.\u001b[0m\u001b[0mri2py\u001b[0m\u001b[0;34m(\u001b[0m\u001b[0mres\u001b[0m\u001b[0;34m)\u001b[0m\u001b[0;34m\u001b[0m\u001b[0;34m\u001b[0m\u001b[0m\n\u001b[1;32m    354\u001b[0m \u001b[0;34m\u001b[0m\u001b[0m\n",
            "\u001b[0;32m/usr/local/lib/python3.6/dist-packages/rpy2/robjects/functions.py\u001b[0m in \u001b[0;36m__call__\u001b[0;34m(self, *args, **kwargs)\u001b[0m\n\u001b[1;32m    176\u001b[0m                 \u001b[0mv\u001b[0m \u001b[0;34m=\u001b[0m \u001b[0mkwargs\u001b[0m\u001b[0;34m.\u001b[0m\u001b[0mpop\u001b[0m\u001b[0;34m(\u001b[0m\u001b[0mk\u001b[0m\u001b[0;34m)\u001b[0m\u001b[0;34m\u001b[0m\u001b[0;34m\u001b[0m\u001b[0m\n\u001b[1;32m    177\u001b[0m                 \u001b[0mkwargs\u001b[0m\u001b[0;34m[\u001b[0m\u001b[0mr_k\u001b[0m\u001b[0;34m]\u001b[0m \u001b[0;34m=\u001b[0m \u001b[0mv\u001b[0m\u001b[0;34m\u001b[0m\u001b[0;34m\u001b[0m\u001b[0m\n\u001b[0;32m--> 178\u001b[0;31m         \u001b[0;32mreturn\u001b[0m \u001b[0msuper\u001b[0m\u001b[0;34m(\u001b[0m\u001b[0mSignatureTranslatedFunction\u001b[0m\u001b[0;34m,\u001b[0m \u001b[0mself\u001b[0m\u001b[0;34m)\u001b[0m\u001b[0;34m.\u001b[0m\u001b[0m__call__\u001b[0m\u001b[0;34m(\u001b[0m\u001b[0;34m*\u001b[0m\u001b[0margs\u001b[0m\u001b[0;34m,\u001b[0m \u001b[0;34m**\u001b[0m\u001b[0mkwargs\u001b[0m\u001b[0;34m)\u001b[0m\u001b[0;34m\u001b[0m\u001b[0;34m\u001b[0m\u001b[0m\n\u001b[0m\u001b[1;32m    179\u001b[0m \u001b[0;34m\u001b[0m\u001b[0m\n\u001b[1;32m    180\u001b[0m \u001b[0mpattern_link\u001b[0m \u001b[0;34m=\u001b[0m \u001b[0mre\u001b[0m\u001b[0;34m.\u001b[0m\u001b[0mcompile\u001b[0m\u001b[0;34m(\u001b[0m\u001b[0;34mr'\\\\link\\{(.+?)\\}'\u001b[0m\u001b[0;34m)\u001b[0m\u001b[0;34m\u001b[0m\u001b[0;34m\u001b[0m\u001b[0m\n",
            "\u001b[0;32m/usr/local/lib/python3.6/dist-packages/rpy2/robjects/functions.py\u001b[0m in \u001b[0;36m__call__\u001b[0;34m(self, *args, **kwargs)\u001b[0m\n\u001b[1;32m    104\u001b[0m         \u001b[0;32mfor\u001b[0m \u001b[0mk\u001b[0m\u001b[0;34m,\u001b[0m \u001b[0mv\u001b[0m \u001b[0;32min\u001b[0m \u001b[0mkwargs\u001b[0m\u001b[0;34m.\u001b[0m\u001b[0mitems\u001b[0m\u001b[0;34m(\u001b[0m\u001b[0;34m)\u001b[0m\u001b[0;34m:\u001b[0m\u001b[0;34m\u001b[0m\u001b[0;34m\u001b[0m\u001b[0m\n\u001b[1;32m    105\u001b[0m             \u001b[0mnew_kwargs\u001b[0m\u001b[0;34m[\u001b[0m\u001b[0mk\u001b[0m\u001b[0;34m]\u001b[0m \u001b[0;34m=\u001b[0m \u001b[0mconversion\u001b[0m\u001b[0;34m.\u001b[0m\u001b[0mpy2ri\u001b[0m\u001b[0;34m(\u001b[0m\u001b[0mv\u001b[0m\u001b[0;34m)\u001b[0m\u001b[0;34m\u001b[0m\u001b[0;34m\u001b[0m\u001b[0m\n\u001b[0;32m--> 106\u001b[0;31m         \u001b[0mres\u001b[0m \u001b[0;34m=\u001b[0m \u001b[0msuper\u001b[0m\u001b[0;34m(\u001b[0m\u001b[0mFunction\u001b[0m\u001b[0;34m,\u001b[0m \u001b[0mself\u001b[0m\u001b[0;34m)\u001b[0m\u001b[0;34m.\u001b[0m\u001b[0m__call__\u001b[0m\u001b[0;34m(\u001b[0m\u001b[0;34m*\u001b[0m\u001b[0mnew_args\u001b[0m\u001b[0;34m,\u001b[0m \u001b[0;34m**\u001b[0m\u001b[0mnew_kwargs\u001b[0m\u001b[0;34m)\u001b[0m\u001b[0;34m\u001b[0m\u001b[0;34m\u001b[0m\u001b[0m\n\u001b[0m\u001b[1;32m    107\u001b[0m         \u001b[0mres\u001b[0m \u001b[0;34m=\u001b[0m \u001b[0mconversion\u001b[0m\u001b[0;34m.\u001b[0m\u001b[0mri2ro\u001b[0m\u001b[0;34m(\u001b[0m\u001b[0mres\u001b[0m\u001b[0;34m)\u001b[0m\u001b[0;34m\u001b[0m\u001b[0;34m\u001b[0m\u001b[0m\n\u001b[1;32m    108\u001b[0m         \u001b[0;32mreturn\u001b[0m \u001b[0mres\u001b[0m\u001b[0;34m\u001b[0m\u001b[0;34m\u001b[0m\u001b[0m\n",
            "\u001b[0;31mKeyboardInterrupt\u001b[0m: "
          ]
        }
      ]
    },
    {
      "cell_type": "markdown",
      "metadata": {
        "id": "tI2tuAZEbvWQ",
        "colab_type": "text"
      },
      "source": [
        "# Spatial Data \n",
        "For spatial analyses to occur, the data frame needs to be converted into a spatial data frame. The functions `coordinates()` and `projection()` from `sp` library converts the dataset into spatial objects that our to-be-conducted analyses requires. \n",
        "\n",
        "In particular, `coordinates()` specifies the latitude and longitude of the data and `proj4string()` creates the projection layer, i.e. the coordinate system. As you know, the EPSG: 4326 means that the coordinates are latitude-longitude pairs on a reference ellipsoid given by WGS84, projected with Mercator Projection.\n"
      ]
    },
    {
      "cell_type": "markdown",
      "metadata": {
        "id": "Msp57oPXJ8R6",
        "colab_type": "text"
      },
      "source": [
        "## Processing & Transformation"
      ]
    },
    {
      "cell_type": "code",
      "metadata": {
        "attributes": {
          "cache": "TRUE,",
          "classes": [],
          "dpi": "300,",
          "fig.cap": "\"\",",
          "fig.height": "3",
          "id": "",
          "message": "FALSE,",
          "tidy": "TRUE,",
          "warning": "FALSE,"
        },
        "id": "_f9RoxcfYEfx",
        "colab_type": "code",
        "outputId": "d77540d5-6003-4fb5-a10b-4724738e76cf",
        "colab": {
          "base_uri": "https://localhost:8080/",
          "height": 387
        }
      },
      "source": [
        "%%R\n",
        "# Data Processing\n",
        "CHIPS_lonlat_sp <- CHIPS_df_clean\n",
        "# First, ensuring a default long / lat is assigned to the coordinates:\n",
        "## Specifying coordinates in raw data\n",
        "coordinates(CHIPS_lonlat_sp) <- ~ lon + lat\n",
        "## Setting default projection\n",
        "proj4string(CHIPS_lonlat_sp) <- CRS(\"+init=epsg:4326 +proj=longlat +ellps=WGS84 +datum=WGS84 +no_defs +towgs84=0,0,0\")\n",
        "# Then, transform the coordinates to UTM, using its proper CRS [EPSG:28992; RD / Amersfoort].\n",
        "## Transforming coordinates to UTM\n",
        "CHIPS_sp <- spTransform(CHIPS_lonlat_sp, \"+proj=sterea +lat_0=52.15616055555555 +lon_0=5.38763888888889 +k=0.9999079 +x_0=155000 +y_0=463000 +ellps=bessel +units=m +no_defs\")\n",
        "# Creating specific participant data frames\n",
        "pt1 <- CHIPS_sp[CHIPS_sp$participant == 1, ]\n",
        "pt2 <- CHIPS_sp[CHIPS_sp$participant == 2, ]\n",
        "pt3 <- CHIPS_sp[CHIPS_sp$participant == 3, ]\n",
        "pt4 <- CHIPS_sp[CHIPS_sp$participant == 4, ]\n",
        "pt5 <- CHIPS_sp[CHIPS_sp$participant == 5, ]\n",
        "pt6 <- CHIPS_sp[CHIPS_sp$participant == 6, ]\n",
        "pt7 <- CHIPS_sp[CHIPS_sp$participant == 7, ]\n",
        "pt8 <- CHIPS_sp[CHIPS_sp$participant == 8, ]\n",
        "pt9 <- CHIPS_sp[CHIPS_sp$participant == 9, ]\n",
        "pt10 <- CHIPS_sp[CHIPS_sp$participant == 10, ]\n",
        "pt11 <- CHIPS_sp[CHIPS_sp$participant == 11, ]\n",
        "pt12 <- CHIPS_sp[CHIPS_sp$participant == 12, ]\n",
        "# inspect resulting data\n",
        "print(CHIPS_lonlat_sp)\n",
        "print(head(CHIPS_lonlat_sp))\n",
        "nrow((CHIPS_lonlat_sp))"
      ],
      "execution_count": 14,
      "outputs": [
        {
          "output_type": "display_data",
          "data": {
            "text/plain": [
              "class       : SpatialPointsDataFrame \n",
              "features    : 179292 \n",
              "extent      : 5.045167, 5.084208, 51.559943, 51.693746  (xmin, xmax, ymin, ymax)\n",
              "crs         : +init=epsg:4326 +proj=longlat +ellps=WGS84 +datum=WGS84 +no_defs +towgs84=0,0,0 \n",
              "variables   : 15\n",
              "names       : participant, time, conductance, conductance_z,       phasic,     phasic_z,        tonic,      tonic_z, altitude, distance, speed, speed2,        power, data.points.n,            lon.lat \n",
              "min values  :           1,  180,           0,  -2.537399991, -0.371800263, -0.058124676, -0.745595464, -2.556463349,     -0.3,        0,     0,      0, -3006.637188,             2, 5.045167,51.693688 \n",
              "max values  :          12, 4320,   89.340683,   4.394498516,  9.875215407,  2.011397809,  88.75145474,  3.602216905,     19.2,  19561.5,   9.8,  35.28,  2702.386581,          3280, 5.084208,51.560393 \n",
              "# A tibble: 6 x 15\n",
              "  participant  time conductance conductance_z  phasic phasic_z tonic tonic_z\n",
              "        <int> <dbl>       <dbl>         <dbl>   <dbl>    <dbl> <dbl>   <dbl>\n",
              "1           1  180        0.789         -1.30 0.00781 0.00149  0.782   -1.30\n",
              "2           1  180.       0.789         -1.30 0.00651 0.00128  0.782   -1.30\n",
              "3           1  180.       0.788         -1.30 0.00522 0.00107  0.783   -1.30\n",
              "4           1  181.       0.788         -1.30 0.00393 0.000858 0.784   -1.30\n",
              "5           1  181        0.787         -1.30 0.00264 0.000654 0.785   -1.30\n",
              "6           1  181.       0.787         -1.30 0.00134 0.000453 0.785   -1.30\n",
              "# … with 7 more variables: altitude <dbl>, distance <dbl>, speed <dbl>,\n",
              "#   speed2 <dbl>, power <dbl>, data.points.n <int>, lon.lat <chr>\n",
              "[1] 179292\n"
            ]
          },
          "metadata": {
            "tags": []
          }
        }
      ]
    },
    {
      "cell_type": "markdown",
      "metadata": {
        "id": "SWFB0G1uYEf3",
        "colab_type": "text"
      },
      "source": [
        "## Processing & Export for Interactive Application - Stress3d\n",
        "\n",
        "Using the same approach above for the web-mapping application, Stress3d. Mapbox, and web-mapping in general, requires standard latitude and longitude coordinates [EPSG:4326; WGS 84]. Exporting to GeoJSON format, also usually preferred by web-mapping applications."
      ]
    },
    {
      "cell_type": "code",
      "metadata": {
        "attributes": {
          "cache": "TRUE,",
          "classes": [],
          "dpi": "300,",
          "fig.cap": "\"\",",
          "fig.height": "3",
          "id": "",
          "message": "FALSE,",
          "tidy": "TRUE,",
          "warning": "FALSE,"
        },
        "id": "tKUn6CXgYEgA",
        "colab_type": "code",
        "colab": {}
      },
      "source": [
        "%%R\n",
        "CHIPS_lonlat <- CHIPS_df\n",
        "coordinates(CHIPS_lonlat) <- ~ lon + lat\n",
        "# Setting default projection\n",
        "proj4string(CHIPS_lonlat) <- CRS('+proj=longlat +lat_0=52 +lon_0=10 +x_0=4321000 +y_0=3210000 +ellps=GRS80 +units=m +no_defs')\n",
        "pt1 <- CHIPS_lonlat[CHIPS_lonlat$participant == 1, ]\n",
        "pt2 <- CHIPS_lonlat[CHIPS_lonlat$participant == 2, ]\n",
        "pt3 <- CHIPS_lonlat[CHIPS_lonlat$participant == 3, ]\n",
        "pt4 <- CHIPS_lonlat[CHIPS_lonlat$participant == 4, ]\n",
        "pt5 <- CHIPS_lonlat[CHIPS_lonlat$participant == 5, ]\n",
        "pt6 <- CHIPS_lonlat[CHIPS_lonlat$participant == 6, ]\n",
        "pt7 <- CHIPS_lonlat[CHIPS_lonlat$participant == 7, ]\n",
        "pt8 <- CHIPS_lonlat[CHIPS_lonlat$participant == 8, ]\n",
        "pt9 <- CHIPS_lonlat[CHIPS_lonlat$participant == 9, ]\n",
        "pt10 <- CHIPS_lonlat[CHIPS_lonlat$participant == 10, ]\n",
        "pt11 <- CHIPS_lonlat[CHIPS_lonlat$participant == 11, ]\n",
        "pt12 <- CHIPS_lonlat[CHIPS_lonlat$participant == 12, ]\n",
        "# Exporting to GeoJSON\n",
        "writeOGR(CHIPS_lonlat, \"/content/CHIPS_all_pts.geojson\",\n",
        "         layer=\"CHIPS_lonlat\", driver=\"GeoJSON\")"
      ],
      "execution_count": 0,
      "outputs": []
    },
    {
      "cell_type": "markdown",
      "metadata": {
        "id": "MbZGnHMkYEf0",
        "colab_type": "text"
      },
      "source": [
        "## Exporting as Vector to GRASS\n",
        "The following computes a csv files designed to be seamlessly imported into GRASS. Coordinates are in UTM [EPSG:28992; RD / Amersfoort] format, csv separator is set to pipe (\"|\" - GRASS's default import setting).  "
      ]
    },
    {
      "cell_type": "code",
      "metadata": {
        "attributes": {
          "cache": "TRUE",
          "classes": [],
          "id": "",
          "message": "FALSE,",
          "tidy": "TRUE,",
          "warning": "FALSE,"
        },
        "id": "XFGoRqJYYEf0",
        "colab_type": "code",
        "outputId": "b3d1ccea-218f-4be6-9a06-37126154e4f4",
        "colab": {
          "base_uri": "https://localhost:8080/",
          "height": 630
        }
      },
      "source": [
        "%%R\n",
        "# ALL\n",
        "chips_all <- CHIPS_sp@data[,1:13]\n",
        "chips_all$lon <-CHIPS_sp@coords[,1]\n",
        "chips_all$lat <-CHIPS_sp@coords[,2]\n",
        "# inspect resulting data\n",
        "print(chips_all)\n",
        "print(head(chips_all))\n",
        "nrow((chips_all))\n",
        "print(which( colnames(chips_all)==\"phasic_z\" ))\n",
        "print(which( colnames(chips_all)==\"lon\" ))\n",
        "print(which( colnames(chips_all)==\"lat\" ))\n",
        "print(colnames(chips_all))\n",
        "print(cat(colnames(df),sep=\",\"))\n",
        "write.table(chips_all, row.names = F, quote = F, \n",
        "            col.names = T, sep = \"|\", dec = \".\",\n",
        "           \"/content/chips_all.txt\")\n"
      ],
      "execution_count": 16,
      "outputs": [
        {
          "output_type": "display_data",
          "data": {
            "text/plain": [
              "# A tibble: 179,292 x 15\n",
              "   participant  time conductance conductance_z  phasic phasic_z tonic tonic_z\n",
              "         <int> <dbl>       <dbl>         <dbl>   <dbl>    <dbl> <dbl>   <dbl>\n",
              " 1           1  180        0.789         -1.30 0.00781 0.00149  0.782   -1.30\n",
              " 2           1  180.       0.789         -1.30 0.00651 0.00128  0.782   -1.30\n",
              " 3           1  180.       0.788         -1.30 0.00522 0.00107  0.783   -1.30\n",
              " 4           1  181.       0.788         -1.30 0.00393 0.000858 0.784   -1.30\n",
              " 5           1  181        0.787         -1.30 0.00264 0.000654 0.785   -1.30\n",
              " 6           1  181.       0.787         -1.30 0.00134 0.000453 0.785   -1.30\n",
              " 7           1  182.       0.831         -1.30 0.0448  0.00758  0.786   -1.30\n",
              " 8           1  182.       0.854         -1.29 0.0671  0.0112   0.787   -1.30\n",
              " 9           1  182        0.841         -1.29 0.0534  0.00903  0.788   -1.30\n",
              "10           1  182.       0.843         -1.29 0.0539  0.00914  0.789   -1.30\n",
              "# … with 179,282 more rows, and 7 more variables: altitude <dbl>,\n",
              "#   distance <dbl>, speed <dbl>, speed2 <dbl>, power <dbl>, lon <dbl>,\n",
              "#   lat <dbl>\n",
              "# A tibble: 6 x 15\n",
              "  participant  time conductance conductance_z  phasic phasic_z tonic tonic_z\n",
              "        <int> <dbl>       <dbl>         <dbl>   <dbl>    <dbl> <dbl>   <dbl>\n",
              "1           1  180        0.789         -1.30 0.00781 0.00149  0.782   -1.30\n",
              "2           1  180.       0.789         -1.30 0.00651 0.00128  0.782   -1.30\n",
              "3           1  180.       0.788         -1.30 0.00522 0.00107  0.783   -1.30\n",
              "4           1  181.       0.788         -1.30 0.00393 0.000858 0.784   -1.30\n",
              "5           1  181        0.787         -1.30 0.00264 0.000654 0.785   -1.30\n",
              "6           1  181.       0.787         -1.30 0.00134 0.000453 0.785   -1.30\n",
              "# … with 7 more variables: altitude <dbl>, distance <dbl>, speed <dbl>,\n",
              "#   speed2 <dbl>, power <dbl>, lon <dbl>, lat <dbl>\n",
              "[1] 6\n",
              "[1] 14\n",
              "[1] 15\n",
              " [1] \"participant\"   \"time\"          \"conductance\"   \"conductance_z\"\n",
              " [5] \"phasic\"        \"phasic_z\"      \"tonic\"         \"tonic_z\"      \n",
              " [9] \"altitude\"      \"distance\"      \"speed\"         \"speed2\"       \n",
              "[13] \"power\"         \"lon\"           \"lat\"          \n",
              "NULL\n"
            ]
          },
          "metadata": {
            "tags": []
          }
        }
      ]
    },
    {
      "cell_type": "markdown",
      "metadata": {
        "id": "oC2lpaBs3Q8D",
        "colab_type": "text"
      },
      "source": [
        "# Software: **GRASS GIS**\n",
        "\n",
        "---"
      ]
    },
    {
      "cell_type": "markdown",
      "metadata": {
        "id": "vSy1KNtghIxl",
        "colab_type": "text"
      },
      "source": [
        "## Install \n",
        "**Source**<sup> [1](https://grasswiki.osgeo.org/wiki/GRASS_GIS_Jupyter_notebooks)</sup> \n",
        "\n",
        "When the following code chunk is run, you will see a rectangular input box pop up below. Click in it using your mouse, and then press 'Enter' to continue the configuration process.\n",
        "\n",
        "> **NOTE**: <img src=\"https://raw.githubusercontent.com/gcmillar/CEUS/master/img/wait_time.png\" alt=\"runbutton\" width=\"25\" height=\"25\">"
      ]
    },
    {
      "cell_type": "code",
      "metadata": {
        "colab_type": "code",
        "id": "m9o10GGgO3Ye",
        "colab": {}
      },
      "source": [
        "%%capture\n",
        "!add-apt-repository ppa:ubuntugis/ubuntugis-unstable\n",
        "#update packages\n",
        "!apt-get update\n",
        "#install grass\n",
        "!apt-get install grass -y;"
      ],
      "execution_count": 0,
      "outputs": []
    },
    {
      "cell_type": "markdown",
      "metadata": {
        "colab_type": "text",
        "id": "DExWI9fwO6Lr"
      },
      "source": [
        "## CEUS Data — GRASS GIS\n",
        "\n",
        "This dataset contains the already developed digital surface model (DSM; downloaded from the official\n",
        "open data repository:  \n",
        "> The Actual Elevation map of the Netherlands (AHN)<sup>[1](http://ahn.nl)</sup> \n",
        "### *Elevation*\n",
        "DSM was interpolated from first-return lidar points at half-meter resolution to provide input for computation of viewsheds along the cyclists path while capturing impact of buildings and other structures. We used a regularized\n",
        "spline with tension algorithm implemented in GRASS GIS to balance the smoothness and approximation accuracy of the surface.\n",
        "### *Land Use*\n",
        "Land use was split into the following seven classes: developed, natural, recreation, water, business, agriculture, and forest. Developed areas were classified as any area with high levels of surrounding urban life. Natural areas consisted of grasslands, herbaceous, unpaved surfaces, grass, orchards, meadows, and any other layers constituted by greenery. Recreation contained places frequented for leisure like parks, amusement parks (specifically Efteling, a fantasy-themed amusement park), soccer pitches, and camp sites. Any area described as containing a body of water was also defined. The polygon-based land use layer was then converted to 0.5 m resolution raster representation."
      ]
    },
    {
      "cell_type": "markdown",
      "metadata": {
        "id": "-ydwDKOAhZzc",
        "colab_type": "text"
      },
      "source": [
        "## Download CEUS GRASS GIS Location Dataset "
      ]
    },
    {
      "cell_type": "code",
      "metadata": {
        "id": "H1OWKeKDhckI",
        "colab_type": "code",
        "outputId": "549f5c08-40d0-46c7-a52b-b429e1011e66",
        "colab": {
          "base_uri": "https://localhost:8080/",
          "height": 280
        }
      },
      "source": [
        "# Download & import CEUS data as GRASS GIS location file \n",
        "import zipfile\n",
        "# The following snippets set the unzipped data as a GRASS location file\n",
        "!wget /$HOME/grassdata/ \"http://fatra.cnr.ncsu.edu/data/CEUS.zip\"\n",
        "zip_ref = zipfile.ZipFile(\"/content/CEUS.zip\", 'r')\n",
        "zip_ref.extractall(\"/root/grassdata/\")\n",
        "zip_ref.close()"
      ],
      "execution_count": 18,
      "outputs": [
        {
          "output_type": "stream",
          "text": [
            "//root/grassdata/: Scheme missing.\n",
            "--2020-01-25 18:50:50--  http://fatra.cnr.ncsu.edu/data/CEUS.zip\n",
            "Resolving fatra.cnr.ncsu.edu (fatra.cnr.ncsu.edu)... 152.1.72.43\n",
            "Connecting to fatra.cnr.ncsu.edu (fatra.cnr.ncsu.edu)|152.1.72.43|:80... connected.\n",
            "HTTP request sent, awaiting response... 200 OK\n",
            "Length: 550287566 (525M) [application/zip]\n",
            "Saving to: ‘CEUS.zip’\n",
            "\n",
            "CEUS.zip            100%[===================>] 524.79M  11.2MB/s    in 47s     \n",
            "\n",
            "2020-01-25 18:51:37 (11.2 MB/s) - ‘CEUS.zip’ saved [550287566/550287566]\n",
            "\n",
            "FINISHED --2020-01-25 18:51:37--\n",
            "Total wall clock time: 47s\n",
            "Downloaded: 1 files, 525M in 47s (11.2 MB/s)\n"
          ],
          "name": "stdout"
        }
      ]
    },
    {
      "cell_type": "markdown",
      "metadata": {
        "id": "sLCc64a_z-rv",
        "colab_type": "text"
      },
      "source": [
        "## Configure Python to Run GRASS\n",
        "\n"
      ]
    },
    {
      "cell_type": "code",
      "metadata": {
        "id": "V9SbkeieGUsQ",
        "colab_type": "code",
        "outputId": "b3f9f70c-efe6-4490-ac77-c7a7e1dd8c88",
        "colab": {
          "base_uri": "https://localhost:8080/",
          "height": 35
        }
      },
      "source": [
        "# import Python standard library and IPython packages we need\n",
        "import os\n",
        "import sys\n",
        "import subprocess\n",
        "from IPython.display import Image\n",
        "\n",
        "# ask GRASS GIS where its Python packages are\n",
        "gisbase= \"/usr/lib/grass78\"\n",
        "# gisbase = subprocess.check_output([\"grass78\", \"--config\", \"path\"]).strip()\n",
        "print(gisbase)\n",
        "os.environ['GISBASE'] = gisbase\n",
        "sys.path.append(os.path.join(\"/usr/lib/grass78\", \"etc\", \"python\"))\n",
        "\n",
        "# import GRASS GIS packages we need\n",
        "import grass.script as gs\n",
        "import grass.script.setup as gsetup\n",
        "\n",
        "# create GRASS GIS session\n",
        "rcfile = gsetup.init(gisbase, \"/root/grassdata\", \"CEUS\", \"PERMANENT\")\n",
        "\n",
        "# we want functions to raise exceptions and see standard output of the modules\n",
        "gs.set_raise_on_error(True)\n",
        "gs.set_capture_stderr(True)\n",
        "# simply overwrite existing maps like we overwrite Python variable values\n",
        "os.environ['GRASS_OVERWRITE'] = '1'\n",
        "# enable map rendering to in Jupyter Notebook\n",
        "os.environ['GRASS_FONT'] = 'sans'\n",
        "# set display modules to render into a file (named map.png by default)\n",
        "os.environ['GRASS_RENDER_IMMEDIATE'] = 'cairo'\n",
        "os.environ['GRASS_RENDER_FILE_READ'] = 'TRUE'\n",
        "os.environ['GRASS_LEGEND_FILE'] = 'legend.txt'"
      ],
      "execution_count": 19,
      "outputs": [
        {
          "output_type": "stream",
          "text": [
            "/usr/lib/grass78\n"
          ],
          "name": "stdout"
        }
      ]
    },
    {
      "cell_type": "markdown",
      "metadata": {
        "id": "Qgy56fCTrx0L",
        "colab_type": "text"
      },
      "source": [
        "# Analyses"
      ]
    },
    {
      "cell_type": "code",
      "metadata": {
        "id": "gd8x-GOxr1u6",
        "colab_type": "code",
        "outputId": "ec38137e-1bca-49dd-cfad-0e37d5da3202",
        "colab": {
          "base_uri": "https://localhost:8080/",
          "height": 87
        }
      },
      "source": [
        "# import data with selected attributes in EPSG (amersf) location\n",
        "gs.run_command('v.in.ascii', flags='z', input='/content/chips_all.txt', out='chips_cyclists', separator='|', skip=1, x=14, y=15, z=6, cat=0, columns=\"participant integer, time double precision, conductance double precision, conductance_z double precision, phasic double precision, phasic_z double precision, tonic double precision, tonic_z double precision, altitude double precision, distance double precision, speed double precision, speed2 double precision, power double precision, lon double precision, lat double precision\" )\n",
        "# check on cyclists stored vector data\n",
        "# gs.vector_info('chips_cyclists')\n",
        "gs.parse_command('g.list', type=\"raster\", flags=\"p\")"
      ],
      "execution_count": 20,
      "outputs": [
        {
          "output_type": "execute_result",
          "data": {
            "text/plain": [
              "{'': None,\n",
              " '----------------------------------------------': None,\n",
              " 'chips_area_dem      chips_area_ortho    chips_landuse': None,\n",
              " 'raster files available in mapset <PERMANENT>:': None}"
            ]
          },
          "metadata": {
            "tags": []
          },
          "execution_count": 20
        }
      ]
    },
    {
      "cell_type": "markdown",
      "metadata": {
        "colab_type": "text",
        "id": "9k6luw1l6xAJ"
      },
      "source": [
        "## Distance to Roads\n",
        "Since our analyses are interested in any potential dependence between distance from environmental features and associated skin conductance values, we used  [v.distance]<sup>[2](https://grass.osgeo.org/grass79/manuals/v.distance.html)</sup>, a [GRASS GIS]<sup>[3](https://grass.osgeo.org/)</sup> module to map the distances between each cyclist’s locational point and the closest roads. These are then stored for later statistical analyses to determine possible relationships between how far away cyclists were from roads and observed levels of emotional arousal.\n",
        "\n",
        "**Vector modules typically don't follow computational region, but we set it to inform display modules about our area of interest.**"
      ]
    },
    {
      "cell_type": "code",
      "metadata": {
        "colab_type": "code",
        "id": "a66nsEAuPV4F",
        "outputId": "e6f1498a-f34b-4472-9869-afd8c2b18020",
        "colab": {
          "base_uri": "https://localhost:8080/",
          "height": 212
        }
      },
      "source": [
        "gs.parse_command('g.region', n=413730.54450704, s=394620.68549296, w=129168.57323866, e=136079.49676134, nsres=0.99999262, ewres=0.99998893)\n",
        "# Set resolution (matching DSM res)\n",
        "gs.run_command('g.region', res=0.5)\n",
        "# adding necessary columns for resulting output of v.distance [dist_to,lc_type]\n",
        "gs.run_command('v.db.addcolumn', map='chips_cyclists', columns=\"dist_to double precision,lc_type varchar\")\n",
        "# same for roads [dist_to_road,road_type]\n",
        "gs.run_command('v.db.addcolumn', map='chips_cyclists', columns=\"dist_to_road double precision,road_type varchar\")\n",
        "# find distance from cyclist locations to each specific road type, uploading min distance and road type (large classes: small, med, large)\n",
        "gs.run_command('v.distance', from_='chips_cyclists@PERMANENT', to='roads_polys', to_type='line,area', upload='dist,to_attr', column='dist_to_road,road_type', to_column='class')\n",
        "# check attribute table was correctly updated\n",
        "print(gs.read_command('db.select', table='chips_cyclists', sql='SELECT * FROM chips_cyclists WHERE cat > 1 AND cat < 10'))"
      ],
      "execution_count": 22,
      "outputs": [
        {
          "output_type": "stream",
          "text": [
            "cat|participant|time|conductance|conductance_z|phasic|phasic_z|tonic|tonic_z|altitude|distance|speed|speed2|power|lon|lat|dist_to|lc_type|dist_to_road|road_type\n",
            "2|1|180.25|0.788807|-1.302670351|0.006511054|0.001278188|0.782295946|-1.303948539|3|441.5|0|0|14.16505379|131459.44998483|411348.679185183|||1.62633450058316|small_roads\n",
            "3|1|180.5|0.788295|-1.302754078|0.005218455|0.001066341|0.783076545|-1.30382042|3|441.5|0|0|14.16505379|131459.44998483|411348.679185183|||1.62633450058316|small_roads\n",
            "4|1|180.75|0.787783|-1.302837806|0.003928341|0.000858307|0.783854659|-1.303696113|3|441.5|0|0|14.16505379|131459.44998483|411348.679185183|||1.62633450058316|small_roads\n",
            "5|1|181|0.787271|-1.302921534|0.00263578|0.000653847|0.78463522|-1.303575381|3|441.5|0|0|14.16505379|131459.44998483|411348.679185183|||1.62633450058316|small_roads\n",
            "6|1|181.25|0.786759|-1.303005261|0.00133663|0.000452663|0.78542237|-1.303457924|3|441.5|0|0|14.16505379|131459.44998483|411348.679185183|||1.62633450058316|small_roads\n",
            "7|1|181.5|0.83105|-1.295762328|0.044830881|0.0075811|0.786219119|-1.303343429|3|441.5|0|0|14.16505379|131459.44998483|411348.679185183|||1.62633450058316|small_roads\n",
            "8|1|181.75|0.854092|-1.291994257|0.067064654|0.011237331|0.787027346|-1.303231588|3|441.5|0|0|14.16505379|131459.44998483|411348.679185183|||1.62633450058316|small_roads\n",
            "9|1|182|0.841291|-1.294087612|0.05344306|0.009034507|0.78784794|-1.303122119|3|441.5|0|0|14.16505379|131459.44998483|411348.679185183|||1.62633450058316|small_roads\n",
            "\n"
          ],
          "name": "stdout"
        }
      ]
    },
    {
      "cell_type": "markdown",
      "metadata": {
        "id": "TB4_hakk5Zqi",
        "colab_type": "text"
      },
      "source": [
        "## Viewshed Analysis\n"
      ]
    },
    {
      "cell_type": "markdown",
      "metadata": {
        "id": "ZXOInhWPF6Bi",
        "colab_type": "text"
      },
      "source": [
        "I first generated the new viewpoint ranges as I did before (v.what.rast) along the cycling track line at 20m and 50m between each point."
      ]
    },
    {
      "cell_type": "code",
      "metadata": {
        "id": "eWzvqMd8F144",
        "colab_type": "code",
        "colab": {}
      },
      "source": [
        "v.what.rast map=viewpoints_20m@PERMANENT raster=cycling_track_dir2@PERMANENT column=direction2 layer=2\n"
      ],
      "execution_count": 0,
      "outputs": []
    },
    {
      "cell_type": "markdown",
      "metadata": {
        "id": "pj824N1dF9Be",
        "colab_type": "text"
      },
      "source": [
        "Then, realizing we need a way to associate the results outputted from the parallelization script, I ran a v.distance module for all viewpoint ranges, to obtain a column that describes the nearest viewpoint at each location point. These of course vary across the three viewpoint ranges (20m, 50m, 100m). I did this approach so that:"
      ]
    },
    {
      "cell_type": "code",
      "metadata": {
        "id": "_RYuW2rnF-JJ",
        "colab_type": "code",
        "colab": {}
      },
      "source": [
        "v.distance from=chips_cyclists@PERMANENT from_type=point to=viewpoints_20m@PERMANENT to_type=point upload=cat column=viewpoint_id_20m to_column=cat\n"
      ],
      "execution_count": 0,
      "outputs": []
    },
    {
      "cell_type": "markdown",
      "metadata": {
        "id": "F5H5bHbDGEJF",
        "colab_type": "text"
      },
      "source": [
        "The new output from GRASS then of course had to be joined with the output from the parallel python viewshed script. This was carried out in R considering the extensive data manipulation I realized would be necessary. Most important to note is the separation by direction in which cyclists were going. I completely separated the original data analysis file to then appropriately join with the 2 separate files outputted by the python viewshed script. Therefore, I'm attaching two separate csv: stats_direction1, and stats_direction2, each containing the following data:\n",
        "\n",
        "* participant\t\t   \n",
        "* time\t\t\t\t\n",
        "* conductance\t\t   \n",
        "* conductance_z\t   \n",
        "* phasic\t\t\t\t\n",
        "* phasic_z\t\t\t\n",
        "* tonic\t\t\t   \n",
        "* tonic_z\t\t\t   \n",
        "* altitude\t\t\t\n",
        "* distance\t\t\t\n",
        "* speed\t\t\t   \n",
        "* speed2\t\t\t  \n",
        "* power\t\t\t   \n",
        "* lon\t\t\t\t   \n",
        "* lat\t\t\t\t   \n",
        "* dist_to\t\t\t   \n",
        "* lc_type\t\t\t   \n",
        "* dist_to_road\t\t\n",
        "* road_type\t\t   \n",
        "* viewableLC\t\t  \n",
        "* buffer50m_lc\t  \n",
        "* buffer100m_lc\t   \n",
        "* buffer200m_lc\t   \n",
        "* buffer500m_lc\t \n",
        "* direction  \n",
        "* viewpoint_id_20m\t\n",
        "* viewpoint_id_50m\n",
        "* viewpoint_id_100m\t\t   \n",
        "* view_area\t\t   \n",
        "* landuse_view_area_1\n",
        "* landuse_view_area_2\n",
        "* landuse_view_area_3\n",
        "* landuse_view_area_4\n",
        "\n",
        "The stats_direction1, and stats_direction2 csvs can technically be joined together if preferred, but they were kept separate throughout for my own peace of mind (and one less thing to worry about).\n"
      ]
    },
    {
      "cell_type": "markdown",
      "metadata": {
        "id": "Ai_7lhHOGk7N",
        "colab_type": "text"
      },
      "source": [
        "See full R script for this below:\n"
      ]
    },
    {
      "cell_type": "code",
      "metadata": {
        "id": "QHn3cf0-Gm-Y",
        "colab_type": "code",
        "colab": {}
      },
      "source": [
        "%%R\n",
        "setwd(\"/Volumes/gmillar_SSD/CHIPS/CEUS/data\")\n",
        "CHIPS_CEUS <- read.table(\"CEUS_final_stats_data.csv\", header = TRUE, row.names=NULL, sep=\",\")\n",
        "############################################################\n",
        "CHIPS_CEUS$direction <- NA\n",
        "CHIPS_CEUS$direction[which(CHIPS_CEUS$participant %in% c(1, 3, 4, 10, 11, 12))] <- \"waal_til\"\n",
        "CHIPS_CEUS$direction[which(CHIPS_CEUS$participant %in% c(2, 5, 6, 7, 8, 9))] <- \"til_waal\"\n",
        "############################################################\n",
        "CHIPS_waal_til <- subset(CHIPS_CEUS, direction==\"waal_til\")\n",
        "CHIPS_til_waal <- subset(CHIPS_CEUS, direction==\"til_waal\")\n",
        "############################################################\n",
        "viewshed_stats_dir1 <- read.table(\"all_sorted.csv\", header = TRUE, row.names=NULL, sep=\",\")\n",
        "viewshed_stats_dir2 <- read.table(\"all2_sorted.csv\", header = TRUE, row.names=NULL, sep=\",\")\n",
        "stats_dir1 <- merge(CHIPS_waal_til, viewshed_stats_dir1, \"viewpoint_id_100m\", sort = TRUE)\n",
        "stats_dir2 <- merge(CHIPS_til_waal, viewshed_stats_dir2, \"viewpoint_id_100m\", sort = TRUE)\n",
        "stats_dir1 <- stats_dir1[c(2:39,1)]\n",
        "stats_dir2 <- stats_dir2[c(2:39,1)]\n",
        "drops <- c('east','north','height','cat','lon.y','lat.y')\n",
        "stats_dir1 <- stats_dir1[ , !(names(stats_dir1) %in% drops)]\n",
        "stats_dir2 <- stats_dir2[ , !(names(stats_dir2) %in% drops)]\n",
        "setnames(stats_dir1, \"lon.x\", \"lon\")\n",
        "setnames(stats_dir1, \"lat.x\", \"lat\")\n",
        "setnames(stats_dir2, \"lon.x\", \"lon\")\n",
        "setnames(stats_dir2, \"lat.x\", \"lat\")\n",
        "############################################################\n",
        "write.csv(stats_dir1, file = \"/Volumes/gmillar_SSD/CHIPS/CEUS/data/stats_direction1.csv\",  \n",
        "            col.names = TRUE, row.names = FALSE)\n",
        "write.csv(stats_dir2, file = \"/Volumes/gmillar_SSD/CHIPS/CEUS/data/stats_direction2.csv\",  \n",
        "            col.names = TRUE, row.names = FALSE)"
      ],
      "execution_count": 0,
      "outputs": []
    },
    {
      "cell_type": "markdown",
      "metadata": {
        "id": "JSIi-rm0FkI8",
        "colab_type": "text"
      },
      "source": [
        "### Parallelization in Python\n",
        "***At this time, a solution is still in need for running the Python parallelization script (used to generate viewsheds and zonal statistics on visible land cover classes) in a Jupyter Notebook. For the time being, the full Python script is included below, while the following section reads in the txt output as generated from *the* script.***"
      ]
    },
    {
      "cell_type": "code",
      "metadata": {
        "id": "8jX_J8NPQFlC",
        "colab_type": "code",
        "colab": {}
      },
      "source": [
        "#!/usr/bin/env python3\n",
        "\n",
        "#%module\n",
        "#% description: Viewshed for CHIPS project\n",
        "#% keyword: vector\n",
        "#% keyword: geometry\n",
        "#%end\n",
        "\n",
        "#%option G_OPT_M_COORDS\n",
        "#% key: coordinates\n",
        "#%end\n",
        "\n",
        "#%option\n",
        "#% key: view_id\n",
        "#% type: integer\n",
        "#% required: no\n",
        "#% multiple: no\n",
        "#% key_desc: value\n",
        "#% description: View id\n",
        "#%end\n",
        "\n",
        "#%option\n",
        "#% key: direction\n",
        "#% type: double\n",
        "#% required: no\n",
        "#% multiple: no\n",
        "#% key_desc: value\n",
        "#% description: Direction\n",
        "#%end\n",
        "\n",
        "#%option G_OPT_F_OUTPUT\n",
        "#% key: output\n",
        "#%end\n",
        "\n",
        "import os\n",
        "import grass.script as gscript\n",
        "\n",
        "\n",
        "def compute_direction(main_direction):\n",
        "    half_angle = 90\n",
        "    mina = main_direction - half_angle\n",
        "    maxa = main_direction + half_angle\n",
        "    if maxa > 360:\n",
        "        maxa -= 360\n",
        "    if mina < 0:\n",
        "        mina += 360\n",
        "    return mina, maxa\n",
        "\n",
        "\n",
        "def main(elevation, coords, output, pid, direction, sample):\n",
        "    limit = 1000\n",
        "    name = 'viewshed'\n",
        "    gscript.run_command('g.region', raster=elevation)\n",
        "    gscript.run_command('g.region', n=coords[1] + limit, s=coords[1] - limit,\n",
        "                            e=coords[0] + limit, w=coords[0] - limit, align=elevation)\n",
        "    region = gscript.region()\n",
        "    mina, maxa = compute_direction(direction)\n",
        "    gscript.run_command('r.viewshed', input=elevation, output=name,\n",
        "                        coordinates=coords, observer_elevation=1.75,# target_elevation=3,\n",
        "                        max_distance=limit, direction_range=[mina, maxa],\n",
        "                        memory=65000, overwrite=True, quiet=True)\n",
        "    \n",
        "    # area\n",
        "    cells = gscript.parse_command('r.univar', map=name, flags='g', quiet=True)['n']\n",
        "    res = region['nsres']\n",
        "    area = float(cells) * res * res\n",
        "    # ndvi\n",
        "    results = []\n",
        "    # non_null_cells|null_cells|min|max|range|mean|mean_of_abs|stddev|variance|coeff_var|sum|sum_abs\n",
        "    for each in sample:\n",
        "        results.append(gscript.read_command('r.univar', map=name, zones=each, quiet=True, flags='t', separator='comma').strip().splitlines()[1:])\n",
        "\n",
        "    with open(output, 'w') as f:\n",
        "#        f.write(\"id,view_area,z1,z2,z3,z4\\n\")\n",
        "        if pid:\n",
        "            f.write(\"%s,%.4f,%.4f,%.4f\" % (pid, coords[0], coords[1], area))\n",
        "        else:\n",
        "            f.write(\"%.4f,%.4f,%.4f\" % (coords[0], coords[1], area))\n",
        "        for each in results:\n",
        "            zones = {}\n",
        "            for line in each:\n",
        "                zone, label, non_null_cells, null_cells, minim, maxim, range_, mean, mean_of_abs, stddev, variance, coeff_var,  sum_, sum_abs = line.split(',')\n",
        "                zones[int(zone)] = int(non_null_cells)\n",
        "            for zone in range(1, 8):\n",
        "                if zone in zones:\n",
        "                    area = zones[zone] * res * res\n",
        "                    f.write(\",%.0f\" % area)\n",
        "                else:\n",
        "                    f.write(\",0\")\n",
        "        f.write(\"\\n\")\n",
        "    #gscript.run_command('g.remove', type='raster', name=[name], flags='f', quiet=True)\n",
        "\n",
        "\n",
        "if __name__ == '__main__':\n",
        "    options, flags = gscript.parser()\n",
        "    pid = options['view_id']\n",
        "    if not pid:\n",
        "        pid = None\n",
        "    coords = options['coordinates'].split(',')\n",
        "    direction = float(options['direction'])\n",
        "    # coords= 'cycle_track_viewpoints'\n",
        "    main(elevation='chips_area_dem',\n",
        "         coords=(float(coords[0]), float(coords[1])),\n",
        "         output=options['output'],\n",
        "         pid = pid,\n",
        "         direction=direction,\n",
        "         sample=['chips_landuse_7class'])\n",
        "\n"
      ],
      "execution_count": 0,
      "outputs": []
    },
    {
      "cell_type": "code",
      "metadata": {
        "id": "yBUY5UUq9n_k",
        "colab_type": "code",
        "colab": {}
      },
      "source": [
        "import os\n",
        "filepath=\"/content/drive/My Drive/People-Environment-Toolbox\"\n",
        "os.chdir(filepath)\n",
        "!python single_viewshed.py coordinates='132974.298831, 402771.310804' property_id=1 output=test"
      ],
      "execution_count": 0,
      "outputs": []
    },
    {
      "cell_type": "markdown",
      "metadata": {
        "colab_type": "text",
        "id": "T-fBJIJEDiuU"
      },
      "source": [
        "## Viewshed Results\n"
      ]
    },
    {
      "cell_type": "code",
      "metadata": {
        "id": "-2NrqhCPDNVE",
        "colab_type": "code",
        "colab": {
          "base_uri": "https://localhost:8080/",
          "height": 280
        },
        "outputId": "ac7bb1d2-1914-48b7-fa56-367a3dd19143"
      },
      "source": [
        "# Download & import CEUS data as GRASS GIS location file \n",
        "!wget /content/ \"https://raw.githubusercontent.com/gcmillar/CEUS/master/all_20m_dir1.txt\""
      ],
      "execution_count": 23,
      "outputs": [
        {
          "output_type": "stream",
          "text": [
            "/content/: Scheme missing.\n",
            "--2020-01-25 19:02:45--  https://raw.githubusercontent.com/gcmillar/CEUS/master/all_20m_dir1.txt\n",
            "Resolving raw.githubusercontent.com (raw.githubusercontent.com)... 151.101.0.133, 151.101.64.133, 151.101.128.133, ...\n",
            "Connecting to raw.githubusercontent.com (raw.githubusercontent.com)|151.101.0.133|:443... connected.\n",
            "HTTP request sent, awaiting response... 200 OK\n",
            "Length: 102675 (100K) [text/plain]\n",
            "Saving to: ‘all_20m_dir1.txt’\n",
            "\n",
            "\rall_20m_dir1.txt      0%[                    ]       0  --.-KB/s               \rall_20m_dir1.txt    100%[===================>] 100.27K  --.-KB/s    in 0.03s   \n",
            "\n",
            "2020-01-25 19:02:46 (3.28 MB/s) - ‘all_20m_dir1.txt’ saved [102675/102675]\n",
            "\n",
            "FINISHED --2020-01-25 19:02:46--\n",
            "Total wall clock time: 0.2s\n",
            "Downloaded: 1 files, 100K in 0.03s (3.28 MB/s)\n"
          ],
          "name": "stdout"
        }
      ]
    },
    {
      "cell_type": "markdown",
      "metadata": {
        "colab_type": "text",
        "id": "z27iPt806xcG"
      },
      "source": [
        "# References\n",
        "\n",
        "[The Actual Elevation map of the Netherlands (AHN)]<sup>[3](http://ahn.nl)"
      ]
    },
    {
      "cell_type": "code",
      "metadata": {
        "id": "cRcUU6lCW8EM",
        "colab_type": "code",
        "colab": {}
      },
      "source": [
        ""
      ],
      "execution_count": 0,
      "outputs": []
    }
  ]
}