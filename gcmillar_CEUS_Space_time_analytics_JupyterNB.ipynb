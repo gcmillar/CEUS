{
 "cells": [
  {
   "cell_type": "markdown",
   "metadata": {
    "colab_type": "text",
    "id": "view-in-github",
    "slideshow": {
     "slide_type": "subslide"
    }
   },
   "source": [
    "<a href=\"https://colab.research.google.com/github/gcmillar/CEUS/blob/master/gcmillar_CEUS_Space_time_analytics_JupyterNB.ipynb\" target=\"_parent\"><img src=\"https://colab.research.google.com/assets/colab-badge.svg\" alt=\"Open In Colab\"/></a>"
   ]
  },
  {
   "cell_type": "markdown",
   "metadata": {
    "colab_type": "text",
    "id": "hcqShGttHsb2"
   },
   "source": [
    "---\n",
    "---\n",
    "#        **Space-time Analytics of Human Physiology for Urban Planning**\n",
    "---\n",
    "---\n",
    "\n",
    "This is code and data for computational reproducibility of the following paper:\n",
    "> **Garrett C. Millar**, Ondrej Mitas, Wilco Boode Lisette Hoeke, Joost de Kruijff, Anna Petrasova, Helena Mitasova (2020): \n",
    "Space-time Analytics of Human Physiology for Urban Planning. In: Computers, Environment, and Urban Sytstems, In: *Advances in portable sensing methodologies for urban environments: Understanding cities from a mobility perspective*. \n",
    "[DOI here]\n",
    "\n",
    "<center>\n",
    "  <img src=\"https://raw.githubusercontent.com/gcmillar/CEUS/master/img/viewshed_progress_onedir_ortho.png\" alt=\"runbutton\" height=\"200px\">\n",
    "</center>\n"
   ]
  },
  {
   "cell_type": "markdown",
   "metadata": {
    "colab_type": "text",
    "id": "5Xi0WE1VA7oz"
   },
   "source": [
    "## Table of Contents"
   ]
  },
  {
   "cell_type": "code",
   "execution_count": 3,
   "metadata": {},
   "outputs": [
    {
     "name": "stdout",
     "output_type": "stream",
     "text": [
      "Traceback (most recent call last):\n",
      "  File \"/Library/Frameworks/Python.framework/Versions/3.8/bin/jupyter\", line 10, in <module>\n",
      "    sys.exit(main())\n",
      "  File \"/Library/Frameworks/Python.framework/Versions/3.8/lib/python3.8/site-packages/jupyter_core/command.py\", line 247, in main\n",
      "    command = _jupyter_abspath(subcommand)\n",
      "  File \"/Library/Frameworks/Python.framework/Versions/3.8/lib/python3.8/site-packages/jupyter_core/command.py\", line 133, in _jupyter_abspath\n",
      "    raise Exception(\n",
      "Exception: Jupyter command `jupyter-toc2` not found.\n"
     ]
    }
   ],
   "source": [
    "!jupyter toc2"
   ]
  },
  {
   "cell_type": "markdown",
   "metadata": {
    "colab_type": "toc",
    "id": "62g1eTxMTF4q"
   },
   "source": [
    ">[Space-time Analytics of Human Physiology for Urban Planning](#scrollTo=hcqShGttHsb2)\n",
    "\n",
    ">>[Table of Contents](#scrollTo=5Xi0WE1VA7oz)\n",
    "\n",
    ">>[Code](#scrollTo=uLnyFCClJn6F)\n",
    "\n",
    ">>[Things to Know](#scrollTo=-i2K8lJ4J1z4)\n",
    "\n",
    ">>[Setup & Imports](#scrollTo=eRwEVbK3LaXX)\n",
    "\n",
    ">>>[GDAL & Colaboratory Notebooks](#scrollTo=3UewP07YeyjZ)\n",
    "\n",
    ">>>>[Install GDAL in R](#scrollTo=AvGtTNhMfhVU)\n",
    "\n",
    ">[Software: R](#scrollTo=PZk_VvpuKf0F)\n",
    "\n",
    ">>>[Install Required R Packages](#scrollTo=n9t-PhSneJ-H)\n",
    "\n",
    ">>[Data Processing](#scrollTo=2OV72uepLixb)\n",
    "\n",
    ">>>[Artifact Correction](#scrollTo=eTFxJNzJLufO)\n",
    "\n",
    ">>>[Joining](#scrollTo=iUlGnMdvYSko)\n",
    "\n",
    ">>>[Identifying Cycle Highway Directions](#scrollTo=ZaUNk_NKhMgT)\n",
    "\n",
    ">>>[Skin Conductance](#scrollTo=ZWLfza5-Yf3l)\n",
    "\n",
    ">[Spatial Data](#scrollTo=tI2tuAZEbvWQ)\n",
    "\n",
    ">>[Processing & Transformation](#scrollTo=Msp57oPXJ8R6)\n",
    "\n",
    ">>[Processing & Export for Interactive Application - Stress3d](#scrollTo=SWFB0G1uYEf3)\n",
    "\n",
    ">>[Exporting as Vector to GRASS](#scrollTo=MbZGnHMkYEf0)\n",
    "\n",
    ">[Software: GRASS GIS](#scrollTo=oC2lpaBs3Q8D)\n",
    "\n",
    ">>[Install](#scrollTo=vSy1KNtghIxl)\n",
    "\n",
    ">>[CEUS Data — GRASS GIS](#scrollTo=DExWI9fwO6Lr)\n",
    "\n",
    ">>>>[Elevation](#scrollTo=DExWI9fwO6Lr)\n",
    "\n",
    ">>>>[Land Use](#scrollTo=DExWI9fwO6Lr)\n",
    "\n",
    ">>>[Download CEUS Location Dataset](#scrollTo=-ydwDKOAhZzc)\n",
    "\n",
    ">>[Configure Python to Run GRASS](#scrollTo=sLCc64a_z-rv)\n",
    "\n",
    ">[Analyses](#scrollTo=Qgy56fCTrx0L)\n",
    "\n",
    ">>[Distance to Roads](#scrollTo=9k6luw1l6xAJ)\n",
    "\n",
    ">>[Viewshed Analysis](#scrollTo=TB4_hakk5Zqi)\n",
    "\n",
    ">>>[Parallelization in Python](#scrollTo=JSIi-rm0FkI8)\n",
    "\n",
    ">>[Viewshed Results](#scrollTo=T-fBJIJEDiuU)\n",
    "\n",
    ">>[Final Export of Data](#scrollTo=KfINmNCEZGw8)\n",
    "\n",
    ">>[Statistical Modeling](#scrollTo=UEOfNFaqG1WM)\n",
    "\n"
   ]
  },
  {
   "cell_type": "markdown",
   "metadata": {
    "colab_type": "text",
    "id": "YVawZrLTIitb"
   },
   "source": [
    "[Clickable_visible_hyperlink](Hidden_landing_URL)"
   ]
  },
  {
   "cell_type": "markdown",
   "metadata": {
    "colab_type": "text",
    "id": "uLnyFCClJn6F"
   },
   "source": [
    "# Code\n",
    "This is a modified version of a notebook for reproducibility of the applied methodological framework applied in the Millar et al. 2020 paper. The original notebook is at https://colab.research.google.com/github/gcmillar/CEUS/blob/master/PeopleEnvironmentGrassGIS.ipynb\n",
    "\n",
    "The tools implementing the published methods are available at https://grass.osgeo.org/grass7/manuals/addons/.\n",
    "\n",
    "<br/>\n",
    "\n",
    "---\n",
    "\n",
    "<br/>\n",
    "\n",
    "<table class=\"tfo-notebook-buttons\" align=\"center\" text-decoration=\"none\">\n",
    "  <td>\n",
    "    <a target=\"_blank\" href=\"https://colab.research.google.com/github/gcmillar/CEUS/blob/master/gcmillar_CEUS_Space_time_analytics_JupyterNB.ipynb\n",
    "    \"><img src=\"https://raw.githubusercontent.com/gcmillar/CEUS/master/img/colab_logo_32px.png\" />Run in Google Colab</a>&nbsp;&nbsp;&nbsp;\n",
    "  </td>\n",
    "  <td>\n",
    "    <a target=\"_blank\" href=\"https://github.com/gcmillar/CEUS/blob/master/gcmillar_CEUS_Space_time_analytics_JupyterNB.ipynb\"><img src=\"https://raw.githubusercontent.com/gcmillar/CEUS/master/img/GitHub-Mark-26px.png\" />View source on GitHub</a>\n",
    "  </td>\n",
    "    <td>\n",
    "    <a href=\"https://drive.google.com/a/ncsu.edu/uc?authuser=0&id=1L7p5i_xBsYkw1Dav0iiDvahSuxKCaJ0i&export=download\"><img src=\"https://raw.githubusercontent.com/gcmillar/CEUS/master/img/download_logo_32px.png\" />Download notebook</a>\n",
    "  </td>\n",
    "</table>\n",
    "<br/>\n",
    "\n",
    "\n",
    "---"
   ]
  },
  {
   "cell_type": "markdown",
   "metadata": {
    "colab_type": "text",
    "id": "-i2K8lJ4J1z4"
   },
   "source": [
    "## Things to Know \n",
    "* Click play button in upper left corner of code window to run script: <img src=\"https://raw.githubusercontent.com/gcmillar/CEUS/master/img/codebutton.png\" alt=\"runbutton\" width=\"14\" height=\"14\">\n",
    "<!-- ![alt text](https://raw.githubusercontent.com/gcmillar/CEUS/master/img/codebutton.png \"Logo Title Text 1\") -->\n",
    "\n",
    "* Code cells with long computational times: <img src=\"https://raw.githubusercontent.com/gcmillar/CEUS/master/img/wait_time.png\" alt=\"runbutton\" width=\"25\" height=\"25\">\n",
    "\n",
    "---\n"
   ]
  },
  {
   "cell_type": "markdown",
   "metadata": {
    "colab_type": "text",
    "id": "eRwEVbK3LaXX"
   },
   "source": [
    "## Setup & Imports"
   ]
  },
  {
   "cell_type": "markdown",
   "metadata": {
    "colab": {},
    "colab_type": "code",
    "id": "Oz5h3Rs7UIVA"
   },
   "source": [
    "%%capture\n",
    "# !jupyter nbextension enable src/jupyter_contrib_nbextensions/nbextensions/toc2\n",
    "!find / -name jupyter_contrib_nbextensions*"
   ]
  },
  {
   "cell_type": "markdown",
   "metadata": {
    "colab": {},
    "colab_type": "code",
    "id": "jKZap_6qSgQm"
   },
   "source": [
    "%%capture\n",
    "!jupyter nbextension install --user https://rawgithub.com/minrk/ipython_extensions/master/nbextensions/toc.js\n",
    "!curl -L https://rawgithub.com/minrk/ipython_extensions/master/nbextensions/toc.css > $(jupyter --data-dir)/nbextensions/toc.css\n",
    "!jupyter nbextension enable toc2;"
   ]
  },
  {
   "cell_type": "markdown",
   "metadata": {
    "colab": {},
    "colab_type": "code",
    "id": "hjs1qjDF5_aE"
   },
   "source": [
    "import warnings\n",
    "warnings.filterwarnings(action='once')\n",
    "# warnings.filterwarnings('ignore')"
   ]
  },
  {
   "cell_type": "markdown",
   "metadata": {
    "colab_type": "text",
    "id": "CfcoVwSmyICv"
   },
   "source": [
    "###R\n",
    "#### R Magic\n",
    "\n",
    "Very needed step, load cell magic for R, where then each R-script cell is begun with: `%%R`  "
   ]
  },
  {
   "cell_type": "markdown",
   "metadata": {
    "colab": {},
    "colab_type": "code",
    "id": "T03DfBR1Hrh3"
   },
   "source": [
    "%%capture\n",
    "# activate R magic\n",
    "%load_ext rpy2.ipython"
   ]
  },
  {
   "cell_type": "markdown",
   "metadata": {
    "colab_type": "text",
    "id": "AvGtTNhMfhVU"
   },
   "source": [
    "#### Install GDAL in R"
   ]
  },
  {
   "cell_type": "markdown",
   "metadata": {
    "colab": {},
    "colab_type": "code",
    "id": "6KbcYcDbej7I"
   },
   "source": [
    "%%capture\n",
    "%%R\n",
    "install.packages(\"rgdal\")\n",
    "library(rgdal);"
   ]
  },
  {
   "cell_type": "markdown",
   "metadata": {
    "colab_type": "text",
    "id": "3UewP07YeyjZ"
   },
   "source": [
    "### GDAL & Colaboratory Notebooks \n",
    "\n",
    "Need to setup the colaboratory notebook with GDAL, to be used in R. As this will be running on a ubuntu server, run \n",
    "*   `apt-get update`\n",
    "*   `apt-get install libgdal-dev` \n",
    "    *   run this before trying to install GDAL otherwise you will get errors.\n",
    "    * The flag -y accepts the download and runs – this is the longest part (but not too long)\n",
    "*   Install python-gdal again with the -y flag\n",
    "*   Install NumPy and SciPy (not compulsory, but why not?)\n",
    "*   Test the installation by importing GDAL. No error? It should be ok.\n",
    "\n",
    "> **NOTE**: <img src=\"https://raw.githubusercontent.com/gcmillar/CEUS/master/img/wait_time.png\" alt=\"runbutton\" width=\"25\" height=\"25\">"
   ]
  },
  {
   "cell_type": "markdown",
   "metadata": {
    "colab": {},
    "colab_type": "code",
    "id": "PIg3hmu1eLA_"
   },
   "source": [
    "%%capture\n",
    "#Step 1\n",
    "!apt-get update\n",
    "#Step 2\n",
    "!apt-get install libgdal-dev -y\n",
    "#Step 3\n",
    "!apt-get install python-gdal -y\n",
    "#Step 4\n",
    "!apt-get install python-numpy python-scipy -y\n",
    "#Step 5\n",
    "import gdal "
   ]
  },
  {
   "cell_type": "markdown",
   "metadata": {
    "colab_type": "text",
    "id": "wqoZlcLpB2Xl"
   },
   "source": [
    "### Pandas"
   ]
  },
  {
   "cell_type": "markdown",
   "metadata": {
    "colab": {},
    "colab_type": "code",
    "id": "Xv3zeGvZxFxI"
   },
   "source": [
    "%%capture\n",
    "import pandas as pd"
   ]
  },
  {
   "cell_type": "markdown",
   "metadata": {
    "colab_type": "text",
    "id": "PZk_VvpuKf0F"
   },
   "source": [
    "# Software: **R**\n",
    "\n",
    "---"
   ]
  },
  {
   "cell_type": "markdown",
   "metadata": {
    "colab_type": "text",
    "id": "n9t-PhSneJ-H"
   },
   "source": [
    "### Install Required R Packages \n",
    "> **NOTE**: <img src=\"https://raw.githubusercontent.com/gcmillar/CEUS/master/img/wait_time.png\" alt=\"runbutton\" width=\"25\" height=\"25\">"
   ]
  },
  {
   "cell_type": "markdown",
   "metadata": {
    "colab": {},
    "colab_type": "code",
    "id": "iS0OHB_vKpXC"
   },
   "source": [
    "%%capture\n",
    "%%R\n",
    "options(digits = 8)\n",
    "if (!require(dplyr)) {install.packages(\"dplyr\"); library(dplyr)}\n",
    "if (!require(tidyr)) {install.packages(\"tidyr\"); library(tidyr)}\n",
    "if (!require(sp)) {install.packages(\"sp\"); library(sp)}\n",
    "if (!require(raster)) {install.packages(\"raster\"); library(raster)}\n",
    "if (!require(rgeos)) {install.packages(\"rgeos\"); library(rgeos)}\n",
    "if (!require(rgbif)) {install.packages(\"rgbif\"); library(rgbif)}\n",
    "if (!require(viridis)) {install.packages(\"viridis\"); library(viridis)}\n",
    "if (!require(gridExtra)) {install.packages(\"gridExtra\"); library(gridExtra)}\n",
    "if (!require(R.matlab)) {install.packages(\"R.matlab\"); library(R.matlab)}\n",
    "if (!require(plyr)) {install.packages(\"plyr\"); library(plyr)}\n",
    "if (!require(data.table)) {install.packages(\"data.table\"); library(data.table)}\n",
    "if (!require(maptools)) {install.packages(\"maptools\"); library(maptools)}\n",
    "if (!require(spatstat)) {install.packages(\"spatstat\"); library(spatstat)}\n",
    "if (!require(rasterVis)) {install.packages(\"rasterVis\"); library(rasterVis)}\n",
    "if (!require(leaflet)) {install.packages(\"leaflet\"); library(leaflet)}\n",
    "if (!require(RColorBrewer)) {install.packages(\"RColorBrewer\"); library(RColorBrewer)}\n",
    "if (!require(scales)) {install.packages(\"scales\"); library(scales)}\n",
    "if (!require(spgwr)) {install.packages(\"spgwr\"); library(spgwr)}\n",
    "if (!require(gdalUtils)) {install.packages(\"gdalUtils\"); library(gdalUtils)}\n",
    "if (!require(devtools)) {install.packages(\"devtools\"); library(devtools)}\n",
    "if (!require(tidyverse)) {install.packages(\"tidyverse\"); library(tidyverse)}\n",
    "if (!require(sf)) {install.packages(\"sf\"); library(sf)}\n",
    "if (!require(ggmap)) {install.packages(\"ggmap\"); library(ggmap)}\n",
    "if (!require(formatR)) {install.packages(\"formatR\"); library(formatR)}\n",
    "if (!require(stats)) {install.packages(\"stats\"); library(stats)}\n",
    "if (!require(data.table)) {install.packages(\"data.table\"); library(data.table)}\n",
    "if (!require(lubridate)) {install.packages(\"lubridate\"); library(lubridate)}\n",
    "if (!require(ggplot2)) {install.packages(\"ggplot2\"); library(ggplot2)}\n",
    "if (!require(grid)) {install.packages(\"grid\"); library(grid)}\n",
    "if (!require(gridExtra)) {install.packages(\"gridExtra\"); library(gridExtra)}\n",
    "if (!require(lattice)) {install.packages(\"lattice\"); library(lattice)}\n",
    "if (!require(leaflet)) {install.packages(\"leaflet\"); library(leaflet)}\n",
    "if (!require(lme4)) {install.packages(\"lme4\"); library(lme4)}\n",
    "if (!require(corrgram)) {install.packages(\"corrgram\"); library(corrgram)}\n",
    "if (!require(psych)) {install.packages(\"psych\"); library(psych)};"
   ]
  },
  {
   "cell_type": "markdown",
   "metadata": {
    "colab_type": "text",
    "id": "2OV72uepLixb"
   },
   "source": [
    "## Data Processing"
   ]
  },
  {
   "cell_type": "markdown",
   "metadata": {
    "colab_type": "text",
    "id": "2oWgKcnyRZ2y"
   },
   "source": [
    "Read in CEUS Initial Cyclist Data [.csv]; using [online link from GitHub](https://raw.githubusercontent.com/gcmillar/CEUS/master/CHIPS_all.csv):\n",
    "\n",
    "> **File Description**: Initial dataset for CEUS analysis (.csv of cyclists' location and physiological data) \n",
    "\n",
    "> **Note**: This data is read in under the assumption the raw skin conductance signals have been properly processed in Ledalab--MATLAB-based software for the analysis of raw EDA data. This process used a moving window of 20 seconds to identify deviations of 3 standard deviations or more as potential motion artifacts. Deviations were visually inspected and if they failed to conform to a standard, physiologically-plausible shape for a SCR, were replaced with linear interpolation. Cleaned data were then deconvoluted using the Ledalab toolbox into phasic and tonic components. After deconvolution, we can now proceed with the data representing the phasic component, where the physiological data are georeferenced through a time-based synchronization of the SCR data with GPS location data.\n",
    "<!-- ~~~ -->\n",
    " <!-- **File Description**: Initial dataset for CEUS analysis (.csv of cyclists' location and physiological data)  -->\n",
    "<!-- ~~~ -->\n"
   ]
  },
  {
   "cell_type": "markdown",
   "metadata": {
    "colab": {},
    "colab_type": "code",
    "id": "inzG0s8pPmmG"
   },
   "source": [
    "%%capture\n",
    "# import csv\n",
    "!wget \"https://raw.githubusercontent.com/gcmillar/CEUS/master/CHIPS_all.csv\"\n",
    "CHIPS_url = 'https://raw.githubusercontent.com/gcmillar/CEUS/master/CHIPS_all.csv'\n",
    "CHIPS_df = pd.read_csv(CHIPS_url) # Dataset is now stored in a Pandas Dataframe"
   ]
  },
  {
   "cell_type": "markdown",
   "metadata": {
    "colab_type": "text",
    "id": "TBP29qMI0jHE"
   },
   "source": [
    "Using Pandas to display CHIPS cycling data as interactive table."
   ]
  },
  {
   "cell_type": "markdown",
   "metadata": {
    "colab": {},
    "colab_type": "code",
    "id": "FyyyVMY9veJ_"
   },
   "source": [
    "%%capture\n",
    "%load_ext google.colab.data_table\n",
    "CHIPS_df"
   ]
  },
  {
   "cell_type": "markdown",
   "metadata": {
    "colab": {},
    "colab_type": "code",
    "id": "oaoicN-dJzMP"
   },
   "source": [
    "# # @interact\n",
    "# def show_articles_more_than(column='participant', x=5000):\n",
    "#     return df.loc[df[column] > x]\n",
    "\n",
    "# import ipywidgets as widgets\n",
    "# from ipywidgets import interact, interact_manual\n",
    "\n",
    "# @interact\n",
    "# def show_articles_more_than(column='participant', x=5000):\n",
    "#     return CHIPS_df.loc[CHIPS_df[column] > x]"
   ]
  },
  {
   "cell_type": "markdown",
   "metadata": {
    "colab": {},
    "colab_type": "code",
    "id": "FzqXCRNIveJC"
   },
   "source": [
    "%%capture\n",
    "%unload_ext google.colab.data_table"
   ]
  },
  {
   "cell_type": "markdown",
   "metadata": {
    "colab": {},
    "colab_type": "code",
    "id": "sPcnkvACLicK"
   },
   "source": [
    "%%R\n",
    "setwd(\"/content/\")\n",
    "CHIPS_df <- read.table(\"CHIPS_all.csv\", header = TRUE, row.names=NULL, sep=\",\")\n",
    "setnames(CHIPS_df, \"long\", \"lon\")"
   ]
  },
  {
   "cell_type": "markdown",
   "metadata": {
    "colab_type": "text",
    "id": "eTFxJNzJLufO"
   },
   "source": [
    "### Artifact Correction\n",
    "The script and descriptions below detail the process of removing the first and last 4.00% of the raw skin conductance data to correct for artifacts: \n",
    "Using time, we know 4.00% of `max(CHIPS_df$time)` is `max(CHIPS_df$time) * 0.040` seconds. So, we'll delete the first and last `max(CHIPS_df$time) * 0.040` seconds (or `max(CHIPS_df$time) * 0.040 / 60` \n",
    "minutes) in the data to remove the observed artifacts. Since the data was collected every 0.25 seconds, that means `round(max(CHIPS_df$time) * 0.040 * 4)` rows should be deleted at the beginning and end of the data set."
   ]
  },
  {
   "cell_type": "markdown",
   "metadata": {
    "colab": {},
    "colab_type": "code",
    "id": "Rf48N1ZuLzGA"
   },
   "source": [
    "%%R\n",
    "unique(CHIPS_df$participant)\n",
    "# keeping specific pt data\n",
    "CHIPS_pts <- CHIPS_df\n",
    "# data needs to first be separated by participants to remove artifacts \n",
    "pt1 <- CHIPS_pts[CHIPS_pts$participant == 1, ]\n",
    "pt2 <- CHIPS_pts[CHIPS_pts$participant == 2, ]\n",
    "pt3 <- CHIPS_pts[CHIPS_pts$participant == 3, ]\n",
    "pt4 <- CHIPS_pts[CHIPS_pts$participant == 4, ]\n",
    "pt5 <- CHIPS_pts[CHIPS_pts$participant == 5, ]\n",
    "pt6 <- CHIPS_pts[CHIPS_pts$participant == 6, ]\n",
    "pt7 <- CHIPS_pts[CHIPS_pts$participant == 7, ]\n",
    "pt8 <- CHIPS_pts[CHIPS_pts$participant == 8, ]\n",
    "pt9 <- CHIPS_pts[CHIPS_pts$participant == 9, ]\n",
    "pt10 <- CHIPS_pts[CHIPS_pts$participant == 10, ]\n",
    "pt11 <- CHIPS_pts[CHIPS_pts$participant == 11, ]\n",
    "pt12 <- CHIPS_pts[CHIPS_pts$participant == 12, ]\n",
    "# first rows\n",
    "N <- round(max(CHIPS_pts$time) * 0.040 * 4)\n",
    "pt1 <- pt1[-(1:N), , drop = FALSE]\n",
    "pt2 <- pt2[-(1:N), , drop = FALSE]\n",
    "pt3 <- pt3[-(1:N), , drop = FALSE]\n",
    "pt4 <- pt4[-(1:N), , drop = FALSE]\n",
    "pt5 <- pt5[-(1:N), , drop = FALSE]\n",
    "pt6 <- pt6[-(1:N), , drop = FALSE]\n",
    "pt7 <- pt7[-(1:N), , drop = FALSE]\n",
    "pt8 <- pt8[-(1:N), , drop = FALSE]\n",
    "pt9 <- pt9[-(1:N), , drop = FALSE]\n",
    "pt10 <- pt10[-(1:N), , drop = FALSE]\n",
    "pt11 <- pt11[-(1:N), , drop = FALSE]\n",
    "pt12 <- pt12[-(1:N), , drop = FALSE]\n",
    "# last rows\n",
    "N.2 <- round(max(CHIPS_pts$time) * 0.040 * 4)\n",
    "pt1 <- pt1[1:(nrow(pt1)-N.2),]\n",
    "pt2 <- pt2[1:(nrow(pt2)-N.2),]\n",
    "pt3 <- pt3[1:(nrow(pt3)-N.2),]\n",
    "pt4 <- pt4[1:(nrow(pt4)-N.2),]\n",
    "pt5 <- pt5[1:(nrow(pt5)-N.2),]\n",
    "pt6 <- pt6[1:(nrow(pt6)-N.2),]\n",
    "pt7 <- pt7[1:(nrow(pt7)-N.2),]\n",
    "pt8 <- pt8[1:(nrow(pt8)-N.2),]\n",
    "pt9 <- pt9[1:(nrow(pt9)-N.2),]\n",
    "pt10 <- pt10[1:(nrow(pt10)-N.2),]\n",
    "pt11 <- pt11[1:(nrow(pt11)-N.2),]\n",
    "pt12 <- pt12[1:(nrow(pt12)-N.2),]"
   ]
  },
  {
   "cell_type": "markdown",
   "metadata": {
    "colab_type": "text",
    "id": "iUlGnMdvYSko"
   },
   "source": [
    "### Joining \n",
    "All participant data that were just separated and cleaned by using time are re-included into the same data frame."
   ]
  },
  {
   "cell_type": "markdown",
   "metadata": {
    "attributes": {
     "cache": "TRUE",
     "classes": [],
     "id": "",
     "message": "FALSE,",
     "tidy": "TRUE,",
     "warning": "FALSE,"
    },
    "colab": {},
    "colab_type": "code",
    "id": "MT7OKP0XZCsN"
   },
   "source": [
    "%%R\n",
    "# join\n",
    "CHIPS_df_clean <- rbind(pt1, pt2, pt3, pt4, pt5, pt6, pt7, pt8, pt9, pt10, pt11, pt12)\n",
    "CHIPS_df_clean <- add_count(CHIPS_df_clean, lon, lat, name = \"data.points.n\")\n",
    "CHIPS_df_clean$lon.lat <- paste(CHIPS_df_clean$lon, CHIPS_df_clean$lat, sep=\",\")\n",
    "CHIPS_time.in.cell <- aggregate(time ~ lat + lon, data = CHIPS_df_clean, sum)"
   ]
  },
  {
   "cell_type": "markdown",
   "metadata": {
    "colab_type": "text",
    "id": "ZaUNk_NKhMgT"
   },
   "source": [
    "### Identifying Cycle Highway Directions\n",
    "\n",
    "<!-- <mark>**Should this code be included, since the resulting charts didn't end up making the paper?**</mark> -->\n",
    "\n",
    "Half participants went Waalwijk --> Tilburg, other half went Tilburg --> Waalwijk:\n",
    "*   `Waalwijk --> Tilburg: 1, 3, 4, 10, 11, 12`\n",
    "*   `Tilburg --> Waalwijk: 2, 5, 6, 7, 8, 9`\n",
    "\n",
    "> Groups need to be split for proper GPS data visualiztion"
   ]
  },
  {
   "cell_type": "markdown",
   "metadata": {
    "attributes": {
     "cache": "TRUE",
     "classes": [],
     "dpi": "300,",
     "fig.align": "'center',",
     "fig.cap": "\"\",",
     "fig.height": "5,",
     "id": "",
     "message": "FALSE,",
     "tidy": "TRUE,",
     "warning": "FALSE,"
    },
    "colab": {},
    "colab_type": "code",
    "id": "Cc9tQ1-oYEfs"
   },
   "source": [
    "%%R\n",
    "CHIPS_df_clean$direction <- NA\n",
    "CHIPS_df_clean$direction[which(CHIPS_df_clean$participant %in% c(1, 3, 4, 10, 11, 12))] <- \"waal_til\"\n",
    "CHIPS_df_clean$direction[which(CHIPS_df_clean$participant %in% c(2, 5, 6, 7, 8, 9))] <- \"til_waal\"\n",
    "CHIPS_df_clean$direction <- as.factor(CHIPS_df_clean$direction)\n",
    "CHIPS_waal_til <- subset(CHIPS_df_clean, direction==\"waal_til\")\n",
    "CHIPS_til_waal <- subset(CHIPS_df_clean, direction==\"til_waal\")"
   ]
  },
  {
   "cell_type": "markdown",
   "metadata": {
    "colab_type": "text",
    "id": "ZWLfza5-Yf3l"
   },
   "source": [
    "### Skin Conductance\n",
    "\n",
    "<mark>**Should this code be included, since the resulting charts didn't end up making the paper?**</mark>\n",
    "\n",
    "Plotting SCR data as a function of elevation and speed by time stamps of each way point using `ggplot`. This helps examine examine potentially confounding effects between variables.\n",
    "\n",
    "As to not confuse ggplot, we do not pass the `SpatialPointsDataFrame`-object directly, but convert it to a regular data frame with `as.data.frame()`:"
   ]
  },
  {
   "cell_type": "markdown",
   "metadata": {
    "colab": {
     "base_uri": "https://localhost:8080/",
     "height": 0
    },
    "colab_type": "code",
    "id": "_vlxAUOkaD1I",
    "outputId": "4c99ab22-8995-45fb-d0e2-3324a7e8c81f"
   },
   "source": [
    "%%R\n",
    "# restricting decimal places for graphs\n",
    "options(digits = 0)\n",
    "# plot of time and elevation, colored by skin conductance\n",
    "# CHIPS_waal_til\n",
    "time_elev_conduct_plot.waal_til <- ggplot(as.data.frame(CHIPS_waal_til), # convert to regular dataframe\n",
    "                                          aes(x=time, y=altitude, color = phasic_z)) +\n",
    "  scale_color_gradient2(low= \"dodgerblue4\", mid=\"slategray2\", high=\"red3\",\n",
    "                        midpoint = median(CHIPS_df$phasic_z),\n",
    "                        breaks=seq(min(CHIPS_df$phasic_z), max(CHIPS_df$phasic_z),\n",
    "                                    (max(CHIPS_df$phasic_z)-min(CHIPS_df$phasic_z))/4)) +\n",
    "  theme(panel.grid.major = element_line(colour = \"#808080\"),\n",
    "        legend.title = element_blank()) +\n",
    "  theme_linedraw(base_size = 28) +\n",
    "  geom_point(alpha = 0.6, size = 3.5, show.legend = FALSE) + \n",
    "  geom_smooth(span = 0.3, colour=\"#90CA77\", size=3, alpha=0.6) +\n",
    "   # theme_bw() + \n",
    "   ggtitle(\"Waalwijk to Tilburg\") +\n",
    "  labs(x='\\nCycling time', y='')\n",
    "\n",
    "# CHIPS_til_waal\n",
    "CHIPS_til_waal[order(CHIPS_til_waal$distance),]\n",
    "CHIPS_til_waal$participant[1:50]\n",
    "time_elev_conduct_plot.til_waal <- ggplot(as.data.frame(CHIPS_til_waal), # convert to regular dataframe\n",
    "            aes(x=time, y=altitude, color = phasic_z)) +\n",
    "  scale_color_gradient2(low= \"dodgerblue4\", mid=\"slategray2\", high=\"red3\", \n",
    "                       midpoint = median(CHIPS_df$phasic_z),\n",
    "                       breaks=seq(min(CHIPS_df$phasic_z), max(CHIPS_df$phasic_z),\n",
    "                                    (max(CHIPS_df$phasic_z)-min(CHIPS_df$phasic_z))/4)) +\n",
    "  theme(panel.grid.major = element_line(colour = \"#808080\")) +\n",
    "  theme_linedraw(base_size = 28) +\n",
    "  geom_point(alpha = 0.6, size = 3.5, show.legend = FALSE) + \n",
    "  geom_smooth(span = 0.3, colour=\"#90CA77\", size=3, alpha=0.6) +\n",
    "  ggtitle(\"Tilburg to Waalwijk\") +\n",
    "  labs(x='\\nCycling time', y='')\n",
    "# together\n",
    "grid.arrange(time_elev_conduct_plot.waal_til, time_elev_conduct_plot.til_waal, ncol=2)\n",
    "\n",
    "# plot of time and speed, colored by skin conductance\n",
    "# CHIPS_waal_til\n",
    "\n",
    "# subset(CHIPS_waal_til, CHIPS_waal_til$participant==9,CHIPS_waal_til$distance>100)\n",
    "\n",
    "time_speed_conduct_plot.waal_til <- ggplot(as.data.frame(CHIPS_waal_til), # convert to regular dataframe\n",
    "                                          aes(x=time, y=speed, color = phasic_z)) +\n",
    "  geom_smooth(span = 0.3, colour=\"darkgray\", size=3, alpha=0.6) +\n",
    "  scale_color_gradient2(low= \"dodgerblue4\", mid=\"slategray2\", high=\"red3\", \n",
    "                        midpoint = median(CHIPS_df$phasic_z),\n",
    "                        breaks=seq(min(CHIPS_df$phasic_z), max(CHIPS_df$phasic_z),\n",
    "                                    (max(CHIPS_df$phasic_z)-min(CHIPS_df$phasic_z))/4)) +\n",
    "  theme(panel.grid.major = element_line(colour = \"#808080\"),\n",
    "        legend.title = element_blank()) +\n",
    "  theme_linedraw(base_size = 28) +\n",
    "  geom_point(alpha = 0.6, size = 3.5, show.legend = FALSE) + \n",
    "  geom_smooth(span = 0.3, colour=\"#90CA77\", size=3, alpha=0.6) +\n",
    "   # theme_bw() + \n",
    "   ggtitle(\"Waalwijk to Tilburg\") +\n",
    "  labs(x='\\nCycling time', y='')\n",
    "# CHIPS_til_waal\n",
    "time_speed_conduct_plot.til_waal <- ggplot(as.data.frame(CHIPS_til_waal), # convert to regular dataframe\n",
    "            aes(x=time, y=speed, color = phasic_z)) +\n",
    "  geom_smooth(span = 0.3, colour=\"darkgray\", size=3, alpha=0.6) +\n",
    "  scale_color_gradient2(low= \"dodgerblue4\", mid=\"slategray2\", high=\"red3\", \n",
    "                       midpoint = median(CHIPS_df$phasic_z),\n",
    "                       breaks=seq(min(CHIPS_df$phasic_z), max(CHIPS_df$phasic_z),\n",
    "                                    (max(CHIPS_df$phasic_z)-min(CHIPS_df$phasic_z))/4)) +\n",
    "  theme(panel.grid.major = element_line(colour = \"#808080\")) +\n",
    "  theme_linedraw(base_size = 28) +\n",
    "  geom_point(alpha = 0.6, size = 3.5, show.legend = FALSE) + \n",
    "  geom_smooth(span = 0.3, colour=\"#90CA77\", size=3, alpha=0.6) +\n",
    "  ggtitle(\"Tilburg to Waalwijk\") +\n",
    "  labs(x='\\nCycling time', y='')\n",
    "# together\n",
    "grid.arrange(time_speed_conduct_plot.waal_til, time_speed_conduct_plot.til_waal, ncol=2)\n",
    "\n",
    "\n",
    "# direction instead of time on x axis\n",
    "# first elevation\n",
    "# order_by(CHIPS_waal_til$altitude, CHIPS_waal_til$distance)\n",
    "CHIPS_waal_til <- subset(CHIPS_waal_til, distance>=100)\n",
    "dist_elev_conduct_plot.waal_til <- ggplot(as.data.frame(CHIPS_waal_til), # convert to regular dataframe\n",
    "                                          aes(x=distance, y=altitude, color = phasic_z)) +\n",
    "  scale_color_gradient2(low= \"dodgerblue4\", mid=\"slategray2\", high=\"red3\",\n",
    "                        midpoint = median(CHIPS_df$phasic_z),\n",
    "                        breaks=seq(min(CHIPS_df$phasic_z), max(CHIPS_df$phasic_z),\n",
    "                                    (max(CHIPS_df$phasic_z)-min(CHIPS_df$phasic_z))/4)) +\n",
    "  theme(panel.grid.major = element_line(colour = \"#808080\"),\n",
    "        legend.title = element_blank()) +\n",
    "  theme_linedraw(base_size = 28) +\n",
    "  geom_point(alpha = 0.6, size = 3.5, show.legend = FALSE) + \n",
    "  geom_smooth(span = 0.3, colour=\"#90CA77\", size=3, alpha=0.6) +\n",
    "   # theme_bw() + \n",
    "   ggtitle(\"Waalwijk to Tilburg\") +\n",
    "  labs(x='\\nDistance (m)', y='')\n",
    "\n",
    "# CHIPS_til_waal\n",
    "CHIPS_til_waal <- subset(CHIPS_til_waal, distance>=100)\n",
    "dist_elev_conduct_plot.til_waal <- ggplot(as.data.frame(CHIPS_til_waal), # convert to regular dataframe\n",
    "            aes(x=distance, y=altitude, color = phasic_z)) +\n",
    "  scale_color_gradient2(low= \"dodgerblue4\", mid=\"slategray2\", high=\"red3\", \n",
    "                       midpoint = median(CHIPS_df$phasic_z),\n",
    "                       breaks=seq(min(CHIPS_df$phasic_z), max(CHIPS_df$phasic_z),\n",
    "                                    (max(CHIPS_df$phasic_z)-min(CHIPS_df$phasic_z))/4)) +\n",
    "  theme(panel.grid.major = element_line(colour = \"#808080\")) +\n",
    "  theme_linedraw(base_size = 28) +\n",
    "  geom_point(alpha = 0.6, size = 3.5, show.legend = FALSE) + \n",
    "  geom_smooth(span = 0.3, colour=\"#90CA77\", size=3, alpha=0.6) +\n",
    "  ggtitle(\"Tilburg to Waalwijk\") +\n",
    "  labs(x='\\nDistance (m)', y='')\n",
    "# together\n",
    "grid.arrange(dist_elev_conduct_plot.waal_til,dist_elev_conduct_plot.til_waal, ncol=2)\n",
    "\n",
    "\n",
    "# now for speed\n",
    "\n",
    "dist_speed_conduct_plot.waal_til <- ggplot(as.data.frame(CHIPS_waal_til), # convert to regular dataframe\n",
    "                                          aes(x=distance, y=speed, color = phasic_z)) +\n",
    "  scale_color_gradient2(low= \"dodgerblue4\", mid=\"slategray2\", high=\"red3\",\n",
    "                        midpoint = median(CHIPS_df$phasic_z),\n",
    "                        breaks=seq(min(CHIPS_df$phasic_z), max(CHIPS_df$phasic_z),\n",
    "                                    (max(CHIPS_df$phasic_z)-min(CHIPS_df$phasic_z))/4)) +\n",
    "  theme(panel.grid.major = element_line(colour = \"#808080\"),\n",
    "        legend.title = element_blank()) +\n",
    "  theme_linedraw(base_size = 28) +\n",
    "  geom_point(alpha = 0.6, size = 3.5, show.legend = FALSE) + \n",
    "  geom_point() + \n",
    "  geom_smooth(span = 0.3, colour=\"#90CA77\", size=3, alpha=0.6) +\n",
    "   # theme_bw() + \n",
    "   ggtitle(\"Waalwijk to Tilburg\") +\n",
    "  labs(x='\\nDistance (m)', y='')\n",
    "\n",
    "# CHIPS_til_waal\n",
    "CHIPS_til_waal <- subset(CHIPS_til_waal, speed>0)\n",
    "dist_speed_conduct_plot.til_waal <- ggplot(as.data.frame(CHIPS_til_waal), # convert to regular dataframe\n",
    "            aes(x=distance, y=speed, color = phasic_z)) +\n",
    "  scale_color_gradient2(low= \"dodgerblue4\", mid=\"slategray2\", high=\"red3\", \n",
    "                       midpoint = median(CHIPS_df$phasic_z),\n",
    "                       breaks=seq(min(CHIPS_df$phasic_z), max(CHIPS_df$phasic_z),\n",
    "                                    (max(CHIPS_df$phasic_z)-min(CHIPS_df$phasic_z))/4)) +\n",
    "  theme(panel.grid.major = element_line(colour = \"#808080\")) +\n",
    "  theme_linedraw(base_size = 28) +\n",
    "  geom_point(alpha = 0.6, size = 3.5, show.legend = FALSE) + \n",
    "  geom_smooth(span = 0.3, colour=\"#90CA77\", size=3, alpha=0.6) +\n",
    "  ggtitle(\"Tilburg to Waalwijk\") +\n",
    "  labs(x='\\nDistance (m)', y='')\n",
    "# together\n",
    "grid.arrange(dist_speed_conduct_plot.waal_til,dist_speed_conduct_plot.til_waal, ncol=2)"
   ]
  },
  {
   "cell_type": "markdown",
   "metadata": {
    "colab_type": "text",
    "id": "tI2tuAZEbvWQ"
   },
   "source": [
    "# Spatial Data \n",
    "For spatial analyses to occur, the data frame needs to be converted into a spatial data frame. The functions `coordinates()` and `projection()` from `sp` library converts the dataset into spatial objects that our to-be-conducted analyses requires. \n",
    "\n",
    "In particular, `coordinates()` specifies the latitude and longitude of the data and `proj4string()` creates the projection layer, i.e. the coordinate system. As you know, the EPSG: 4326 means that the coordinates are latitude-longitude pairs on a reference ellipsoid given by WGS84, projected with Mercator Projection.\n"
   ]
  },
  {
   "cell_type": "markdown",
   "metadata": {
    "colab_type": "text",
    "id": "Msp57oPXJ8R6"
   },
   "source": [
    "## Processing & Transformation"
   ]
  },
  {
   "cell_type": "markdown",
   "metadata": {
    "attributes": {
     "cache": "TRUE,",
     "classes": [],
     "dpi": "300,",
     "fig.cap": "\"\",",
     "fig.height": "3",
     "id": "",
     "message": "FALSE,",
     "tidy": "TRUE,",
     "warning": "FALSE,"
    },
    "colab": {
     "base_uri": "https://localhost:8080/",
     "height": 183
    },
    "colab_type": "code",
    "id": "_f9RoxcfYEfx",
    "outputId": "42d251ed-2bbc-4f33-ee31-1b64a1b2171a"
   },
   "source": [
    "%%R\n",
    "# Data Processing\n",
    "CHIPS_lonlat_sp <- CHIPS_df_clean\n",
    "# First, ensuring a default long / lat is assigned to the coordinates:\n",
    "## Specifying coordinates in raw data\n",
    "coordinates(CHIPS_lonlat_sp) <- ~ lon + lat\n",
    "## Setting default projection\n",
    "proj4string(CHIPS_lonlat_sp) <- CRS(\"+init=epsg:4326 +proj=longlat +ellps=WGS84 +datum=WGS84 +no_defs +towgs84=0,0,0\")\n",
    "# Then, transform the coordinates to UTM, using its proper CRS [EPSG:28992; RD / Amersfoort].\n",
    "## Transforming coordinates to UTM\n",
    "CHIPS_sp <- spTransform(CHIPS_lonlat_sp, \"+proj=sterea +lat_0=52.15616055555555 +lon_0=5.38763888888889 +k=0.9999079 +x_0=155000 +y_0=463000 +ellps=bessel +units=m +no_defs\")\n",
    "# Creating specific participant data frames\n",
    "pt1 <- CHIPS_sp[CHIPS_sp$participant == 1, ]\n",
    "pt2 <- CHIPS_sp[CHIPS_sp$participant == 2, ]\n",
    "pt3 <- CHIPS_sp[CHIPS_sp$participant == 3, ]\n",
    "pt4 <- CHIPS_sp[CHIPS_sp$participant == 4, ]\n",
    "pt5 <- CHIPS_sp[CHIPS_sp$participant == 5, ]\n",
    "pt6 <- CHIPS_sp[CHIPS_sp$participant == 6, ]\n",
    "pt7 <- CHIPS_sp[CHIPS_sp$participant == 7, ]\n",
    "pt8 <- CHIPS_sp[CHIPS_sp$participant == 8, ]\n",
    "pt9 <- CHIPS_sp[CHIPS_sp$participant == 9, ]\n",
    "pt10 <- CHIPS_sp[CHIPS_sp$participant == 10, ]\n",
    "pt11 <- CHIPS_sp[CHIPS_sp$participant == 11, ]\n",
    "pt12 <- CHIPS_sp[CHIPS_sp$participant == 12, ]\n",
    "# inspect resulting data\n",
    "print(CHIPS_lonlat_sp)"
   ]
  },
  {
   "cell_type": "markdown",
   "metadata": {
    "colab_type": "text",
    "id": "SWFB0G1uYEf3"
   },
   "source": [
    "## Processing & Export for Interactive Application - Stress3d\n",
    "\n",
    "Using the same approach above for the web-mapping application, Stress3d. Mapbox, and web-mapping in general, requires standard latitude and longitude coordinates [EPSG:4326; WGS 84]. Exporting to GeoJSON format, also usually preferred by web-mapping applications."
   ]
  },
  {
   "cell_type": "markdown",
   "metadata": {
    "attributes": {
     "cache": "TRUE,",
     "classes": [],
     "dpi": "300,",
     "fig.cap": "\"\",",
     "fig.height": "3",
     "id": "",
     "message": "FALSE,",
     "tidy": "TRUE,",
     "warning": "FALSE,"
    },
    "colab": {},
    "colab_type": "code",
    "id": "tKUn6CXgYEgA"
   },
   "source": [
    "%%R\n",
    "CHIPS_lonlat <- CHIPS_df\n",
    "coordinates(CHIPS_lonlat) <- ~ lon + lat\n",
    "# Setting default projection\n",
    "proj4string(CHIPS_lonlat) <- CRS('+proj=longlat +lat_0=52 +lon_0=10 +x_0=4321000 +y_0=3210000 +ellps=GRS80 +units=m +no_defs')\n",
    "pt1 <- CHIPS_lonlat[CHIPS_lonlat$participant == 1, ]\n",
    "pt2 <- CHIPS_lonlat[CHIPS_lonlat$participant == 2, ]\n",
    "pt3 <- CHIPS_lonlat[CHIPS_lonlat$participant == 3, ]\n",
    "pt4 <- CHIPS_lonlat[CHIPS_lonlat$participant == 4, ]\n",
    "pt5 <- CHIPS_lonlat[CHIPS_lonlat$participant == 5, ]\n",
    "pt6 <- CHIPS_lonlat[CHIPS_lonlat$participant == 6, ]\n",
    "pt7 <- CHIPS_lonlat[CHIPS_lonlat$participant == 7, ]\n",
    "pt8 <- CHIPS_lonlat[CHIPS_lonlat$participant == 8, ]\n",
    "pt9 <- CHIPS_lonlat[CHIPS_lonlat$participant == 9, ]\n",
    "pt10 <- CHIPS_lonlat[CHIPS_lonlat$participant == 10, ]\n",
    "pt11 <- CHIPS_lonlat[CHIPS_lonlat$participant == 11, ]\n",
    "pt12 <- CHIPS_lonlat[CHIPS_lonlat$participant == 12, ]\n",
    "# Exporting to GeoJSON\n",
    "writeOGR(CHIPS_lonlat, \"/content/CHIPS_all_pts.geojson\",\n",
    "         layer=\"CHIPS_lonlat\", driver=\"GeoJSON\")"
   ]
  },
  {
   "cell_type": "markdown",
   "metadata": {
    "colab": {},
    "colab_type": "code",
    "id": "tC8sVP0SLvNX"
   },
   "source": [
    "import os\n",
    "import pandas as pd\n",
    "from mapboxgl.utils import create_color_stops, df_to_geojson\n",
    "from mapboxgl.viz import CircleViz\n",
    "\n",
    "# Load data \n",
    "df = CHIPS.csv\n",
    "\n",
    "# Must be a public token, starting with `pk`\n",
    "token = os.getenv('pk.eyJ1IjoiZ2NtaWxsYXIiLCJhIjoiY2pvcDhrbGl4MDFvaTNrczR0d2hxcjdnNSJ9.JYgBw6y2pEq_AEAOCaoQpw')\n",
    "\n",
    "# Create a geojson file export from a Pandas dataframe\n",
    "df_to_geojson(df, filename='points.geojson',\n",
    "              properties=['Avg Medicare Payments', 'Avg Covered Charges', 'date'],\n",
    "              lat='lat', lon='lon', precision=3)\n",
    "\n",
    "# Generate data breaks and color stops from colorBrewer\n",
    "color_breaks = [0,10,100,1000,10000]\n",
    "color_stops = create_color_stops(color_breaks, colors='YlGnBu')\n",
    "\n",
    "# Create the viz from the dataframe\n",
    "viz = CircleViz('points.geojson',\n",
    "                access_token=token,\n",
    "                height='400px',\n",
    "                color_property = \"Avg Medicare Payments\",\n",
    "                color_stops = color_stops,\n",
    "                center = (-95, 40),\n",
    "                zoom = 3,\n",
    "                below_layer = 'waterway-label'\n",
    "              )\n",
    "viz.show()"
   ]
  },
  {
   "cell_type": "markdown",
   "metadata": {
    "colab": {
     "base_uri": "https://localhost:8080/",
     "height": 845
    },
    "colab_type": "code",
    "id": "G3hWhQKTE4aL",
    "outputId": "a192073f-26a0-4419-f799-b7b13f97032d"
   },
   "source": [
    "%%html\n",
    "<iframe src=\"https://gcmillar.github.io/stress3d/\" width=\"1200\" height=\"800\"></iframe>"
   ]
  },
  {
   "cell_type": "markdown",
   "metadata": {
    "colab_type": "text",
    "id": "MbZGnHMkYEf0"
   },
   "source": [
    "## Exporting as Vector to GRASS\n",
    "The following computes a csv files designed to be seamlessly imported into GRASS. Coordinates are in UTM [EPSG:28992; RD / Amersfoort] format, csv separator is set to pipe (\"|\" - GRASS's default import setting).  "
   ]
  },
  {
   "cell_type": "markdown",
   "metadata": {
    "attributes": {
     "cache": "TRUE",
     "classes": [],
     "id": "",
     "message": "FALSE,",
     "tidy": "TRUE,",
     "warning": "FALSE,"
    },
    "colab": {},
    "colab_type": "code",
    "id": "XFGoRqJYYEf0"
   },
   "source": [
    "%%R\n",
    "# ALL\n",
    "chips_all <- CHIPS_sp@data[,1:13]\n",
    "chips_all$lon <-CHIPS_sp@coords[,1]\n",
    "chips_all$lat <-CHIPS_sp@coords[,2]\n",
    "write.table(chips_all, row.names = F, quote = F, \n",
    "            col.names = T, sep = \"|\", dec = \".\",\n",
    "           \"/content/chips_all.txt\")"
   ]
  },
  {
   "cell_type": "markdown",
   "metadata": {
    "colab_type": "text",
    "id": "oC2lpaBs3Q8D"
   },
   "source": [
    "---\n",
    "\n",
    "# Software: **GRASS GIS**\n",
    "\n",
    "---"
   ]
  },
  {
   "cell_type": "markdown",
   "metadata": {
    "colab_type": "text",
    "id": "vSy1KNtghIxl"
   },
   "source": [
    "## Install \n",
    "**Source**<sup> [1](https://grasswiki.osgeo.org/wiki/GRASS_GIS_Jupyter_notebooks)</sup> \n",
    "\n",
    "When the following code chunk is run, you will see a rectangular input box pop up below. Click in it using your mouse, and then press 'Enter' to continue the configuration process.\n",
    "\n",
    "> **NOTE**: <img src=\"https://raw.githubusercontent.com/gcmillar/CEUS/master/img/wait_time.png\" alt=\"runbutton\" width=\"25\" height=\"25\">"
   ]
  },
  {
   "cell_type": "markdown",
   "metadata": {
    "colab": {},
    "colab_type": "code",
    "id": "m9o10GGgO3Ye"
   },
   "source": [
    "%%capture\n",
    "!add-apt-repository ppa:ubuntugis/ubuntugis-unstable\n",
    "#update packages\n",
    "!apt-get update\n",
    "#install grass\n",
    "!apt-get install grass -y;"
   ]
  },
  {
   "cell_type": "markdown",
   "metadata": {
    "colab_type": "text",
    "id": "DExWI9fwO6Lr"
   },
   "source": [
    "## CEUS Data — GRASS GIS\n",
    "\n",
    "This dataset contains the already developed digital surface model (DSM; downloaded from the official\n",
    "open data repository:  \n",
    "#### *Elevation*\n",
    "DSM was interpolated from first-return lidar points at half-meter resolution to provide input for computation of viewsheds along the cyclists path while capturing impact of buildings and other structures. We used a regularized\n",
    "spline with tension algorithm implemented in GRASS GIS to balance the smoothness and approximation accuracy of the surface.\n",
    "> **Source**: The Actual Elevation map of the Netherlands (AHN)<sup>[1](http://ahn.nl)</sup> \n",
    "\n",
    "---\n",
    "\n",
    "#### *Land Use*\n",
    "Land use was split into the following seven classes: developed, natural, recreation, water, business, agriculture, and forest. Developed areas were classified as any area with high levels of surrounding urban life. Natural areas consisted of grasslands, herbaceous, unpaved surfaces, grass, orchards, meadows, and any other layers constituted by greenery. Recreation contained places frequented for leisure like parks, amusement parks (specifically Efteling, a fantasy-themed amusement park), soccer pitches, and camp sites. Any area described as containing a body of water was also defined. The polygon-based land use layer was then converted to 0.5 m resolution raster representation.\n",
    "\n",
    "---"
   ]
  },
  {
   "cell_type": "markdown",
   "metadata": {
    "colab_type": "text",
    "id": "-ydwDKOAhZzc"
   },
   "source": [
    "### Download CEUS Location Dataset "
   ]
  },
  {
   "cell_type": "markdown",
   "metadata": {
    "colab": {
     "base_uri": "https://localhost:8080/",
     "height": 290
    },
    "colab_type": "code",
    "id": "H1OWKeKDhckI",
    "outputId": "f439ba23-c752-4ee2-bee2-ce485caf6ed7"
   },
   "source": [
    "# Download & import CEUS data as GRASS GIS location file \n",
    "import zipfile\n",
    "# The following snippets set the unzipped data as a GRASS location file\n",
    "!wget /$HOME/grassdata/ \"http://fatra.cnr.ncsu.edu/data/CEUS.zip\"\n",
    "zip_ref = zipfile.ZipFile(\"/content/CEUS.zip\", 'r')\n",
    "zip_ref.extractall(\"/root/grassdata/\")\n",
    "zip_ref.close()"
   ]
  },
  {
   "cell_type": "markdown",
   "metadata": {
    "colab_type": "text",
    "id": "sLCc64a_z-rv"
   },
   "source": [
    "## Configure Python to Run GRASS\n",
    "\n"
   ]
  },
  {
   "cell_type": "markdown",
   "metadata": {
    "colab": {
     "base_uri": "https://localhost:8080/",
     "height": 35
    },
    "colab_type": "code",
    "id": "V9SbkeieGUsQ",
    "outputId": "c4c2f876-c1d3-4002-e7b9-b900ec5f58d1"
   },
   "source": [
    "# import Python standard library and IPython packages we need\n",
    "import os\n",
    "import sys\n",
    "import subprocess\n",
    "from IPython.display import Image\n",
    "\n",
    "# ask GRASS GIS where its Python packages are\n",
    "gisbase= \"/usr/lib/grass78\"\n",
    "# gisbase = subprocess.check_output([\"grass78\", \"--config\", \"path\"]).strip()\n",
    "print(gisbase)\n",
    "os.environ['GISBASE'] = gisbase\n",
    "sys.path.append(os.path.join(\"/usr/lib/grass78\", \"etc\", \"python\"))\n",
    "\n",
    "# import GRASS GIS packages we need\n",
    "import grass.script as gs\n",
    "import grass.script.setup as gsetup\n",
    "\n",
    "# create GRASS GIS session\n",
    "rcfile = gsetup.init(gisbase, \"/root/grassdata\", \"CEUS\", \"PERMANENT\")\n",
    "\n",
    "# we want functions to raise exceptions and see standard output of the modules\n",
    "gs.set_raise_on_error(True)\n",
    "gs.set_capture_stderr(True)\n",
    "\n",
    "# simply overwrite existing maps like we overwrite Python variable values\n",
    "os.environ['GRASS_OVERWRITE'] = '1'\n",
    "\n",
    "# enable map rendering to in Jupyter Notebook\n",
    "os.environ['GRASS_FONT'] = 'sans'\n",
    "\n",
    "# set display modules to render into a file (named map.png by default)\n",
    "os.environ['GRASS_RENDER_IMMEDIATE'] = 'cairo'\n",
    "os.environ['GRASS_RENDER_FILE_READ'] = 'TRUE'\n",
    "os.environ['GRASS_LEGEND_FILE'] = 'legend.txt'"
   ]
  },
  {
   "cell_type": "markdown",
   "metadata": {
    "colab_type": "text",
    "id": "Qgy56fCTrx0L"
   },
   "source": [
    "# Analyses"
   ]
  },
  {
   "cell_type": "markdown",
   "metadata": {
    "colab": {
     "base_uri": "https://localhost:8080/",
     "height": 90
    },
    "colab_type": "code",
    "id": "gd8x-GOxr1u6",
    "outputId": "c7912653-1375-42f8-8a4b-a5ed498fbc96"
   },
   "source": [
    "# import data with selected attributes in EPSG (amersf) location\n",
    "gs.run_command('v.in.ascii', flags='z', input='/content/chips_all.txt', out='chips_cyclists', separator='|', skip=1, x=14, y=15, z=6, cat=0, columns=\"participant integer, time double precision, conductance double precision, conductance_z double precision, phasic double precision, phasic_z double precision, tonic double precision, tonic_z double precision, altitude double precision, distance double precision, speed double precision, speed2 double precision, power double precision, lon double precision, lat double precision\" )\n",
    "# check on cyclists stored vector data\n",
    "gs.parse_command('g.list', type=\"raster\", flags=\"p\")"
   ]
  },
  {
   "cell_type": "markdown",
   "metadata": {
    "colab_type": "text",
    "id": "9k6luw1l6xAJ"
   },
   "source": [
    "## Distance to Roads\n",
    "Since our analyses are interested in any potential dependence between distance from environmental features and associated skin conductance values, we used  [v.distance]<sup>[2](https://grass.osgeo.org/grass79/manuals/v.distance.html)</sup>, a [GRASS GIS]<sup>[3](https://grass.osgeo.org/)</sup> module to map the distances between each cyclist’s locational point and the closest roads. These are then stored for later statistical analyses to determine possible relationships between how far away cyclists were from roads and observed levels of emotional arousal.\n",
    "\n",
    "> **Note**: Vector modules typically don't follow computational region, but we set it to inform display modules about our area of interest."
   ]
  },
  {
   "cell_type": "markdown",
   "metadata": {
    "colab": {
     "base_uri": "https://localhost:8080/",
     "height": 219
    },
    "colab_type": "code",
    "id": "a66nsEAuPV4F",
    "outputId": "0f0a7b63-b3b5-47f0-d42f-85e92d9d025a"
   },
   "source": [
    "gs.parse_command('g.region', n=413730.54450704, s=394620.68549296, w=129168.57323866, e=136079.49676134, nsres=0.99999262, ewres=0.99998893)\n",
    "# Set resolution (matching DSM res)\n",
    "gs.run_command('g.region', res=0.5)\n",
    "# adding necessary columns for resulting output of v.distance [dist_to,lc_type]\n",
    "gs.run_command('v.db.addcolumn', map='chips_cyclists', columns=\"dist_to double precision,lc_type varchar\")\n",
    "# same for roads [dist_to_road,road_type]\n",
    "gs.run_command('v.db.addcolumn', map='chips_cyclists', columns=\"dist_to_road double precision,road_type varchar\")\n",
    "# find distance from cyclist locations to each specific road type, uploading min distance and road type (large classes: small, med, large)\n",
    "gs.run_command('v.distance', from_='chips_cyclists@PERMANENT', to='roads_polys', to_type='line,area', upload='dist,to_attr', column='dist_to_road,road_type', to_column='class')\n",
    "# check attribute table was correctly updated\n",
    "print(gs.read_command('db.select', table='chips_cyclists', sql='SELECT * FROM chips_cyclists WHERE cat > 1 AND cat < 10'))"
   ]
  },
  {
   "cell_type": "markdown",
   "metadata": {
    "colab_type": "text",
    "id": "TB4_hakk5Zqi"
   },
   "source": [
    "## Viewshed Analysis\n"
   ]
  },
  {
   "cell_type": "markdown",
   "metadata": {
    "colab_type": "text",
    "id": "ZXOInhWPF6Bi"
   },
   "source": [
    "To initiate the viewshed analytical process, 1739 viewpoints are evenly generated along the cycling highway at 20 m intervals.\n",
    "\n",
    "This is straightforward to accomplish with GRASS, with use of the v.to.points<sup>[1](https://grass.osgeo.org/grass78/manuals/v.to.points.html)</sup> module. This module creates points along input 2D or 3D lines, boundaries, and faces. Point features including centroids and kernels are copied from input vector map to the output. The `dmax` parameter is of specific interest here, as it is used to set the maximum limit in distance between generated points. "
   ]
  },
  {
   "cell_type": "markdown",
   "metadata": {
    "colab": {
     "base_uri": "https://localhost:8080/",
     "height": 563
    },
    "colab_type": "code",
    "id": "eWzvqMd8F144",
    "outputId": "677cf429-c1c7-409d-f793-83028fad2437"
   },
   "source": [
    "gs.parse_command('g.list', type=\"vector\", flags=\"p\")\n",
    "gs.run_command('v.to.points', input='cycle_track_viewpoints', type='point,line,boundary,centroid,area,face,kernel', output='viewpoints_20m', dmax=20)\n",
    "gs.parse_command('g.list', type=\"vector\", flags=\"p\")\n",
    "gs.parse_command('v.info', map=\"viewpoints_20m\")"
   ]
  },
  {
   "cell_type": "markdown",
   "metadata": {
    "colab": {
     "base_uri": "https://localhost:8080/",
     "height": 981
    },
    "colab_type": "code",
    "id": "e0MbBfdcNSZq",
    "outputId": "62ab57e8-3589-4001-a921-cd1739d03e05"
   },
   "source": [
    "# Download & import raster map data  data as GRASS GIS location file \n",
    "!wget /content/ \"https://github.com/gcmillar/CEUS/blob/master/cycling_track_dir?raw=true\"\n",
    "!wget /content/ \"https://github.com/gcmillar/CEUS/blob/master/cycling_track_dir2?raw=true\"\n",
    "# The following snippets set the unzipped data as a GRASS location file\n",
    "gs.run_command('r.in.gdal', input='/content/cycling_track_dir?raw=true', output='cycling_track_dir')\n",
    "gs.run_command('r.in.gdal', input='/content/cycling_track_dir2?raw=true', output='cycling_track_dir2')\n",
    "gs.parse_command('g.list', type=\"raster\", flags=\"p\")"
   ]
  },
  {
   "cell_type": "markdown",
   "metadata": {
    "colab_type": "text",
    "id": "xYhWkiYLTBaD"
   },
   "source": [
    "^^ Created with (actually not true, you gd liar):\n",
    "```{python}\n",
    "gs.run_command('v.what.rast', map='viewpoints_20m', raster='cycling_track_dir', column='direction', layer='2')\n",
    "gs.run_command('v.what.rast', map='viewpoints_20m', raster='cycling_track_dir2', column='direction2', layer=2)\n",
    " ```\n"
   ]
  },
  {
   "cell_type": "markdown",
   "metadata": {
    "colab": {
     "base_uri": "https://localhost:8080/",
     "height": 635
    },
    "colab_type": "code",
    "id": "m-Nk4uvKLvhp",
    "outputId": "a35b1ee1-aa7f-4455-81fb-944e7031cc31"
   },
   "source": [
    "!wget /content/ \"https://github.com/gcmillar/CEUS/blob/master/viewpoints_20m?raw=true\"\n",
    "gs.run_command('v.import', input='/content/viewpoints_20m?raw=true', output='viewpoints_20m')\n",
    "print(gs.read_command('db.select', table='viewpoints_20m', sql='SELECT * FROM viewpoints_20m WHERE cat > 1 AND cat < 10'))"
   ]
  },
  {
   "cell_type": "markdown",
   "metadata": {
    "colab_type": "text",
    "id": "pj824N1dF9Be"
   },
   "source": [
    "Then, realizing we need a way to associate the results outputted from the parallelization script, I ran a v.distance module for all viewpoint ranges, to obtain a column that describes the nearest viewpoint at each location point. These of course vary across the three viewpoint ranges (20m, 50m, 100m). I did this approach so that:"
   ]
  },
  {
   "cell_type": "markdown",
   "metadata": {
    "colab": {
     "base_uri": "https://localhost:8080/",
     "height": 401
    },
    "colab_type": "code",
    "id": "_RYuW2rnF-JJ",
    "outputId": "9324fa6d-7a6d-43e1-c231-f08f3fce8127"
   },
   "source": [
    "gs.run_command('v.db.connect', map='viewpoints_20m', table='viewpoints_20m', layer=2, flags='o')\n",
    "gs.run_command('v.db.addcolumn', layer=2, map='viewpoints_20m', columns=\"viewpoint_id_20m double precision\")\n",
    "gs.run_command('v.db.addcolumn', map='chips_cyclists', columns=\"viewpoint_id_20m double precision\")\n",
    "gs.run_command('v.distance', from_='chips_cyclists', from_type='point', to='viewpoints_20m', to_type='point', upload='cat', column='viewpoint_id_20m', to_column='cat')\n",
    "print(gs.read_command('db.select', table='viewpoints_20m', sql='SELECT * FROM viewpoints_20m WHERE cat > 1 AND cat < 10'))\n",
    "print(gs.read_command('db.select', table='chips_cyclists', sql='SELECT * FROM chips_cyclists WHERE cat > 1 AND cat < 10'))"
   ]
  },
  {
   "cell_type": "markdown",
   "metadata": {
    "colab_type": "text",
    "id": "JSIi-rm0FkI8"
   },
   "source": [
    "### Parallelization in Python\n",
    "***At this time, a solution is still needed for running the Python parallelization script (used to generate viewsheds and zonal statistics on visible land cover classes) in a Jupyter Notebook. For the time being, the full Python script is included below, while the following section reads in the .txt output as generated from the successfully-run script below:***\n",
    "\n",
    "\n",
    "```{python}\n",
    "#!/usr/bin/env python3\n",
    "\n",
    "#%module\n",
    "#% description: Viewshed for CHIPS [CEUS] project\n",
    "#% keyword: vector\n",
    "#% keyword: geometry\n",
    "#%end\n",
    "\n",
    "#%option G_OPT_M_COORDS\n",
    "#% key: coordinates\n",
    "#%end\n",
    "\n",
    "#%option\n",
    "#% key: view_id\n",
    "#% type: integer\n",
    "#% required: no\n",
    "#% multiple: no\n",
    "#% key_desc: value\n",
    "#% description: View id\n",
    "#%end\n",
    "\n",
    "#%option\n",
    "#% key: direction\n",
    "#% type: double\n",
    "#% required: no\n",
    "#% multiple: no\n",
    "#% key_desc: value\n",
    "#% description: Direction\n",
    "#%end\n",
    "\n",
    "#%option G_OPT_F_OUTPUT\n",
    "#% key: output\n",
    "#%end\n",
    "\n",
    "import os\n",
    "import grass.script as gscript\n",
    "\n",
    "def compute_direction(main_direction):\n",
    "    half_angle = 90\n",
    "    mina = main_direction - half_angle\n",
    "    maxa = main_direction + half_angle\n",
    "    if maxa > 360:\n",
    "        maxa -= 360\n",
    "    if mina < 0:\n",
    "        mina += 360\n",
    "    return mina, maxa\n",
    "\n",
    "def main(elevation, coords, output, pid, direction, sample):\n",
    "    limit = 1000\n",
    "    name = 'viewshed'\n",
    "    gscript.run_command('g.region', raster=elevation)\n",
    "    gscript.run_command('g.region', n=coords[1] + limit, s=coords[1] - limit,\n",
    "                            e=coords[0] + limit, w=coords[0] - limit, align=elevation)\n",
    "    region = gscript.region()\n",
    "    mina, maxa = compute_direction(direction)\n",
    "    gscript.run_command('r.viewshed', input=elevation, output=name,\n",
    "                        coordinates=coords, observer_elevation=1.75,# target_elevation=3,\n",
    "                        max_distance=limit, direction_range=[mina, maxa],\n",
    "                        memory=65000, overwrite=True, quiet=True)\n",
    "    \n",
    "    # area\n",
    "    cells = gscript.parse_command('r.univar', map=name, flags='g', quiet=True)['n']\n",
    "    res = region['nsres']\n",
    "    area = float(cells) * res * res\n",
    "    # ndvi\n",
    "    results = []\n",
    "    # non_null_cells|null_cells|min|max|range|mean|mean_of_abs|stddev|variance|coeff_var|sum|sum_abs\n",
    "    for each in sample:\n",
    "        results.append(gscript.read_command('r.univar', map=name, zones=each, quiet=True, flags='t', separator='comma').strip().splitlines()[1:])\n",
    "\n",
    "    with open(output, 'w') as f:\n",
    "#        f.write(\"id,view_area,z1,z2,z3,z4\\n\")\n",
    "        if pid:\n",
    "            f.write(\"%s,%.4f,%.4f,%.4f\" % (pid, coords[0], coords[1], area))\n",
    "        else:\n",
    "            f.write(\"%.4f,%.4f,%.4f\" % (coords[0], coords[1], area))\n",
    "        for each in results:\n",
    "            zones = {}\n",
    "            for line in each:\n",
    "                zone, label, non_null_cells, null_cells, minim, maxim, range_, mean, mean_of_abs, stddev, variance, coeff_var,  sum_, sum_abs = line.split(',')\n",
    "                zones[int(zone)] = int(non_null_cells)\n",
    "            for zone in range(1, 8):\n",
    "                if zone in zones:\n",
    "                    area = zones[zone] * res * res\n",
    "                    f.write(\",%.0f\" % area)\n",
    "                else:\n",
    "                    f.write(\",0\")\n",
    "        f.write(\"\\n\")\n",
    "    #gscript.run_command('g.remove', type='raster', name=[name], flags='f', quiet=True)\n",
    "\n",
    "if __name__ == '__main__':\n",
    "    options, flags = gscript.parser()\n",
    "    pid = options['view_id']\n",
    "    if not pid:\n",
    "        pid = None\n",
    "    coords = options['coordinates'].split(',')\n",
    "    direction = float(options['direction'])\n",
    "    # coords= 'cycle_track_viewpoints'\n",
    "    main(elevation='chips_area_dem',\n",
    "         coords=(float(coords[0]), float(coords[1])),\n",
    "         output=options['output'],\n",
    "         pid = pid,\n",
    "         direction=direction,\n",
    "         sample=['chips_landuse_7class'])\n",
    "\n",
    "```"
   ]
  },
  {
   "cell_type": "markdown",
   "metadata": {
    "colab_type": "text",
    "id": "RgVFYiOzN0ci"
   },
   "source": [
    "```{python}\n",
    "import os\n",
    "filepath=\"/content/drive/My Drive/People-Environment-Toolbox\"\n",
    "os.chdir(filepath)\n",
    "!python single_viewshed.py coordinates='132974.298831, 402771.310804' property_id=1 output=test\n",
    "```"
   ]
  },
  {
   "cell_type": "markdown",
   "metadata": {
    "colab_type": "text",
    "id": "T-fBJIJEDiuU"
   },
   "source": [
    "## Viewshed Results\n"
   ]
  },
  {
   "cell_type": "markdown",
   "metadata": {
    "colab": {
     "base_uri": "https://localhost:8080/",
     "height": 563
    },
    "colab_type": "code",
    "id": "-2NrqhCPDNVE",
    "outputId": "ced069c4-c365-46fb-a999-d1034dc84fcd"
   },
   "source": [
    "# Download & import CEUS data as GRASS GIS location file \n",
    "!wget /content/ \"https://raw.githubusercontent.com/gcmillar/CEUS/master/speedinterp_views_dir1_shf.csv\"\n",
    "!wget /content/ \"https://raw.githubusercontent.com/gcmillar/CEUS/master/speedinterp_views_dir2_shf.csv\"\n",
    "# head('all_20m_dir2.txt')"
   ]
  },
  {
   "cell_type": "markdown",
   "metadata": {
    "colab_type": "text",
    "id": "KfINmNCEZGw8"
   },
   "source": [
    "## Final Export of Data\n",
    "> **NOTE**: <img src=\"https://raw.githubusercontent.com/gcmillar/CEUS/master/img/wait_time.png\" alt=\"runbutton\" width=\"25\" height=\"25\">\n"
   ]
  },
  {
   "cell_type": "markdown",
   "metadata": {
    "colab": {
     "base_uri": "https://localhost:8080/",
     "height": 35
    },
    "colab_type": "code",
    "id": "I_n9dIO9YgEA",
    "outputId": "92fac4ae-96e6-4555-d3fe-480b44840f33"
   },
   "source": [
    "gs.run_command('v.out.ascii', flags='c', input='chips_cyclists', type='point', output='/content/speedinterp_views_dir2_shf.csv', columns='cat,participant,time,conductance,conductance_z,phasic,phasic_z,tonic,tonic_z,altitude,distance,speed,speed2,power,lon,lat,dist_to,lc_type,dist_to_road,road_type,viewpoint_id_20m')"
   ]
  },
  {
   "cell_type": "markdown",
   "metadata": {
    "colab_type": "text",
    "id": "UEOfNFaqG1WM"
   },
   "source": [
    "## Statistical Modeling"
   ]
  },
  {
   "cell_type": "markdown",
   "metadata": {
    "colab_type": "text",
    "id": "F5H5bHbDGEJF"
   },
   "source": [
    "The new output from GRASS then of course had to be joined with the output from the parallel python viewshed script. This was carried out in R considering the extensive data manipulation I realized would be necessary. Most important to note is the separation by direction in which cyclists were going. I completely separated the original data analysis file to then appropriately join with the 2 separate files outputted by the python viewshed script. Therefore, I'm attaching two separate csv: stats_direction1, and stats_direction2, each containing the following data:\n",
    "\n",
    "* participant\t\t   \n",
    "* time\t\t\t\t\n",
    "* conductance\t\t   \n",
    "* conductance_z\t   \n",
    "* phasic\t\t\t\t\n",
    "* phasic_z\t\t\t\n",
    "* tonic\t\t\t   \n",
    "* tonic_z\t\t\t   \n",
    "* altitude\t\t\t\n",
    "* distance\t\t\t\n",
    "* speed\t\t\t   \n",
    "* speed2\t\t\t  \n",
    "* power\t\t\t   \n",
    "* lon\t\t\t\t   \n",
    "* lat\t\t\t\t   \n",
    "* dist_to\t\t\t   \n",
    "* lc_type\t\t\t   \n",
    "* dist_to_road\t\t\n",
    "* road_type\t\t   \n",
    "* viewableLC\t\t  \n",
    "* buffer50m_lc\t  \n",
    "* buffer100m_lc\t   \n",
    "* buffer200m_lc\t   \n",
    "* buffer500m_lc\t \n",
    "* direction  \n",
    "* viewpoint_id_20m\t\n",
    "* viewpoint_id_50m\n",
    "* viewpoint_id_100m\t\t   \n",
    "* view_area\t\t   \n",
    "* landuse_view_area_1\n",
    "* landuse_view_area_2\n",
    "* landuse_view_area_3\n",
    "* landuse_view_area_4\n",
    "\n",
    "The stats_direction1, and stats_direction2 csvs can technically be joined together if preferred, but they were kept separate throughout for my own peace of mind (and one less thing to worry about).\n"
   ]
  },
  {
   "cell_type": "markdown",
   "metadata": {
    "colab": {},
    "colab_type": "code",
    "id": "QHn3cf0-Gm-Y"
   },
   "source": [
    "%%R\n",
    "# setwd(\"/Users/garrettmillar/Downloads\")\n",
    "CHIPS_CEUS <- read.csv(\"/content/CEUS_data.csv\", header = TRUE, row.names=NULL, sep=\"|\")\n",
    "# read in GRASS viewshed results  - both directions (read in as separate files for each viewpoint spacing)\n",
    "viewshed_20m_dir1 <- read.csv(\"/content/speedinterp_views_dir1_shf.csv\", header = TRUE, row.names=NULL, sep=\",\")\n",
    "viewshed_20m_dir2 <- read.csv(\"/content/speedinterp_views_dir2_shf.csv\", header = TRUE, row.names=NULL, sep=\",\")\n",
    "head(viewshed_20m_dir2)\n",
    "CHIPS_waal_til <- subset(CHIPS_CEUS, direction=\"1\")\n",
    "CHIPS_til_waal <- subset(CHIPS_CEUS, direction=\"2\")\n",
    "# cleaning viewpoint data - removing points at too high an elevation (e.g., on trees, buildings, etc)\n",
    "# viewpoints_20m_1 <- read.table(\"/content/all_20m_dir1.txt\", header = F, row.names=NULL, sep=\",\")\n",
    "# viewpoints_20m_2 <- read.table(\"/content/all_20m_dir2.txt\", header = F, row.names=NULL, sep=\",\")"
   ]
  },
  {
   "cell_type": "markdown",
   "metadata": {
    "colab": {
     "base_uri": "https://localhost:8080/",
     "height": 482
    },
    "colab_type": "code",
    "id": "L8ei9Fmej_LD",
    "outputId": "eed6d5e9-c125-4149-dc26-0d793cc809ed"
   },
   "source": [
    "final_stats_20m_url =\"https://raw.githubusercontent.com/gcmillar/CEUS/master/chips_all_attr.csv\"\n",
    "# final_stats_20m_url = 'https://raw.githubusercontent.com/gcmillar/CEUS/master/CHIPS_all.csv'\n",
    "final_stats_20m = pd.read_csv(final_stats_20m_url,error_bad_lines=False)\n",
    "%load_ext google.colab.data_table\n",
    "final_stats_20m"
   ]
  },
  {
   "cell_type": "markdown",
   "metadata": {
    "colab": {},
    "colab_type": "code",
    "id": "aiQVbCVPOqRr"
   },
   "source": [
    "%%capture\n",
    "%unload_ext google.colab.data_table"
   ]
  },
  {
   "cell_type": "markdown",
   "metadata": {
    "colab": {
     "base_uri": "https://localhost:8080/",
     "height": 474
    },
    "colab_type": "code",
    "id": "tHy7-pPyHaeF",
    "outputId": "ca2b28a1-db43-4962-b30c-be83bccb1f3c"
   },
   "source": [
    "%%R\n",
    "dat <- read_csv(\"/content/chips_all_attr.csv\")\n",
    "head(dat)\n",
    "table(dat$participant)\n",
    "table(dat$direction)\n",
    "names(dat)\n",
    "datCorrel <- dat[c(\"participant\", \"phasic\", \"landuse_view_area_1_20m\",\"landuse_view_area_2_20m\",\"landuse_view_area_3_20m\",\"landuse_view_area_4_20m\", \n",
    "                   \"landuse_view_area_5_20m\", \"landuse_view_area_6_20m\",\"landuse_view_area_7_20m\",\"weighted240dist_kmh\",\"dir_range_20m\",\"direction\")]\n",
    "corrgram(datCorrel, order=TRUE, lower.panel=panel.conf,\n",
    "         upper.panel=panel.pie, text.panel=panel.txt,\n",
    "         main=\"landscape predictors\")\n",
    "describe(datCorrel)"
   ]
  },
  {
   "cell_type": "markdown",
   "metadata": {
    "colab": {},
    "colab_type": "code",
    "id": "Ij-Q-Eb9kVv6"
   },
   "source": [
    "%%R\n",
    "# creating models, including a null model\n",
    "# lme falsely converges\n",
    "m0 <- lmer(phasic ~ 1 + (1|participant), data=dat, REML=F)\n",
    "m1 <- lmer(phasic ~ landuse_view_area_1_20m + landuse_view_area_2_20m + landuse_view_area_3_20m + landuse_view_area_4_20m + \n",
    "           landuse_view_area_5_20m + landuse_view_area_6_20m + landuse_view_area_7_20m + (1|participant), data=dat, REML=F)\n",
    "m2 <- lmer(phasic ~ landuse_view_area_1_20m + landuse_view_area_2_20m + landuse_view_area_3_20m + landuse_view_area_4_20m + \n",
    "             landuse_view_area_5_20m + landuse_view_area_6_20m + landuse_view_area_7_20m + weighted240dist_kmh + direction + (1|participant), data=dat, REML=F)\n",
    "# m3 <- lmer(phasic ~ landuse_view_area_1_20m*weighted240dist_kmh + landuse_view_area_2_20m*weighted240dist_kmh + landuse_view_area_3_20m*weighted240dist_kmh + landuse_view_area_4_20m*weighted240dist_kmh + \n",
    "#              landuse_view_area_5_20m*weighted240dist_kmh + landuse_view_area_6_20m*weighted240dist_kmh + landuse_view_area_7_20m*weighted240dist_kmh + weighted240dist_kmh*weighted240dist_kmh + dir + dist_to_road + (1|participant), data=dat.o, REML=F)\n",
    "# m4 <- lmer(phasic ~ landuse_view_area_1_20m*weighted240dist_kmh + landuse_view_area_2_20m*weighted240dist_kmh + landuse_view_area_3_20m*weighted240dist_kmh + landuse_view_area_4_20m*weighted240dist_kmh + \n",
    "#              landuse_view_area_5_20m*weighted240dist_kmh + landuse_view_area_6_20m*weighted240dist_kmh + landuse_view_area_7_20m*weighted240dist_kmh + weighted240dist_kmh*weighted240dist_kmh + dir + dist_to_road + dir_range_20m + (1|participant), data=dat.o, REML=F)\n",
    "# m2.1 <- lmer(phasic ~ landuse_view_area_1_20m + landuse_view_area_2_20m + landuse_view_area_3_20m + landuse_view_area_4_20m + \n",
    "#              landuse_view_area_5_20m + landuse_view_area_6_20m + landuse_view_area_7_20m + weighted240dist_kmh + dir + dir_range_20m + (1|participant), data=dat.o, REML=F)\n",
    "# # w viewarea\n",
    "# m2.2 <- lmer(phasic ~ landuse_view_area_1_20m + landuse_view_area_2_20m + landuse_view_area_3_20m + landuse_view_area_4_20m + \n",
    "#                landuse_view_area_5_20m + landuse_view_area_6_20m + landuse_view_area_7_20m + weighted240dist_kmh + dir + dist_to_road + dir_range_20m + viewarea + (1|participant), data=dat.o, REML=F)\n",
    "# comparing models\n",
    "anova(m0,m1)\n",
    "anova(m1,m2)\n",
    "# anova(m2,m3)\n",
    "# anova(m3,m4)\n",
    "# anova(m2,m2.1)\n",
    "# anova(m0,m2)\n",
    "# anova(m2,m2.1)\n",
    "# summary(m2.1)\n",
    "# summary(m2.2) #do not use"
   ]
  },
  {
   "cell_type": "markdown",
   "metadata": {
    "colab_type": "text",
    "id": "z27iPt806xcG"
   },
   "source": [
    "<!-- # References\n",
    "\n",
    "[The Actual Elevation map of the Netherlands (AHN)]<sup>[3](http://ahn.nl) -->"
   ]
  }
 ],
 "metadata": {
  "accelerator": "GPU",
  "colab": {
   "collapsed_sections": [],
   "include_colab_link": true,
   "name": "gcmillar_CEUS_Space_time_analytics_JupyterNB.ipynb",
   "provenance": []
  },
  "kernelspec": {
   "display_name": "Python 3",
   "language": "python",
   "name": "python3"
  },
  "language_info": {
   "codemirror_mode": {
    "name": "ipython",
    "version": 3
   },
   "file_extension": ".py",
   "mimetype": "text/x-python",
   "name": "python",
   "nbconvert_exporter": "python",
   "pygments_lexer": "ipython3",
   "version": "3.8.1"
  }
 },
 "nbformat": 4,
 "nbformat_minor": 2
}
