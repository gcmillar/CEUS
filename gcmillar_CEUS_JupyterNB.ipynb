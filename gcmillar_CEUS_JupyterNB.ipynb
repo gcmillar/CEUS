{
  "nbformat": 4,
  "nbformat_minor": 0,
  "metadata": {
    "accelerator": "GPU",
    "colab": {
      "name": "gcmillar_CEUS_JupyterNB.ipynb",
      "provenance": [],
      "collapsed_sections": [
        "JSIi-rm0FkI8"
      ],
      "toc_visible": true,
      "include_colab_link": true
    },
    "kernelspec": {
      "display_name": "Python 3",
      "language": "python",
      "name": "python3"
    },
    "language_info": {
      "codemirror_mode": {
        "name": "ipython",
        "version": 3
      },
      "file_extension": ".py",
      "mimetype": "text/x-python",
      "name": "python",
      "nbconvert_exporter": "python",
      "pygments_lexer": "ipython3",
      "version": "3.8.1"
    }
  },
  "cells": [
    {
      "cell_type": "markdown",
      "metadata": {
        "id": "view-in-github",
        "colab_type": "text"
      },
      "source": [
        "<a href=\"https://colab.research.google.com/github/gcmillar/CEUS/blob/master/gcmillar_CEUS_JupyterNB.ipynb\" target=\"_parent\"><img src=\"https://colab.research.google.com/assets/colab-badge.svg\" alt=\"Open In Colab\"/></a>"
      ]
    },
    {
      "cell_type": "markdown",
      "metadata": {
        "colab_type": "text",
        "id": "hcqShGttHsb2"
      },
      "source": [
        "---\n",
        "---\n",
        "#        **Space-time Analytics of Human Physiology for Urban Planning**\n",
        "---\n",
        "---\n",
        "\n",
        "This is code and data for computational reproducibility accompanying the following paper:\n",
        "\n",
        "> **Garrett C. Millar**, Ondrej Mitas, Wilco Boode Lisette Hoeke, Joost de Kruijff, Anna Petrasova, Helena Mitasova (2020): \n",
        "Space-time Analytics of Human Physiology for Urban Planning. In: Computers, Environment, and Urban Sytstems, In: *Advances in portable sensing methodologies for urban environments: Understanding cities from a mobility perspective*. \n",
        "\n",
        "\n",
        "<center>\n",
        "  <img src=\"https://raw.githubusercontent.com/gcmillar/CEUS/master/img/viewshed_progress_onedir_ortho.png\" alt=\"runbutton\" height=\"180px\">\n",
        "</center>\n",
        "\n",
        "[![DOI](https://zenodo.org/badge/234817300.svg)](https://zenodo.org/badge/latestdoi/234817300)"
      ]
    },
    {
      "cell_type": "markdown",
      "metadata": {
        "colab_type": "text",
        "id": "5Xi0WE1VA7oz"
      },
      "source": [
        "# Table of Contents"
      ]
    },
    {
      "cell_type": "markdown",
      "metadata": {
        "id": "TBvq2vfkwnxH",
        "colab_type": "text"
      },
      "source": [
        "---\n",
        "- [Space-time Analytics of Human Physiology for Urban Planning](#scrollTo=hcqShGttHsb2)\n",
        "\n",
        "  *  [Table of Contents](#scrollTo=5Xi0WE1VA7oz)\n",
        "\n",
        "  *  [Code](#scrollTo=uLnyFCClJn6F)\n",
        "\n",
        "  *  [Things to Know](#scrollTo=-i2K8lJ4J1z4)\n",
        "\n",
        "  *  [Setup & Imports](#scrollTo=eRwEVbK3LaXX)\n",
        "\n",
        "    + [GDAL & Colaboratory Notebooks](#scrollTo=3UewP07YeyjZ)\n",
        "\n",
        "    +   [Install GDAL in R](#scrollTo=AvGtTNhMfhVU)\n",
        "\n",
        "- [Software: R](#scrollTo=PZk_VvpuKf0F)\n",
        "\n",
        "    + [Install Required R Packages](#scrollTo=n9t-PhSneJ-H)\n",
        "\n",
        "  *  [Data Processing](#scrollTo=2OV72uepLixb)\n",
        "\n",
        "    + [Artifact Correction](#scrollTo=eTFxJNzJLufO)\n",
        "\n",
        "        + [Joining](#scrollTo=iUlGnMdvYSko)\n",
        "\n",
        "    + [Identifying Cycle Highway Directions](#scrollTo=ZaUNk_NKhMgT)\n",
        "\n",
        "    + [Skin Conductance](#scrollTo=ZWLfza5-Yf3l)\n",
        "\n",
        "- [Spatial Data](#scrollTo=tI2tuAZEbvWQ)\n",
        "\n",
        "  *  [Processing & Transformation](#scrollTo=Msp57oPXJ8R6)\n",
        "\n",
        "  *  [Processing & Export for Interactive Application - Stress3d](#scrollTo=SWFB0G1uYEf3)\n",
        "\n",
        "  *  [Exporting as Vector to GRASS](#scrollTo=MbZGnHMkYEf0)\n",
        "\n",
        "- [Software: GRASS GIS](#scrollTo=oC2lpaBs3Q8D)\n",
        "\n",
        "  *  [Install](#scrollTo=vSy1KNtghIxl)\n",
        "\n",
        "  *  [CEUS Data — GRASS GIS](#scrollTo=DExWI9fwO6Lr)\n",
        "\n",
        "    +  [Elevation](#scrollTo=DExWI9fwO6Lr)\n",
        "\n",
        "    +  [Land Use](#scrollTo=DExWI9fwO6Lr)\n",
        "\n",
        "    + [Download CEUS Location Dataset](#scrollTo=-ydwDKOAhZzc)\n",
        "\n",
        "  *  [Configure Python to Run GRASS](#scrollTo=sLCc64a_z-rv)\n",
        "\n",
        "- [Analyses](#scrollTo=Qgy56fCTrx0L)\n",
        "\n",
        "  *  [Distance to Roads](#scrollTo=9k6luw1l6xAJ)\n",
        "\n",
        "  *  [Viewshed Analysis](#scrollTo=TB4_hakk5Zqi)\n",
        "\n",
        "    + [Parallelization in Python](#scrollTo=JSIi-rm0FkI8)\n",
        "\n",
        "  *  [Viewshed Results](#scrollTo=T-fBJIJEDiuU)\n",
        "\n",
        "  *  [Final Export of Data](#scrollTo=KfINmNCEZGw8)\n",
        "\n",
        "  *  [Statistical Modeling](#scrollTo=UEOfNFaqG1WM)\n",
        "---"
      ]
    },
    {
      "cell_type": "markdown",
      "metadata": {
        "colab_type": "text",
        "id": "uLnyFCClJn6F"
      },
      "source": [
        "# Code\n",
        "This is a modified version of a notebook for reproducibility of the applied methodological framework applied in the Millar et al. 2020 paper. The entire repository is available at https://github.com/gcmillar/CEUS, and the full original Jupyter Notebook is available at https://colab.research.google.com/github/gcmillar/CEUS/blob/master/PeopleEnvironmentGrassGIS.ipynb\n",
        "\n",
        "The tools implementing the published methods are available at [GRASS GIS 7 Addons Manual pages](https://grass.osgeo.org/grass7/manuals/addons/). More importantly, the version of _r.viewshed_<sup>[1](https://grass.osgeo.org/grass76/manuals/r.viewshed.html)</sup>&nbsp;&nbsp;(used in Section: [_Viewshed Analysis_](#scrollTo=TB4_hakk5Zqi)) is available for compilation as a dev package at the [OSGeo GRASS Github page](https://github.com/OSGeo/grass). This version of _r.viewshed_ was specially developed for the viewshed analyses presented in the Millar et al. 2020 paper, detailed in the code contained this notebook.\n",
        "\n",
        "<br/>\n",
        "\n",
        "<br/>\n",
        "\n",
        "<table class=\"tfo-notebook-buttons\" align=\"center\" text-decoration=\"none\">\n",
        "  <td>\n",
        "    <a target=\"_blank\" href=\"https://colab.research.google.com/github/gcmillar/CEUS/blob/master/gcmillar_CEUS_Space_time_analytics_JupyterNB.ipynb\n",
        "    \"><img src=\"https://raw.githubusercontent.com/gcmillar/CEUS/master/img/colab_logo_32px.png\" />Run in Google Colab</a>&nbsp;&nbsp;&nbsp;\n",
        "  </td>\n",
        "  <td>\n",
        "    <a target=\"_blank\" href=\"https://github.com/gcmillar/CEUS/blob/master/gcmillar_CEUS_JupyterNB.ipynb\"><img src=\"https://raw.githubusercontent.com/gcmillar/CEUS/master/img/GitHub-Mark-26px.png\" />View source on GitHub</a>\n",
        "  </td>\n",
        "    <td>\n",
        "    <a href=\"https://drive.google.com/a/ncsu.edu/uc?authuser=0&id=1L7p5i_xBsYkw1Dav0iiDvahSuxKCaJ0i&export=download\"><img src=\"https://raw.githubusercontent.com/gcmillar/CEUS/master/img/download_logo_32px.png\" />Download notebook</a>\n",
        "  </td>\n",
        "</table>\n",
        "<br/>\n",
        "\n",
        "\n",
        "---"
      ]
    },
    {
      "cell_type": "markdown",
      "metadata": {
        "colab_type": "text",
        "id": "-i2K8lJ4J1z4"
      },
      "source": [
        "## Things to Know \n",
        "* Click play button in upper left corner of code window to run code chunk: <img src=\"https://raw.githubusercontent.com/gcmillar/CEUS/master/img/codebutton.png\" alt=\"runbutton\" width=\"14\" height=\"14\">\n",
        "<!-- ![alt text](https://raw.githubusercontent.com/gcmillar/CEUS/master/img/codebutton.png \"Logo Title Text 1\") -->\n",
        "\n",
        "* Code cells with long computational times: <img src=\"https://raw.githubusercontent.com/gcmillar/CEUS/master/img/wait_time.png\" alt=\"runbutton\" width=\"25\" height=\"25\">\n",
        "\n",
        "* For those unfamiliar with Jupyter Notebook and/or Google Colab:\n",
        "  - [What is Jupyter Notebook](https://jupyter-notebook-beginner-guide.readthedocs.io/en/latest/what_is_jupyter.html)?\n",
        "  - [What is Google Colab?](https://www.tutorialspoint.com/google_colab/what_is_google_colab.htm)\n",
        "  - [Google Colab Quick Guide](https://www.tutorialspoint.com/google_colab/google_colab_quick_guide.htm)\n"
      ]
    },
    {
      "cell_type": "markdown",
      "metadata": {
        "colab_type": "text",
        "id": "eRwEVbK3LaXX"
      },
      "source": [
        "## Setup & Imports"
      ]
    },
    {
      "cell_type": "markdown",
      "metadata": {
        "id": "SQFfxTAA3KU1",
        "colab_type": "text"
      },
      "source": [
        "Download any needed Jupter Notebook extensions:"
      ]
    },
    {
      "cell_type": "code",
      "metadata": {
        "colab_type": "code",
        "id": "jKZap_6qSgQm",
        "colab": {}
      },
      "source": [
        "%%capture\n",
        "!jupyter nbextension install --user https://rawgithub.com/minrk/ipython_extensions/master/nbextensions/toc.js\n",
        "!curl -L https://rawgithub.com/minrk/ipython_extensions/master/nbextensions/toc.css > $(jupyter --data-dir)/nbextensions/toc.css"
      ],
      "execution_count": 0,
      "outputs": []
    },
    {
      "cell_type": "markdown",
      "metadata": {
        "id": "PssSKlE83FK2",
        "colab_type": "text"
      },
      "source": [
        "Hide warnings and unecessary output:"
      ]
    },
    {
      "cell_type": "code",
      "metadata": {
        "colab_type": "code",
        "id": "hjs1qjDF5_aE",
        "colab": {}
      },
      "source": [
        "import warnings\n",
        "# warnings.filterwarnings(action='once')\n",
        "warnings.filterwarnings('ignore')"
      ],
      "execution_count": 0,
      "outputs": []
    },
    {
      "cell_type": "markdown",
      "metadata": {
        "id": "grpHfeE72-4H",
        "colab_type": "text"
      },
      "source": [
        "Increase output window size (mostly useful for figures):"
      ]
    },
    {
      "cell_type": "code",
      "metadata": {
        "id": "itCJT3lM282H",
        "colab_type": "code",
        "outputId": "768b8e33-4eca-486b-ca2d-44ecb0c256cf",
        "colab": {
          "base_uri": "https://localhost:8080/",
          "height": 17
        }
      },
      "source": [
        "from IPython.display import Javascript\n",
        "display(Javascript('''google.colab.output.setIframeHeight(0, true, {maxHeight: 5000})'''))"
      ],
      "execution_count": 0,
      "outputs": [
        {
          "output_type": "display_data",
          "data": {
            "application/javascript": [
              "google.colab.output.setIframeHeight(0, true, {maxHeight: 5000})"
            ],
            "text/plain": [
              "<IPython.core.display.Javascript object>"
            ]
          },
          "metadata": {
            "tags": []
          }
        }
      ]
    },
    {
      "cell_type": "markdown",
      "metadata": {
        "colab_type": "text",
        "id": "CfcoVwSmyICv"
      },
      "source": [
        "###R\n",
        "#### R Magic\n",
        "\n",
        "Very needed step, load cell magic for R, where then each R-script cell is begun with: `%%R`  "
      ]
    },
    {
      "cell_type": "code",
      "metadata": {
        "colab_type": "code",
        "id": "T03DfBR1Hrh3",
        "colab": {}
      },
      "source": [
        "%%capture\n",
        "%load_ext rpy2.ipython \n",
        "# activate R magic"
      ],
      "execution_count": 0,
      "outputs": []
    },
    {
      "cell_type": "markdown",
      "metadata": {
        "colab_type": "text",
        "id": "AvGtTNhMfhVU"
      },
      "source": [
        "#### GDAL in R"
      ]
    },
    {
      "cell_type": "code",
      "metadata": {
        "colab_type": "code",
        "id": "6KbcYcDbej7I",
        "colab": {}
      },
      "source": [
        "%%capture\n",
        "%%R\n",
        "install.packages(\"rgdal\")\n",
        "library(rgdal);"
      ],
      "execution_count": 0,
      "outputs": []
    },
    {
      "cell_type": "markdown",
      "metadata": {
        "colab_type": "text",
        "id": "3UewP07YeyjZ"
      },
      "source": [
        "### GDAL & Colaboratory Notebooks \n",
        "\n",
        "Need to setup the colaboratory notebook with GDAL, to be used in R. As this will be running on a ubuntu server, run \n",
        "*   `apt-get update`\n",
        "*   `apt-get install libgdal-dev` \n",
        "    *   run this before trying to install GDAL otherwise you will get errors.\n",
        "    * The flag -y accepts the download and runs – this is the longest part (but not too long)\n",
        "*   Install python-gdal again with the -y flag\n",
        "*   Install NumPy and SciPy (not compulsory, but why not?)\n",
        "*   Test the installation by importing GDAL. No error? It should be ok.\n",
        "\n",
        "> **NOTE**: <img src=\"https://raw.githubusercontent.com/gcmillar/CEUS/master/img/wait_time.png\" alt=\"runbutton\" width=\"25\" height=\"25\">"
      ]
    },
    {
      "cell_type": "code",
      "metadata": {
        "colab_type": "code",
        "id": "PIg3hmu1eLA_",
        "colab": {}
      },
      "source": [
        "%%capture\n",
        "#Step 1\n",
        "!apt-get update\n",
        "#Step 2\n",
        "!apt-get install libgdal-dev -y\n",
        "#Step 3\n",
        "!apt-get install python-gdal -y\n",
        "#Step 4\n",
        "!apt-get install python-numpy python-scipy -y\n",
        "#Step 5\n",
        "import gdal "
      ],
      "execution_count": 0,
      "outputs": []
    },
    {
      "cell_type": "markdown",
      "metadata": {
        "colab_type": "text",
        "id": "wqoZlcLpB2Xl"
      },
      "source": [
        "### Pandas"
      ]
    },
    {
      "cell_type": "code",
      "metadata": {
        "colab_type": "code",
        "id": "Xv3zeGvZxFxI",
        "colab": {}
      },
      "source": [
        "%%capture\n",
        "import pandas as pd"
      ],
      "execution_count": 0,
      "outputs": []
    },
    {
      "cell_type": "markdown",
      "metadata": {
        "colab_type": "text",
        "id": "PZk_VvpuKf0F"
      },
      "source": [
        "# Software: **R**\n",
        "\n",
        "---\n",
        "\n",
        "<!-- <mark>**NEED TO UPDATE/FINALIZE OVERARCHING SECTION DESCRIPTION HERE**</mark>\n",
        "\n",
        "> e.g. -\n",
        "_We had to do preprocessing to get the data from this state to this state. Preprocessing consisted of these main components. Then we finish with this product which is passed on to the next portion of the analysis (which looks like the spatial data bit based on table of contents) which is also performed using R. Then when you get to the spatial data bit, reign the user back in with an update on where you are, what software you're using, and what the goal of the next chunk is._ -->"
      ]
    },
    {
      "cell_type": "markdown",
      "metadata": {
        "colab_type": "text",
        "id": "n9t-PhSneJ-H"
      },
      "source": [
        "### Install Required R Packages \n",
        "> **NOTE**: <img src=\"https://raw.githubusercontent.com/gcmillar/CEUS/master/img/wait_time.png\" alt=\"runbutton\" width=\"25\" height=\"25\">"
      ]
    },
    {
      "cell_type": "code",
      "metadata": {
        "colab_type": "code",
        "id": "iS0OHB_vKpXC",
        "colab": {}
      },
      "source": [
        "%%capture\n",
        "%%R\n",
        "options(digits = 8)\n",
        "if (!require(dplyr)) {install.packages(\"dplyr\"); library(dplyr)}\n",
        "if (!require(tidyr)) {install.packages(\"tidyr\"); library(tidyr)}\n",
        "if (!require(sp)) {install.packages(\"sp\"); library(sp)}\n",
        "if (!require(raster)) {install.packages(\"raster\"); library(raster)}\n",
        "if (!require(rgeos)) {install.packages(\"rgeos\"); library(rgeos)}\n",
        "if (!require(rgbif)) {install.packages(\"rgbif\"); library(rgbif)}\n",
        "if (!require(viridis)) {install.packages(\"viridis\"); library(viridis)}\n",
        "if (!require(gridExtra)) {install.packages(\"gridExtra\"); library(gridExtra)}\n",
        "if (!require(R.matlab)) {install.packages(\"R.matlab\"); library(R.matlab)}\n",
        "if (!require(plyr)) {install.packages(\"plyr\"); library(plyr)}\n",
        "if (!require(data.table)) {install.packages(\"data.table\"); library(data.table)}\n",
        "if (!require(maptools)) {install.packages(\"maptools\"); library(maptools)}\n",
        "if (!require(spatstat)) {install.packages(\"spatstat\"); library(spatstat)}\n",
        "if (!require(rasterVis)) {install.packages(\"rasterVis\"); library(rasterVis)}\n",
        "if (!require(leaflet)) {install.packages(\"leaflet\"); library(leaflet)}\n",
        "if (!require(RColorBrewer)) {install.packages(\"RColorBrewer\"); library(RColorBrewer)}\n",
        "if (!require(scales)) {install.packages(\"scales\"); library(scales)}\n",
        "if (!require(spgwr)) {install.packages(\"spgwr\"); library(spgwr)}\n",
        "if (!require(gdalUtils)) {install.packages(\"gdalUtils\"); library(gdalUtils)}\n",
        "if (!require(devtools)) {install.packages(\"devtools\"); library(devtools)}\n",
        "if (!require(tidyverse)) {install.packages(\"tidyverse\"); library(tidyverse)}\n",
        "if (!require(sf)) {install.packages(\"sf\"); library(sf)}\n",
        "if (!require(ggmap)) {install.packages(\"ggmap\"); library(ggmap)}\n",
        "if (!require(formatR)) {install.packages(\"formatR\"); library(formatR)}\n",
        "if (!require(stats)) {install.packages(\"stats\"); library(stats)}\n",
        "if (!require(data.table)) {install.packages(\"data.table\"); library(data.table)}\n",
        "if (!require(lubridate)) {install.packages(\"lubridate\"); library(lubridate)}\n",
        "if (!require(ggplot2)) {install.packages(\"ggplot2\"); library(ggplot2)}\n",
        "if (!require(grid)) {install.packages(\"grid\"); library(grid)}\n",
        "if (!require(gridExtra)) {install.packages(\"gridExtra\"); library(gridExtra)}\n",
        "if (!require(lattice)) {install.packages(\"lattice\"); library(lattice)}\n",
        "if (!require(leaflet)) {install.packages(\"leaflet\"); library(leaflet)}\n",
        "if (!require(lme4)) {install.packages(\"lme4\"); library(lme4)}\n",
        "if (!require(corrgram)) {install.packages(\"corrgram\"); library(corrgram)}\n",
        "if (!require(psych)) {install.packages(\"psych\"); library(psych)}\n",
        "if (!require(egg)) {install.packages(\"egg\"); library(egg)}"
      ],
      "execution_count": 0,
      "outputs": []
    },
    {
      "cell_type": "markdown",
      "metadata": {
        "colab_type": "text",
        "id": "2OV72uepLixb"
      },
      "source": [
        "## Data Processing"
      ]
    },
    {
      "cell_type": "markdown",
      "metadata": {
        "colab_type": "text",
        "id": "2oWgKcnyRZ2y"
      },
      "source": [
        "Read in CEUS Initial Cyclist Data [.csv]; using [online link from GitHub](https://raw.githubusercontent.com/gcmillar/CEUS/master/CHIPS_all.csv):\n",
        "\n",
        "> **File Description**: Initial dataset for CEUS analysis (.csv of cyclists' location and physiological data) \n",
        "\n",
        "> **Note**: This data is read in under the assumption the raw skin conductance signals have been properly processed in Ledalab--MATLAB-based software for the analysis of raw EDA data. This process used a moving window of 20 seconds to identify deviations of 3 standard deviations or more as potential motion artifacts. Deviations were visually inspected and if they failed to conform to a standard, physiologically-plausible shape for a Skin Conductance Response (SCR), were replaced with linear interpolation. Cleaned data were then deconvoluted using the Ledalab toolbox into phasic and tonic components. After deconvolution, we can now proceed with the data representing the phasic component, where the physiological data are georeferenced through a time-based synchronization of the SCR data with GPS location data.\n",
        "<!-- ~~~ -->\n",
        " <!-- **File Description**: Initial dataset for CEUS analysis (.csv of cyclists' location and physiological data)  -->\n",
        "<!-- ~~~ -->\n"
      ]
    },
    {
      "cell_type": "code",
      "metadata": {
        "colab_type": "code",
        "id": "inzG0s8pPmmG",
        "colab": {}
      },
      "source": [
        "%%capture\n",
        "# import csv\n",
        "!wget \"https://raw.githubusercontent.com/gcmillar/CEUS/master/CHIPS_all.csv\"\n",
        "CHIPS_url = 'https://raw.githubusercontent.com/gcmillar/CEUS/master/CHIPS_all.csv'\n",
        "CHIPS_df = pd.read_csv(CHIPS_url) # Dataset is now stored in a Pandas Dataframe"
      ],
      "execution_count": 0,
      "outputs": []
    },
    {
      "cell_type": "markdown",
      "metadata": {
        "colab_type": "text",
        "id": "TBP29qMI0jHE"
      },
      "source": [
        "Using Pandas to display CHIPS cycling data as interactive table."
      ]
    },
    {
      "cell_type": "code",
      "metadata": {
        "colab_type": "code",
        "id": "sPcnkvACLicK",
        "colab": {}
      },
      "source": [
        "%%R\n",
        "setwd(\"/content/\")\n",
        "CHIPS_df <- read.table(\"CHIPS_all.csv\", header = TRUE, row.names=NULL, sep=\",\")\n",
        "# setnames(CHIPS_df, \"long\", \"lon\")"
      ],
      "execution_count": 0,
      "outputs": []
    },
    {
      "cell_type": "code",
      "metadata": {
        "colab_type": "code",
        "id": "FyyyVMY9veJ_",
        "outputId": "a179a566-c355-4a6f-9cac-1dc59bc1ec78",
        "colab": {
          "base_uri": "https://localhost:8080/",
          "height": 446
        }
      },
      "source": [
        "%load_ext google.colab.data_table\n",
        "CHIPS_df"
      ],
      "execution_count": 0,
      "outputs": [
        {
          "output_type": "stream",
          "text": [
            "The google.colab.data_table extension is already loaded. To reload it, use:\n",
            "  %reload_ext google.colab.data_table\n"
          ],
          "name": "stdout"
        },
        {
          "output_type": "execute_result",
          "data": {
            "text/html": [
              "<div>\n",
              "<style scoped>\n",
              "    .dataframe tbody tr th:only-of-type {\n",
              "        vertical-align: middle;\n",
              "    }\n",
              "\n",
              "    .dataframe tbody tr th {\n",
              "        vertical-align: top;\n",
              "    }\n",
              "\n",
              "    .dataframe thead th {\n",
              "        text-align: right;\n",
              "    }\n",
              "</style>\n",
              "<table border=\"1\" class=\"dataframe\">\n",
              "  <thead>\n",
              "    <tr style=\"text-align: right;\">\n",
              "      <th></th>\n",
              "      <th>participant</th>\n",
              "      <th>time</th>\n",
              "      <th>conductance</th>\n",
              "      <th>conductance_z</th>\n",
              "      <th>phasic</th>\n",
              "      <th>phasic_z</th>\n",
              "      <th>tonic</th>\n",
              "      <th>tonic_z</th>\n",
              "      <th>lat</th>\n",
              "      <th>lon</th>\n",
              "      <th>altitude</th>\n",
              "      <th>distance</th>\n",
              "      <th>speed</th>\n",
              "      <th>speed2</th>\n",
              "      <th>power</th>\n",
              "    </tr>\n",
              "  </thead>\n",
              "  <tbody>\n",
              "    <tr>\n",
              "      <th>0</th>\n",
              "      <td>1</td>\n",
              "      <td>0.00</td>\n",
              "      <td>0.793927</td>\n",
              "      <td>-1.301833</td>\n",
              "      <td>0.066628</td>\n",
              "      <td>0.009995</td>\n",
              "      <td>0.727299</td>\n",
              "      <td>-1.311828</td>\n",
              "      <td>51.694545</td>\n",
              "      <td>5.046148</td>\n",
              "      <td>2.0</td>\n",
              "      <td>0.0</td>\n",
              "      <td>0.0</td>\n",
              "      <td>0.0</td>\n",
              "      <td>0.0</td>\n",
              "    </tr>\n",
              "    <tr>\n",
              "      <th>1</th>\n",
              "      <td>1</td>\n",
              "      <td>0.25</td>\n",
              "      <td>0.797768</td>\n",
              "      <td>-1.301205</td>\n",
              "      <td>0.070469</td>\n",
              "      <td>0.010623</td>\n",
              "      <td>0.727299</td>\n",
              "      <td>-1.311828</td>\n",
              "      <td>51.694545</td>\n",
              "      <td>5.046148</td>\n",
              "      <td>2.0</td>\n",
              "      <td>0.0</td>\n",
              "      <td>0.0</td>\n",
              "      <td>0.0</td>\n",
              "      <td>0.0</td>\n",
              "    </tr>\n",
              "    <tr>\n",
              "      <th>2</th>\n",
              "      <td>1</td>\n",
              "      <td>0.50</td>\n",
              "      <td>0.793927</td>\n",
              "      <td>-1.301833</td>\n",
              "      <td>0.066711</td>\n",
              "      <td>0.010000</td>\n",
              "      <td>0.727216</td>\n",
              "      <td>-1.311833</td>\n",
              "      <td>51.694545</td>\n",
              "      <td>5.046148</td>\n",
              "      <td>2.0</td>\n",
              "      <td>0.0</td>\n",
              "      <td>0.0</td>\n",
              "      <td>0.0</td>\n",
              "      <td>0.0</td>\n",
              "    </tr>\n",
              "    <tr>\n",
              "      <th>3</th>\n",
              "      <td>1</td>\n",
              "      <td>0.75</td>\n",
              "      <td>0.793927</td>\n",
              "      <td>-1.301833</td>\n",
              "      <td>0.066902</td>\n",
              "      <td>0.010014</td>\n",
              "      <td>0.727025</td>\n",
              "      <td>-1.311847</td>\n",
              "      <td>51.694545</td>\n",
              "      <td>5.046148</td>\n",
              "      <td>2.0</td>\n",
              "      <td>0.0</td>\n",
              "      <td>0.0</td>\n",
              "      <td>0.0</td>\n",
              "      <td>0.0</td>\n",
              "    </tr>\n",
              "    <tr>\n",
              "      <th>4</th>\n",
              "      <td>1</td>\n",
              "      <td>1.00</td>\n",
              "      <td>0.795207</td>\n",
              "      <td>-1.301624</td>\n",
              "      <td>0.068477</td>\n",
              "      <td>0.010246</td>\n",
              "      <td>0.726730</td>\n",
              "      <td>-1.311869</td>\n",
              "      <td>51.694545</td>\n",
              "      <td>5.046148</td>\n",
              "      <td>2.0</td>\n",
              "      <td>0.0</td>\n",
              "      <td>0.0</td>\n",
              "      <td>0.0</td>\n",
              "      <td>0.0</td>\n",
              "    </tr>\n",
              "    <tr>\n",
              "      <th>...</th>\n",
              "      <td>...</td>\n",
              "      <td>...</td>\n",
              "      <td>...</td>\n",
              "      <td>...</td>\n",
              "      <td>...</td>\n",
              "      <td>...</td>\n",
              "      <td>...</td>\n",
              "      <td>...</td>\n",
              "      <td>...</td>\n",
              "      <td>...</td>\n",
              "      <td>...</td>\n",
              "      <td>...</td>\n",
              "      <td>...</td>\n",
              "      <td>...</td>\n",
              "      <td>...</td>\n",
              "    </tr>\n",
              "    <tr>\n",
              "      <th>196567</th>\n",
              "      <td>12</td>\n",
              "      <td>4199.00</td>\n",
              "      <td>2.797048</td>\n",
              "      <td>0.346290</td>\n",
              "      <td>0.269639</td>\n",
              "      <td>0.309222</td>\n",
              "      <td>2.527409</td>\n",
              "      <td>0.037068</td>\n",
              "      <td>51.694313</td>\n",
              "      <td>5.045239</td>\n",
              "      <td>17.0</td>\n",
              "      <td>0.0</td>\n",
              "      <td>0.0</td>\n",
              "      <td>0.0</td>\n",
              "      <td>0.0</td>\n",
              "    </tr>\n",
              "    <tr>\n",
              "      <th>196568</th>\n",
              "      <td>12</td>\n",
              "      <td>4199.25</td>\n",
              "      <td>2.775272</td>\n",
              "      <td>0.320891</td>\n",
              "      <td>0.247880</td>\n",
              "      <td>0.283845</td>\n",
              "      <td>2.527392</td>\n",
              "      <td>0.037046</td>\n",
              "      <td>51.694313</td>\n",
              "      <td>5.045239</td>\n",
              "      <td>17.0</td>\n",
              "      <td>0.0</td>\n",
              "      <td>0.0</td>\n",
              "      <td>0.0</td>\n",
              "      <td>0.0</td>\n",
              "    </tr>\n",
              "    <tr>\n",
              "      <th>196569</th>\n",
              "      <td>12</td>\n",
              "      <td>4199.50</td>\n",
              "      <td>2.759901</td>\n",
              "      <td>0.302963</td>\n",
              "      <td>0.232528</td>\n",
              "      <td>0.265940</td>\n",
              "      <td>2.527373</td>\n",
              "      <td>0.037023</td>\n",
              "      <td>51.694313</td>\n",
              "      <td>5.045239</td>\n",
              "      <td>17.0</td>\n",
              "      <td>0.0</td>\n",
              "      <td>0.0</td>\n",
              "      <td>0.0</td>\n",
              "      <td>0.0</td>\n",
              "    </tr>\n",
              "    <tr>\n",
              "      <th>196570</th>\n",
              "      <td>12</td>\n",
              "      <td>4199.75</td>\n",
              "      <td>2.773991</td>\n",
              "      <td>0.319397</td>\n",
              "      <td>0.246637</td>\n",
              "      <td>0.282398</td>\n",
              "      <td>2.527354</td>\n",
              "      <td>0.036999</td>\n",
              "      <td>51.694313</td>\n",
              "      <td>5.045239</td>\n",
              "      <td>17.0</td>\n",
              "      <td>0.0</td>\n",
              "      <td>0.0</td>\n",
              "      <td>0.0</td>\n",
              "      <td>0.0</td>\n",
              "    </tr>\n",
              "    <tr>\n",
              "      <th>196571</th>\n",
              "      <td>12</td>\n",
              "      <td>4200.00</td>\n",
              "      <td>2.767586</td>\n",
              "      <td>0.311927</td>\n",
              "      <td>0.240253</td>\n",
              "      <td>0.274953</td>\n",
              "      <td>2.527333</td>\n",
              "      <td>0.036973</td>\n",
              "      <td>51.694313</td>\n",
              "      <td>5.045239</td>\n",
              "      <td>17.0</td>\n",
              "      <td>0.0</td>\n",
              "      <td>0.0</td>\n",
              "      <td>0.0</td>\n",
              "      <td>0.0</td>\n",
              "    </tr>\n",
              "  </tbody>\n",
              "</table>\n",
              "<p>196572 rows × 15 columns</p>\n",
              "</div>"
            ],
            "text/plain": [
              "        participant     time  conductance  ...  speed  speed2  power\n",
              "0                 1     0.00     0.793927  ...    0.0     0.0    0.0\n",
              "1                 1     0.25     0.797768  ...    0.0     0.0    0.0\n",
              "2                 1     0.50     0.793927  ...    0.0     0.0    0.0\n",
              "3                 1     0.75     0.793927  ...    0.0     0.0    0.0\n",
              "4                 1     1.00     0.795207  ...    0.0     0.0    0.0\n",
              "...             ...      ...          ...  ...    ...     ...    ...\n",
              "196567           12  4199.00     2.797048  ...    0.0     0.0    0.0\n",
              "196568           12  4199.25     2.775272  ...    0.0     0.0    0.0\n",
              "196569           12  4199.50     2.759901  ...    0.0     0.0    0.0\n",
              "196570           12  4199.75     2.773991  ...    0.0     0.0    0.0\n",
              "196571           12  4200.00     2.767586  ...    0.0     0.0    0.0\n",
              "\n",
              "[196572 rows x 15 columns]"
            ]
          },
          "metadata": {
            "tags": []
          },
          "execution_count": 61
        }
      ]
    },
    {
      "cell_type": "code",
      "metadata": {
        "colab_type": "code",
        "id": "FzqXCRNIveJC",
        "colab": {}
      },
      "source": [
        "%unload_ext google.colab.data_table"
      ],
      "execution_count": 0,
      "outputs": []
    },
    {
      "cell_type": "markdown",
      "metadata": {
        "colab_type": "text",
        "id": "eTFxJNzJLufO"
      },
      "source": [
        "### Artifact Correction\n",
        "The script and descriptions below detail the process of removing the first and last 4.00% of the raw skin conductance data to correct for artifacts: \n",
        "Using time, we know 4.00% of `max(CHIPS_df$time)` is `max(CHIPS_df$time) * 0.040` seconds. So, we'll delete the first and last `max(CHIPS_df$time) * 0.040` seconds (or `max(CHIPS_df$time) * 0.040 / 60` \n",
        "minutes) in the data to remove the observed artifacts. Since the data was collected every 0.25 seconds, that means `round(max(CHIPS_df$time) * 0.040 * 4)` rows should be deleted at the beginning and end of the data set."
      ]
    },
    {
      "cell_type": "code",
      "metadata": {
        "colab_type": "code",
        "id": "Rf48N1ZuLzGA",
        "colab": {}
      },
      "source": [
        "%%R\n",
        "unique(CHIPS_df$participant)\n",
        "# keeping specific pt data\n",
        "CHIPS_pts <- CHIPS_df\n",
        "# data needs to first be separated by participants to remove artifacts \n",
        "pt1 <- CHIPS_pts[CHIPS_pts$participant == 1, ]\n",
        "pt2 <- CHIPS_pts[CHIPS_pts$participant == 2, ]\n",
        "pt3 <- CHIPS_pts[CHIPS_pts$participant == 3, ]\n",
        "pt4 <- CHIPS_pts[CHIPS_pts$participant == 4, ]\n",
        "pt5 <- CHIPS_pts[CHIPS_pts$participant == 5, ]\n",
        "pt6 <- CHIPS_pts[CHIPS_pts$participant == 6, ]\n",
        "pt7 <- CHIPS_pts[CHIPS_pts$participant == 7, ]\n",
        "pt8 <- CHIPS_pts[CHIPS_pts$participant == 8, ]\n",
        "pt9 <- CHIPS_pts[CHIPS_pts$participant == 9, ]\n",
        "pt10 <- CHIPS_pts[CHIPS_pts$participant == 10, ]\n",
        "pt11 <- CHIPS_pts[CHIPS_pts$participant == 11, ]\n",
        "pt12 <- CHIPS_pts[CHIPS_pts$participant == 12, ]"
      ],
      "execution_count": 0,
      "outputs": []
    },
    {
      "cell_type": "code",
      "metadata": {
        "id": "1R7OFDB7dzC-",
        "colab_type": "code",
        "colab": {}
      },
      "source": [
        "%%R\n",
        "# first rows\n",
        "N <- round(max(CHIPS_pts$time) * 0.040 * 4)\n",
        "pt1 <- pt1[-(1:N), , drop = FALSE]\n",
        "pt2 <- pt2[-(1:N), , drop = FALSE]\n",
        "pt3 <- pt3[-(1:N), , drop = FALSE]\n",
        "pt4 <- pt4[-(1:N), , drop = FALSE]\n",
        "pt5 <- pt5[-(1:N), , drop = FALSE]\n",
        "pt6 <- pt6[-(1:N), , drop = FALSE]\n",
        "pt7 <- pt7[-(1:N), , drop = FALSE]\n",
        "pt8 <- pt8[-(1:N), , drop = FALSE]\n",
        "pt9 <- pt9[-(1:N), , drop = FALSE]\n",
        "pt10 <- pt10[-(1:N), , drop = FALSE]\n",
        "pt11 <- pt11[-(1:N), , drop = FALSE]\n",
        "pt12 <- pt12[-(1:N), , drop = FALSE]\n",
        "# last rows\n",
        "N.2 <- round(max(CHIPS_pts$time) * 0.040 * 4)\n",
        "pt1 <- pt1[1:(nrow(pt1)-N.2),]\n",
        "pt2 <- pt2[1:(nrow(pt2)-N.2),]\n",
        "pt3 <- pt3[1:(nrow(pt3)-N.2),]\n",
        "pt4 <- pt4[1:(nrow(pt4)-N.2),]\n",
        "pt5 <- pt5[1:(nrow(pt5)-N.2),]\n",
        "pt6 <- pt6[1:(nrow(pt6)-N.2),]\n",
        "pt7 <- pt7[1:(nrow(pt7)-N.2),]\n",
        "pt8 <- pt8[1:(nrow(pt8)-N.2),]\n",
        "pt9 <- pt9[1:(nrow(pt9)-N.2),]\n",
        "pt10 <- pt10[1:(nrow(pt10)-N.2),]\n",
        "pt11 <- pt11[1:(nrow(pt11)-N.2),]\n",
        "pt12 <- pt12[1:(nrow(pt12)-N.2),]"
      ],
      "execution_count": 0,
      "outputs": []
    },
    {
      "cell_type": "markdown",
      "metadata": {
        "colab_type": "text",
        "id": "iUlGnMdvYSko"
      },
      "source": [
        "### Joining \n",
        "All participant data that were just separated and cleaned by using time are re-included into the same data frame."
      ]
    },
    {
      "cell_type": "code",
      "metadata": {
        "attributes": {
          "cache": "TRUE",
          "classes": [],
          "id": "",
          "message": "FALSE,",
          "tidy": "TRUE,",
          "warning": "FALSE,"
        },
        "colab_type": "code",
        "id": "MT7OKP0XZCsN",
        "colab": {}
      },
      "source": [
        "%%R\n",
        "# join\n",
        "CHIPS_df_clean <- rbind(pt1, pt2, pt3, pt4, pt5, pt6, pt7, pt8, pt9, pt10, pt11, pt12)\n",
        "CHIPS_df_clean <- add_count(CHIPS_df_clean, lon, lat, name = \"data.points.n\")\n",
        "CHIPS_df_clean$lon.lat <- paste(CHIPS_df_clean$lon, CHIPS_df_clean$lat, sep=\",\")\n",
        "CHIPS_time.in.cell <- aggregate(time ~ lat + lon, data = CHIPS_df_clean, sum)"
      ],
      "execution_count": 0,
      "outputs": []
    },
    {
      "cell_type": "markdown",
      "metadata": {
        "colab_type": "text",
        "id": "ZaUNk_NKhMgT"
      },
      "source": [
        "### Identifying Cycle Highway Directions\n",
        "\n",
        "<!-- <mark>**Should this code be included, since the resulting charts didn't end up making the paper?**</mark> -->\n",
        "\n",
        "Half participants went Waalwijk --> Tilburg, other half went Tilburg --> Waalwijk:\n",
        "*   `Waalwijk --> Tilburg: 1, 3, 4, 10, 11, 12`\n",
        "*   `Tilburg --> Waalwijk: 2, 5, 6, 7, 8, 9`\n",
        "\n",
        "> Groups need to be split for proper GPS data visualiztion"
      ]
    },
    {
      "cell_type": "code",
      "metadata": {
        "attributes": {
          "cache": "TRUE",
          "classes": [],
          "dpi": "300,",
          "fig.align": "'center',",
          "fig.cap": "\"\",",
          "fig.height": "5,",
          "id": "",
          "message": "FALSE,",
          "tidy": "TRUE,",
          "warning": "FALSE,"
        },
        "colab_type": "code",
        "id": "Cc9tQ1-oYEfs",
        "colab": {}
      },
      "source": [
        "%%R\n",
        "CHIPS_df_clean$direction <- NA\n",
        "CHIPS_df_clean$direction[which(CHIPS_df_clean$participant %in% c(1, 3, 4, 10, 11, 12))] <- \"waal_til\"\n",
        "CHIPS_df_clean$direction[which(CHIPS_df_clean$participant %in% c(2, 5, 6, 7, 8, 9))] <- \"til_waal\"\n",
        "CHIPS_df_clean$direction <- as.factor(CHIPS_df_clean$direction)\n",
        "CHIPS_waal_til <- subset(CHIPS_df_clean, direction==\"waal_til\")\n",
        "CHIPS_til_waal <- subset(CHIPS_df_clean, direction==\"til_waal\")"
      ],
      "execution_count": 0,
      "outputs": []
    },
    {
      "cell_type": "markdown",
      "metadata": {
        "id": "Szdr9oa6s3pe",
        "colab_type": "text"
      },
      "source": [
        "###Skin Conductance\n",
        "---\n",
        "\n",
        "**Although this portion of the analysis did not appear in the final manuscript, it is very useful for initial data exploration. Therefore, code to generate initial exploratory plots of skin conductance, as a function of multiple relevant variables (speed, elevation, etc.), is included below.**\n",
        "\n",
        "---\n",
        "\n",
        "\n",
        "\n"
      ]
    },
    {
      "cell_type": "markdown",
      "metadata": {
        "id": "uLc6rAzju6O9",
        "colab_type": "text"
      },
      "source": [
        "Plotting SCR data as a function of elevation and speed by time stamps of each way point using ggplot. This helps examine potentially confounding effects between variables.\n",
        "\n",
        "As to not confuse ggplot, we do not pass the SpatialPointsDataFrame-object directly, but convert it to a regular data frame with as.data.frame():\n",
        "\n",
        "> **NOTE**: <img src=\"https://raw.githubusercontent.com/gcmillar/CEUS/master/img/wait_time.png\" alt=\"runbutton\" width=\"25\" height=\"25\">"
      ]
    },
    {
      "cell_type": "markdown",
      "metadata": {
        "id": "CtOYz55BzbC0",
        "colab_type": "text"
      },
      "source": [
        "First, we explore skin conductance by plotting overall cycling time (in seconds) on the x-axis."
      ]
    },
    {
      "cell_type": "markdown",
      "metadata": {
        "id": "5C9IlZLBx3ie",
        "colab_type": "text"
      },
      "source": [
        "#### Plot of Time & Elevation, Colored by Skin Conductance"
      ]
    },
    {
      "cell_type": "code",
      "metadata": {
        "id": "r-1M1JjUtirZ",
        "colab_type": "code",
        "outputId": "be76c58b-2478-4353-848b-cd21a3ac01f7",
        "colab": {
          "base_uri": "https://localhost:8080/",
          "height": 497
        }
      },
      "source": [
        "%%R\n",
        "if (!require(egg)) {install.packages(\"egg\"); library(egg)}\n",
        "options(digits = 0) # restricting decimal places for graphs\n",
        "# CHIPS_waal_til\n",
        "time_elev_conduct_plot.waal_til <- ggplot(as.data.frame(CHIPS_waal_til), # convert to regular dataframe\n",
        "                                          aes(x=time, y=altitude, color = phasic_z)) +\n",
        "  scale_color_gradient2(low= \"dodgerblue4\", mid=\"slategray2\", high=\"red3\",\n",
        "                        midpoint = median(CHIPS_df$phasic_z),\n",
        "                        breaks=seq(min(CHIPS_df$phasic_z), max(CHIPS_df$phasic_z),\n",
        "                                    (max(CHIPS_df$phasic_z)-min(CHIPS_df$phasic_z))/4)) +\n",
        "  theme(panel.grid.major = element_line(colour = \"#808080\"),\n",
        "        legend.title = element_blank()) +\n",
        "  theme_linedraw(base_size = 16) +\n",
        "  geom_point(alpha = 0.6, size = 1.5, show.legend = TRUE) + \n",
        "  geom_smooth(span = 0.3, colour=\"#90CA77\", size=3, alpha=0.6) +\n",
        "   # theme_bw() + \n",
        "   ggtitle(\"Waalwijk to Tilburg\") +\n",
        "  labs(x='\\nCycling time (s)', y='Elevation (m)')\n",
        "# CHIPS_til_waal\n",
        "CHIPS_til_waal[order(CHIPS_til_waal$distance),]\n",
        "CHIPS_til_waal$participant[1:50]\n",
        "time_elev_conduct_plot.til_waal <- ggplot(as.data.frame(CHIPS_til_waal), # convert to regular dataframe\n",
        "            aes(x=time, y=altitude, color = phasic_z)) +\n",
        "  scale_color_gradient2(low= \"dodgerblue4\", mid=\"slategray2\", high=\"red3\", \n",
        "                       midpoint = median(CHIPS_df$phasic_z),\n",
        "                       breaks=seq(min(CHIPS_df$phasic_z), max(CHIPS_df$phasic_z),\n",
        "                                    (max(CHIPS_df$phasic_z)-min(CHIPS_df$phasic_z))/4)) +\n",
        "  # theme(panel.grid.major = element_line(colour = \"#808080\"))\n",
        "  theme(panel.grid.major = element_line(colour = \"#808080\"),\n",
        "        axis.text.x = element_text(angle = 90, vjust = 0.5, hjust=1, size = rel(0.5)))+\n",
        "  theme_linedraw(base_size = 16) +\n",
        "  geom_point(alpha = 0.6, size = 1.5, show.legend = TRUE) + \n",
        "  geom_smooth(span = 0.3, colour=\"#90CA77\", size=3, alpha=0.6) +\n",
        "  ggtitle(\"Tilburg to Waalwijk\") +\n",
        "  labs(x='\\nCycling time (s)', y='Elevation (m)')\n",
        "# together\n",
        "grid.arrange(grobs=lapply(list(time_elev_conduct_plot.waal_til, time_elev_conduct_plot.til_waal), set_panel_size,\n",
        "                          width = unit(4, \"in\")))"
      ],
      "execution_count": 0,
      "outputs": [
        {
          "output_type": "display_data",
          "data": {
            "image/png": "[encoded data removed]"
          },
          "metadata": {
            "tags": []
          }
        }
      ]
    },
    {
      "cell_type": "markdown",
      "metadata": {
        "id": "-IcZtlsYw5sE",
        "colab_type": "text"
      },
      "source": [
        "#### Plot of Time & Speed, Colored by Skin Conductance"
      ]
    },
    {
      "cell_type": "code",
      "metadata": {
        "id": "ppArwQ33vLts",
        "colab_type": "code",
        "outputId": "9e95b97b-3677-418b-b2da-f9fe186b61dc",
        "colab": {
          "base_uri": "https://localhost:8080/",
          "height": 497
        }
      },
      "source": [
        "%%R\n",
        "# CHIPS_waal_til\n",
        "time_speed_conduct_plot.waal_til <- ggplot(as.data.frame(CHIPS_waal_til), # convert to regular dataframe\n",
        "                                          aes(x=time, y=speed, color = phasic_z)) +\n",
        "  geom_smooth(span = 0.3, colour=\"darkgray\", size=3, alpha=0.6) +\n",
        "  scale_color_gradient2(low= \"dodgerblue4\", mid=\"slategray2\", high=\"red3\", \n",
        "                        midpoint = median(CHIPS_df$phasic_z),\n",
        "                        breaks=seq(min(CHIPS_df$phasic_z), max(CHIPS_df$phasic_z),\n",
        "                                    (max(CHIPS_df$phasic_z)-min(CHIPS_df$phasic_z))/4)) +\n",
        "  theme(panel.grid.major = element_line(colour = \"#808080\"),\n",
        "        legend.title = element_blank()) +\n",
        "  theme_linedraw(base_size = 16) +\n",
        "  geom_point(alpha = 0.6, size = 1.5, show.legend = TRUE) + \n",
        "  geom_smooth(span = 0.3, colour=\"#90CA77\", size=3, alpha=0.6) +\n",
        "   # theme_bw() + \n",
        "   ggtitle(\"Waalwijk to Tilburg\") +\n",
        "  labs(x='\\nCycling time (s)', y='Speed (km/h)')\n",
        "# CHIPS_til_waal\n",
        "time_speed_conduct_plot.til_waal <- ggplot(as.data.frame(CHIPS_til_waal), # convert to regular dataframe\n",
        "            aes(x=time, y=speed, color = phasic_z)) +\n",
        "  geom_smooth(span = 0.3, colour=\"darkgray\", size=3, alpha=0.6) +\n",
        "  scale_color_gradient2(low= \"dodgerblue4\", mid=\"slategray2\", high=\"red3\", \n",
        "                       midpoint = median(CHIPS_df$phasic_z),\n",
        "                       breaks=seq(min(CHIPS_df$phasic_z), max(CHIPS_df$phasic_z),\n",
        "                                    (max(CHIPS_df$phasic_z)-min(CHIPS_df$phasic_z))/4)) +\n",
        "  theme(panel.grid.major = element_line(colour = \"#808080\"),\n",
        "        legend.title = element_blank()) +\n",
        "  theme_linedraw(base_size = 16) +\n",
        "  geom_point(alpha = 0.6, size = 1.5, show.legend = TRUE) + \n",
        "  geom_smooth(span = 0.3, colour=\"#90CA77\", size=3, alpha=0.6) +\n",
        "  ggtitle(\"Tilburg to Waalwijk\") +\n",
        "  labs(x='\\nCycling time (s)', y='Speed (km/h)')\n",
        "# together\n",
        "grid.arrange(grobs=lapply(list(time_speed_conduct_plot.waal_til, time_speed_conduct_plot.til_waal), set_panel_size,\n",
        "                          width = unit(4, \"in\")))"
      ],
      "execution_count": 0,
      "outputs": [
        {
          "output_type": "display_data",
          "data": {
            "image/png": "[encoded data removed]"
          },
          "metadata": {
            "tags": []
          }
        }
      ]
    },
    {
      "cell_type": "markdown",
      "metadata": {
        "id": "5KhiVMNcxiJ3",
        "colab_type": "text"
      },
      "source": [
        "**NOTE**\n",
        "* Instead of Time on the x-axis, we further explore the Skin Conductance data by plotting over Distance (in km). \n",
        "  \n",
        "* Since our cyclists used e-bikes, we can expect the plots to look similar to those above which were plotted over Time (i.e., cyclists maintained a constant pace throughout their cycling trip)."
      ]
    },
    {
      "cell_type": "markdown",
      "metadata": {
        "id": "txpM0vSbwlKF",
        "colab_type": "text"
      },
      "source": [
        "#### Plot of Distance & Elevation, Colored by Skin Conductance"
      ]
    },
    {
      "cell_type": "code",
      "metadata": {
        "id": "Bla7ODBvwaY5",
        "colab_type": "code",
        "outputId": "cd1f8fb0-e297-4c83-9ad0-93637e115ee9",
        "colab": {
          "base_uri": "https://localhost:8080/",
          "height": 497
        }
      },
      "source": [
        "%%R\n",
        "# first elevation\n",
        "CHIPS_waal_til <- subset(CHIPS_waal_til, distance>=100)\n",
        "dist_elev_conduct_plot.waal_til <- ggplot(as.data.frame(CHIPS_waal_til), # convert to regular dataframe\n",
        "                                          aes(x=distance, y=altitude, color = phasic_z)) +\n",
        "  scale_color_gradient2(low= \"dodgerblue4\", mid=\"slategray2\", high=\"red3\",\n",
        "                        midpoint = median(CHIPS_df$phasic_z),\n",
        "                        breaks=seq(min(CHIPS_df$phasic_z), max(CHIPS_df$phasic_z),\n",
        "                                    (max(CHIPS_df$phasic_z)-min(CHIPS_df$phasic_z))/4)) +\n",
        " theme(panel.grid.major = element_line(colour = \"#808080\"),\n",
        "        legend.title = element_blank()) +\n",
        "  theme_linedraw(base_size = 16) +\n",
        "  geom_point(alpha = 0.6, size = 1.5, show.legend = TRUE) + \n",
        "  geom_smooth(span = 0.3, colour=\"#90CA77\", size=3, alpha=0.6) +\n",
        "   # theme_bw() + \n",
        "   ggtitle(\"Waalwijk to Tilburg\") +\n",
        "  labs(x='\\nDistance (m)', y='Elevation (m)')\n",
        "# CHIPS_til_waal\n",
        "CHIPS_til_waal <- subset(CHIPS_til_waal, distance>=100)\n",
        "dist_elev_conduct_plot.til_waal <- ggplot(as.data.frame(CHIPS_til_waal), # convert to regular dataframe\n",
        "            aes(x=distance, y=altitude, color = phasic_z)) +\n",
        "  scale_color_gradient2(low= \"dodgerblue4\", mid=\"slategray2\", high=\"red3\", \n",
        "                       midpoint = median(CHIPS_df$phasic_z),\n",
        "                       breaks=seq(min(CHIPS_df$phasic_z), max(CHIPS_df$phasic_z),\n",
        "                                    (max(CHIPS_df$phasic_z)-min(CHIPS_df$phasic_z))/4)) +\n",
        "  theme(panel.grid.major = element_line(colour = \"#808080\"),\n",
        "        legend.title = element_blank()) +\n",
        "  theme_linedraw(base_size = 16) +\n",
        "  geom_point(alpha = 0.6, size = 1.5, show.legend = TRUE) + \n",
        "  geom_smooth(span = 0.3, colour=\"#90CA77\", size=3, alpha=0.6) +\n",
        "  ggtitle(\"Tilburg to Waalwijk\") +\n",
        "  labs(x='\\nDistance (m)', y='Elevation (m)')\n",
        "# together\n",
        "grid.arrange(grobs=lapply(list(dist_elev_conduct_plot.waal_til,dist_elev_conduct_plot.til_waal), set_panel_size,\n",
        "                          width = unit(4, \"in\")))"
      ],
      "execution_count": 0,
      "outputs": [
        {
          "output_type": "display_data",
          "data": {
            "image/png": "[encoded data removed]"
          },
          "metadata": {
            "tags": []
          }
        }
      ]
    },
    {
      "cell_type": "markdown",
      "metadata": {
        "id": "cEHcovpCweu8",
        "colab_type": "text"
      },
      "source": [
        "#### Plot of Distance & Speed, Colored by Skin Conductance"
      ]
    },
    {
      "cell_type": "code",
      "metadata": {
        "id": "kr9Yfw1Wwb24",
        "colab_type": "code",
        "outputId": "b083628a-a7f1-4eda-90e6-3280d63f954e",
        "colab": {
          "base_uri": "https://localhost:8080/",
          "height": 497
        }
      },
      "source": [
        "%%R\n",
        "dist_speed_conduct_plot.waal_til <- ggplot(as.data.frame(CHIPS_waal_til), # convert to regular dataframe\n",
        "                                          aes(x=distance, y=speed, color = phasic_z)) +\n",
        "  scale_color_gradient2(low= \"dodgerblue4\", mid=\"slategray2\", high=\"red3\",\n",
        "                        midpoint = median(CHIPS_df$phasic_z),\n",
        "                        breaks=seq(min(CHIPS_df$phasic_z), max(CHIPS_df$phasic_z),\n",
        "                                    (max(CHIPS_df$phasic_z)-min(CHIPS_df$phasic_z))/4)) +\n",
        "    theme(panel.grid.major = element_line(colour = \"#808080\"),\n",
        "        legend.title = element_blank()) +\n",
        "  theme_linedraw(base_size = 16) +\n",
        "  geom_point(alpha = 0.6, size = 1.5, show.legend = TRUE) + \n",
        "  geom_smooth(span = 0.3, colour=\"#90CA77\", size=3, alpha=0.6) +\n",
        "  theme(\n",
        "  legend.title = element_text(size = 10),\n",
        "  legend.text = element_text(size = 10)) +\n",
        "   # theme_bw() + \n",
        "   ggtitle(\"Waalwijk to Tilburg\") +\n",
        "  labs(x='\\nDistance (m)', y='Speed (km/h)')\n",
        "# CHIPS_til_waal\n",
        "CHIPS_til_waal <- subset(CHIPS_til_waal, speed>0)\n",
        "dist_speed_conduct_plot.til_waal <- ggplot(as.data.frame(CHIPS_til_waal), # convert to regular dataframe\n",
        "            aes(x=distance, y=speed, color = phasic_z)) +\n",
        "  scale_color_gradient2(low= \"dodgerblue4\", mid=\"slategray2\", high=\"red3\", \n",
        "                       midpoint = median(CHIPS_df$phasic_z),\n",
        "                       breaks=seq(min(CHIPS_df$phasic_z), max(CHIPS_df$phasic_z),\n",
        "                                    (max(CHIPS_df$phasic_z)-min(CHIPS_df$phasic_z))/4)) +\n",
        "  theme(panel.grid.major = element_line(colour = \"#808080\"),\n",
        "        legend.title = element_blank()) +\n",
        "  theme_linedraw(base_size = 16) +\n",
        "  geom_point(alpha = 0.6, size = 1.5, show.legend = TRUE) + \n",
        "  geom_smooth(span = 0.3, colour=\"#90CA77\", size=3, alpha=0.6) +\n",
        "  theme(\n",
        "  legend.title = element_text(size = 10),\n",
        "  legend.text = element_text(size = 10)) +\n",
        "  ggtitle(\"Tilburg to Waalwijk\") +\n",
        "  labs(x='\\nDistance (m)', y='Speed (km/h)')\n",
        "# together\n",
        "grid.arrange(grobs=lapply(list(dist_speed_conduct_plot.waal_til,dist_speed_conduct_plot.til_waal), set_panel_size,\n",
        "                          width = unit(4, \"in\")))"
      ],
      "execution_count": 0,
      "outputs": [
        {
          "output_type": "display_data",
          "data": {
            "image/png": "[encoded data removed]"
          },
          "metadata": {
            "tags": []
          }
        }
      ]
    },
    {
      "cell_type": "markdown",
      "metadata": {
        "colab_type": "text",
        "id": "tI2tuAZEbvWQ"
      },
      "source": [
        "# Spatial Data \n",
        "For spatial analyses to occur, the data frame needs to be converted into a spatial data frame. The functions `coordinates()` and `projection()` from `sp` library converts the dataset into spatial objects that our to-be-conducted analyses requires. \n",
        "\n",
        "In particular, `coordinates()` specifies the latitude and longitude of the data and `proj4string()` creates the projection layer, i.e. the coordinate system. As you know, the EPSG: 4326 means that the coordinates are latitude-longitude pairs on a reference ellipsoid given by WGS84, projected with Mercator Projection.\n"
      ]
    },
    {
      "cell_type": "markdown",
      "metadata": {
        "colab_type": "text",
        "id": "Msp57oPXJ8R6"
      },
      "source": [
        "## Processing & Transformation"
      ]
    },
    {
      "cell_type": "code",
      "metadata": {
        "attributes": {
          "cache": "TRUE,",
          "classes": [],
          "dpi": "300,",
          "fig.cap": "\"\",",
          "fig.height": "3",
          "id": "",
          "message": "FALSE,",
          "tidy": "TRUE,",
          "warning": "FALSE,"
        },
        "colab_type": "code",
        "id": "_f9RoxcfYEfx",
        "outputId": "512f8c29-137b-4a74-bba3-5b630876561a",
        "colab": {
          "base_uri": "https://localhost:8080/",
          "height": 177
        }
      },
      "source": [
        "%%R\n",
        "# Data Processing\n",
        "CHIPS_lonlat_sp <- CHIPS_df_clean\n",
        "# First, ensuring a default long / lat is assigned to the coordinates:\n",
        "## Specifying coordinates in raw data\n",
        "coordinates(CHIPS_lonlat_sp) <- ~ lon + lat\n",
        "## Setting default projection\n",
        "proj4string(CHIPS_lonlat_sp) <- CRS(\"+init=epsg:4326 +proj=longlat +ellps=WGS84 +datum=WGS84 +no_defs +towgs84=0,0,0\")\n",
        "# Then, transform the coordinates to UTM, using its proper CRS [EPSG:28992; RD / Amersfoort].\n",
        "## Transforming coordinates to UTM\n",
        "CHIPS_sp <- spTransform(CHIPS_lonlat_sp, \"+proj=sterea +lat_0=52.15616055555555 +lon_0=5.38763888888889 +k=0.9999079 +x_0=155000 +y_0=463000 +ellps=bessel +units=m +no_defs\")\n",
        "# Creating specific participant data frames\n",
        "pt1 <- CHIPS_sp[CHIPS_sp$participant == 1, ]\n",
        "pt2 <- CHIPS_sp[CHIPS_sp$participant == 2, ]\n",
        "pt3 <- CHIPS_sp[CHIPS_sp$participant == 3, ]\n",
        "pt4 <- CHIPS_sp[CHIPS_sp$participant == 4, ]\n",
        "pt5 <- CHIPS_sp[CHIPS_sp$participant == 5, ]\n",
        "pt6 <- CHIPS_sp[CHIPS_sp$participant == 6, ]\n",
        "pt7 <- CHIPS_sp[CHIPS_sp$participant == 7, ]\n",
        "pt8 <- CHIPS_sp[CHIPS_sp$participant == 8, ]\n",
        "pt9 <- CHIPS_sp[CHIPS_sp$participant == 9, ]\n",
        "pt10 <- CHIPS_sp[CHIPS_sp$participant == 10, ]\n",
        "pt11 <- CHIPS_sp[CHIPS_sp$participant == 11, ]\n",
        "pt12 <- CHIPS_sp[CHIPS_sp$participant == 12, ]\n",
        "# inspect resulting data\n",
        "print(CHIPS_lonlat_sp)"
      ],
      "execution_count": 0,
      "outputs": [
        {
          "output_type": "display_data",
          "data": {
            "text/plain": [
              "class       : SpatialPointsDataFrame \n",
              "features    : 179292 \n",
              "extent      : 5, 9, 48, 52  (xmin, xmax, ymin, ymax)\n",
              "crs         : +init=epsg:4326 +proj=longlat +ellps=WGS84 +datum=WGS84 +no_defs +towgs84=0,0,0 \n",
              "variables   : 16\n",
              "names       : participant, time, conductance, conductance_z,      phasic,     phasic_z,       tonic,    tonic_z, altitude, distance, speed, speed2,      power, data.points.n,             lon.lat, ... \n",
              "min values  :           1,  180,           0,       -2.5374, -0.37180026, -0.058124676, -0.74559546, -2.5564633,     -0.3,        0,     0,      0, -3006.6372,             1, 5.0447518,51.694212, ... \n",
              "max values  :          12, 4320,   89.340683,     4.3944985,   9.8752154,    2.0113978,   88.751455,  3.6022169,     19.2,  19561.5,   9.8,  35.28,  2702.3866,          3406,   8.6246694,47.9631, ... \n"
            ]
          },
          "metadata": {
            "tags": []
          }
        }
      ]
    },
    {
      "cell_type": "markdown",
      "metadata": {
        "colab_type": "text",
        "id": "SWFB0G1uYEf3"
      },
      "source": [
        "## Processing & Export for Interactive Application - Stress3d\n",
        "\n",
        "Using the same approach above for the web-mapping application, Stress3d. Mapbox, and web-mapping in general, requires standard latitude and longitude coordinates [EPSG:4326; WGS 84]. Exporting to GeoJSON format, also usually preferred by web-mapping applications."
      ]
    },
    {
      "cell_type": "code",
      "metadata": {
        "attributes": {
          "cache": "TRUE,",
          "classes": [],
          "dpi": "300,",
          "fig.cap": "\"\",",
          "fig.height": "3",
          "id": "",
          "message": "FALSE,",
          "tidy": "TRUE,",
          "warning": "FALSE,"
        },
        "colab_type": "code",
        "id": "tKUn6CXgYEgA",
        "colab": {}
      },
      "source": [
        "%%R\n",
        "library(rgdal)\n",
        "CHIPS_lonlat <- CHIPS_df\n",
        "coordinates(CHIPS_lonlat) <- ~ lon + lat\n",
        "# Setting default projection\n",
        "proj4string(CHIPS_lonlat) <- CRS('+proj=longlat +lat_0=52 +lon_0=10 +x_0=4321000 +y_0=3210000 +ellps=GRS80 +units=m +no_defs')\n",
        "pt1 <- CHIPS_lonlat[CHIPS_lonlat$participant == 1, ]\n",
        "pt2 <- CHIPS_lonlat[CHIPS_lonlat$participant == 2, ]\n",
        "pt3 <- CHIPS_lonlat[CHIPS_lonlat$participant == 3, ]\n",
        "pt4 <- CHIPS_lonlat[CHIPS_lonlat$participant == 4, ]\n",
        "pt5 <- CHIPS_lonlat[CHIPS_lonlat$participant == 5, ]\n",
        "pt6 <- CHIPS_lonlat[CHIPS_lonlat$participant == 6, ]\n",
        "pt7 <- CHIPS_lonlat[CHIPS_lonlat$participant == 7, ]\n",
        "pt8 <- CHIPS_lonlat[CHIPS_lonlat$participant == 8, ]\n",
        "pt9 <- CHIPS_lonlat[CHIPS_lonlat$participant == 9, ]\n",
        "pt10 <- CHIPS_lonlat[CHIPS_lonlat$participant == 10, ]\n",
        "pt11 <- CHIPS_lonlat[CHIPS_lonlat$participant == 11, ]\n",
        "pt12 <- CHIPS_lonlat[CHIPS_lonlat$participant == 12, ]\n",
        "# Exporting to GeoJSON\n",
        "writeOGR(CHIPS_lonlat, \"/content/CHIPS_all_pts.geojson\",\n",
        "         layer=\"CHIPS_lonlat\", driver=\"GeoJSON\")\n",
        "# Exporting sample GeoJSON for display\n",
        "# writeOGR(pt3, \"/content/pt3.geojson\",\n",
        "#          layer=\"pt3\", driver=\"GeoJSON\")"
      ],
      "execution_count": 0,
      "outputs": []
    },
    {
      "cell_type": "markdown",
      "metadata": {
        "id": "BCFvsPGKMiP8",
        "colab_type": "text"
      },
      "source": [
        "\n",
        "<iframe width=\"560\" height=\"315\" src=\"https://gcmillar.github.io/e-motion/\" frameborder=\"0\" allowfullscreen></iframe>\n",
        "\n"
      ]
    },
    {
      "cell_type": "code",
      "metadata": {
        "colab_type": "code",
        "id": "G3hWhQKTE4aL",
        "outputId": "b534549c-c502-4085-b296-b8f1d03ed0fc",
        "colab": {
          "base_uri": "https://localhost:8080/",
          "height": 843
        }
      },
      "source": [
        "%%html\n",
        "<iframe src=\"https://gcmillar.github.io/stress3d/\" width=\"1200\" height=\"800\"></iframe>"
      ],
      "execution_count": 0,
      "outputs": [
        {
          "output_type": "display_data",
          "data": {
            "text/html": [
              "<iframe src=\"https://gcmillar.github.io/stress3d/\" width=\"1200\" height=\"800\"></iframe>"
            ],
            "text/plain": [
              "<IPython.core.display.HTML object>"
            ]
          },
          "metadata": {
            "tags": []
          }
        }
      ]
    },
    {
      "cell_type": "markdown",
      "metadata": {
        "colab_type": "text",
        "id": "MbZGnHMkYEf0"
      },
      "source": [
        "## Exporting as Vector to GRASS\n",
        "The following computes a csv file designed to be seamlessly imported into GRASS. Coordinates are in UTM [EPSG:28992; RD / Amersfoort] format, csv separator is set to pipe (\"|\" - GRASS's default import setting).  "
      ]
    },
    {
      "cell_type": "code",
      "metadata": {
        "attributes": {
          "cache": "TRUE",
          "classes": [],
          "id": "",
          "message": "FALSE,",
          "tidy": "TRUE,",
          "warning": "FALSE,"
        },
        "colab_type": "code",
        "id": "XFGoRqJYYEf0",
        "colab": {}
      },
      "source": [
        "%%R\n",
        "# ALL\n",
        "chips_all <- CHIPS_sp@data[,1:13]\n",
        "chips_all$lon <-CHIPS_sp@coords[,1]\n",
        "chips_all$lat <-CHIPS_sp@coords[,2]\n",
        "write.table(chips_all, row.names = F, quote = F, \n",
        "            col.names = T, sep = \"|\", dec = \".\",\n",
        "           \"/content/chips_all.txt\")"
      ],
      "execution_count": 0,
      "outputs": []
    },
    {
      "cell_type": "markdown",
      "metadata": {
        "colab_type": "text",
        "id": "oC2lpaBs3Q8D"
      },
      "source": [
        "---\n",
        "\n",
        "# Software: **GRASS GIS**\n",
        "\n",
        "---\n",
        "\n",
        "GRASS GIS (https://grass.osgeo.org/) is a Geographic Information System used for geospatial data management and analysis, image processing, graphics/map production, spatial modeling, and visualization.\n",
        "\n",
        "<!-- <mark>**NEED TO UPDATE/FINALIZE OVERARCHING SECTION DESCRIPTION HERE**</mark> -->\n"
      ]
    },
    {
      "cell_type": "markdown",
      "metadata": {
        "colab_type": "text",
        "id": "vSy1KNtghIxl"
      },
      "source": [
        "## Install \n",
        "**Source**<sup> [1](https://grasswiki.osgeo.org/wiki/GRASS_GIS_Jupyter_notebooks)</sup> \n",
        "\n",
        "When the following code chunk is run, you will see a rectangular input box pop up below. Click in it using your mouse, and then press 'Enter' to continue the configuration process.\n",
        "\n",
        "> **NOTE**: <img src=\"https://raw.githubusercontent.com/gcmillar/CEUS/master/img/wait_time.png\" alt=\"runbutton\" width=\"25\" height=\"25\">"
      ]
    },
    {
      "cell_type": "code",
      "metadata": {
        "colab_type": "code",
        "id": "m9o10GGgO3Ye",
        "colab": {}
      },
      "source": [
        "%%capture\n",
        "!add-apt-repository ppa:ubuntugis/ubuntugis-unstable\n",
        "#update packages\n",
        "!apt-get update\n",
        "#install grass\n",
        "!apt-get install grass -y;"
      ],
      "execution_count": 0,
      "outputs": []
    },
    {
      "cell_type": "markdown",
      "metadata": {
        "colab_type": "text",
        "id": "sLCc64a_z-rv"
      },
      "source": [
        "## Configure Python to Run GRASS\n",
        "\n"
      ]
    },
    {
      "cell_type": "code",
      "metadata": {
        "colab_type": "code",
        "id": "V9SbkeieGUsQ",
        "outputId": "3cd38cf2-4e51-4ad8-b9bc-85620ee3e747",
        "colab": {
          "base_uri": "https://localhost:8080/",
          "height": 35
        }
      },
      "source": [
        "# import Python standard library and IPython packages we need\n",
        "import os\n",
        "import sys\n",
        "import subprocess\n",
        "from IPython.display import Image\n",
        "\n",
        "# ask GRASS GIS where its Python packages are\n",
        "gisbase= \"/usr/lib/grass78\"\n",
        "# gisbase = subprocess.check_output([\"grass78\", \"--config\", \"path\"]).strip()\n",
        "print(gisbase)\n",
        "os.environ['GISBASE'] = gisbase\n",
        "sys.path.append(os.path.join(\"/usr/lib/grass78\", \"etc\", \"python\"))\n",
        "\n",
        "# import GRASS GIS packages we need\n",
        "import grass.script as gs\n",
        "import grass.script.setup as gsetup\n",
        "\n",
        "# create GRASS GIS session\n",
        "rcfile = gsetup.init(gisbase, \"/root/grassdata\", \"CEUS\", \"PERMANENT\")\n",
        "\n",
        "# we want functions to raise exceptions and see standard output of the modules\n",
        "gs.set_raise_on_error(True)\n",
        "gs.set_capture_stderr(True)\n",
        "\n",
        "# simply overwrite existing maps like we overwrite Python variable values\n",
        "os.environ['GRASS_OVERWRITE'] = '1'\n",
        "\n",
        "# enable map rendering to in Jupyter Notebook\n",
        "os.environ['GRASS_FONT'] = 'sans'\n",
        "\n",
        "# set display modules to render into a file (named map.png by default)\n",
        "os.environ['GRASS_RENDER_IMMEDIATE'] = 'cairo'\n",
        "os.environ['GRASS_RENDER_FILE_READ'] = 'TRUE'\n",
        "os.environ['GRASS_LEGEND_FILE'] = 'legend.txt'"
      ],
      "execution_count": 0,
      "outputs": [
        {
          "output_type": "stream",
          "text": [
            "/usr/lib/grass78\n"
          ],
          "name": "stdout"
        }
      ]
    },
    {
      "cell_type": "markdown",
      "metadata": {
        "colab_type": "text",
        "id": "DExWI9fwO6Lr"
      },
      "source": [
        "## CEUS Data — GRASS GIS\n",
        "\n",
        "This dataset contains the already developed digital surface model (DSM; downloaded from the official\n",
        "open data repository:  \n",
        "#### *Elevation*\n",
        "DSM was interpolated from first-return lidar points at half-meter resolution to provide input for computation of viewsheds along the cyclists path while capturing impact of buildings and other structures. We used a regularized\n",
        "spline with tension algorithm implemented in GRASS GIS to balance the smoothness and approximation accuracy of the surface.\n",
        "> **Source**: The Actual Elevation map of the Netherlands (AHN)<sup>[1](http://ahn.nl)</sup> \n",
        "\n",
        "---\n",
        "\n",
        "#### *Land Use*\n",
        "Land use was split into the following seven classes: developed, natural, recreation, water, business, agriculture, and forest. Developed areas were classified as any area with high levels of surrounding urban life. Natural areas consisted of grasslands, herbaceous, unpaved surfaces, grass, orchards, meadows, and any other layers constituted by greenery. Recreation contained places frequented for leisure like parks, amusement parks (specifically Efteling, a fantasy-themed amusement park), soccer pitches, and camp sites. Any area described as containing a body of water was also defined. The polygon-based land use layer was then converted to 0.5 m resolution raster representation.\n",
        "\n",
        "---"
      ]
    },
    {
      "cell_type": "markdown",
      "metadata": {
        "colab_type": "text",
        "id": "-ydwDKOAhZzc"
      },
      "source": [
        "### Download CEUS Location Dataset "
      ]
    },
    {
      "cell_type": "code",
      "metadata": {
        "colab_type": "code",
        "id": "H1OWKeKDhckI",
        "outputId": "4c5fbf3f-c911-439c-cfcf-5f389cb505bd",
        "colab": {
          "base_uri": "https://localhost:8080/",
          "height": 280
        }
      },
      "source": [
        "# Download & import CEUS data as GRASS GIS location file \n",
        "import zipfile\n",
        "# The following snippets set the unzipped data as a GRASS location file\n",
        "!wget /$HOME/grassdata/ \"http://fatra.cnr.ncsu.edu/data/CEUS.zip\""
      ],
      "execution_count": 0,
      "outputs": [
        {
          "output_type": "stream",
          "text": [
            "//root/grassdata/: Scheme missing.\n",
            "--2020-02-18 20:39:57--  http://fatra.cnr.ncsu.edu/data/CEUS.zip\n",
            "Resolving fatra.cnr.ncsu.edu (fatra.cnr.ncsu.edu)... 152.1.72.43\n",
            "Connecting to fatra.cnr.ncsu.edu (fatra.cnr.ncsu.edu)|152.1.72.43|:80... connected.\n",
            "HTTP request sent, awaiting response... 200 OK\n",
            "Length: 1363125185 (1.3G) [application/zip]\n",
            "Saving to: ‘CEUS.zip’\n",
            "\n",
            "CEUS.zip            100%[===================>]   1.27G  11.2MB/s    in 1m 57s  \n",
            "\n",
            "2020-02-18 20:41:55 (11.1 MB/s) - ‘CEUS.zip’ saved [1363125185/1363125185]\n",
            "\n",
            "FINISHED --2020-02-18 20:41:55--\n",
            "Total wall clock time: 1m 58s\n",
            "Downloaded: 1 files, 1.3G in 1m 57s (11.1 MB/s)\n"
          ],
          "name": "stdout"
        }
      ]
    },
    {
      "cell_type": "code",
      "metadata": {
        "id": "67JkYQhvO-ch",
        "colab_type": "code",
        "colab": {}
      },
      "source": [
        "zip_ref = zipfile.ZipFile(\"/content/CEUS.zip\", 'r')\n",
        "zip_ref.extractall(\"/root/grassdata/\")\n",
        "zip_ref.close()"
      ],
      "execution_count": 0,
      "outputs": []
    },
    {
      "cell_type": "markdown",
      "metadata": {
        "id": "VKpzcn84l0kB",
        "colab_type": "text"
      },
      "source": [
        "## Configure Most Recent GRASS Module (_r.viewshed_) \n",
        "\n",
        "Code below details the extraction and compilation process of a recently updated GRASS module--i.e., module not yet integrated in a GRASS version release. Here, we specifically take the most recent version of _r.viewshed_<sup>[1](https://grass.osgeo.org/grass76/manuals/r.viewshed.html)</sup>&nbsp;&nbsp;from the [OSGeo GRASS Github page](https://github.com/OSGeo/grass) since it was specially developed for the analytical framework presented in the Millar et al. 2020 paper."
      ]
    },
    {
      "cell_type": "code",
      "metadata": {
        "id": "NrNxkTHfhaOZ",
        "colab_type": "code",
        "outputId": "c73f0660-9b11-4e63-cc81-b4379e18a0b1",
        "colab": {
          "base_uri": "https://localhost:8080/",
          "height": 1000
        }
      },
      "source": [
        "!apt-get install grass-dev -y;"
      ],
      "execution_count": 0,
      "outputs": [
        {
          "output_type": "stream",
          "text": [
            "Reading package lists... Done\n",
            "Building dependency tree       \n",
            "Reading state information... Done\n",
            "The following packages were automatically installed and are no longer required:\n",
            "  libgeos-3.6.2 libnvidia-common-430\n",
            "Use 'apt autoremove' to remove them.\n",
            "The following additional packages will be installed:\n",
            "  fakeroot libapr1 libaprutil1 libfakeroot libserf-1-1 libsvn1 subversion\n",
            "Suggested packages:\n",
            "  grass-dev-doc db5.3-util libapache2-mod-svn subversion-tools\n",
            "The following NEW packages will be installed:\n",
            "  fakeroot grass-dev libapr1 libaprutil1 libfakeroot libserf-1-1 libsvn1\n",
            "  subversion\n",
            "0 upgraded, 8 newly installed, 0 to remove and 102 not upgraded.\n",
            "Need to get 2,535 kB of archives.\n",
            "After this operation, 11.6 MB of additional disk space will be used.\n",
            "Get:1 http://ppa.launchpad.net/ubuntugis/ubuntugis-unstable/ubuntu bionic/main amd64 grass-dev amd64 7.8.2-1~bionic2 [210 kB]\n",
            "Get:2 http://archive.ubuntu.com/ubuntu bionic/main amd64 libfakeroot amd64 1.22-2ubuntu1 [25.9 kB]\n",
            "Get:3 http://archive.ubuntu.com/ubuntu bionic/main amd64 fakeroot amd64 1.22-2ubuntu1 [62.3 kB]\n",
            "Get:4 http://archive.ubuntu.com/ubuntu bionic/main amd64 libapr1 amd64 1.6.3-2 [90.9 kB]\n",
            "Get:5 http://archive.ubuntu.com/ubuntu bionic/main amd64 libaprutil1 amd64 1.6.1-2 [84.4 kB]\n",
            "Get:6 http://archive.ubuntu.com/ubuntu bionic/universe amd64 libserf-1-1 amd64 1.3.9-6 [44.4 kB]\n",
            "Get:7 http://archive.ubuntu.com/ubuntu bionic/universe amd64 libsvn1 amd64 1.9.7-4ubuntu1 [1,183 kB]\n",
            "Get:8 http://archive.ubuntu.com/ubuntu bionic/universe amd64 subversion amd64 1.9.7-4ubuntu1 [834 kB]\n",
            "Fetched 2,535 kB in 3s (842 kB/s)\n",
            "Selecting previously unselected package libfakeroot:amd64.\n",
            "(Reading database ... 158346 files and directories currently installed.)\n",
            "Preparing to unpack .../0-libfakeroot_1.22-2ubuntu1_amd64.deb ...\n",
            "Unpacking libfakeroot:amd64 (1.22-2ubuntu1) ...\n",
            "Selecting previously unselected package fakeroot.\n",
            "Preparing to unpack .../1-fakeroot_1.22-2ubuntu1_amd64.deb ...\n",
            "Unpacking fakeroot (1.22-2ubuntu1) ...\n",
            "Selecting previously unselected package grass-dev.\n",
            "Preparing to unpack .../2-grass-dev_7.8.2-1~bionic2_amd64.deb ...\n",
            "Unpacking grass-dev (7.8.2-1~bionic2) ...\n",
            "Selecting previously unselected package libapr1:amd64.\n",
            "Preparing to unpack .../3-libapr1_1.6.3-2_amd64.deb ...\n",
            "Unpacking libapr1:amd64 (1.6.3-2) ...\n",
            "Selecting previously unselected package libaprutil1:amd64.\n",
            "Preparing to unpack .../4-libaprutil1_1.6.1-2_amd64.deb ...\n",
            "Unpacking libaprutil1:amd64 (1.6.1-2) ...\n",
            "Selecting previously unselected package libserf-1-1:amd64.\n",
            "Preparing to unpack .../5-libserf-1-1_1.3.9-6_amd64.deb ...\n",
            "Unpacking libserf-1-1:amd64 (1.3.9-6) ...\n",
            "Selecting previously unselected package libsvn1:amd64.\n",
            "Preparing to unpack .../6-libsvn1_1.9.7-4ubuntu1_amd64.deb ...\n",
            "Unpacking libsvn1:amd64 (1.9.7-4ubuntu1) ...\n",
            "Selecting previously unselected package subversion.\n",
            "Preparing to unpack .../7-subversion_1.9.7-4ubuntu1_amd64.deb ...\n",
            "Unpacking subversion (1.9.7-4ubuntu1) ...\n",
            "Setting up libapr1:amd64 (1.6.3-2) ...\n",
            "Setting up libaprutil1:amd64 (1.6.1-2) ...\n",
            "Setting up libfakeroot:amd64 (1.22-2ubuntu1) ...\n",
            "Setting up fakeroot (1.22-2ubuntu1) ...\n",
            "update-alternatives: using /usr/bin/fakeroot-sysv to provide /usr/bin/fakeroot (fakeroot) in auto mode\n",
            "Setting up libserf-1-1:amd64 (1.3.9-6) ...\n",
            "Setting up libsvn1:amd64 (1.9.7-4ubuntu1) ...\n",
            "Setting up grass-dev (7.8.2-1~bionic2) ...\n",
            "Setting up subversion (1.9.7-4ubuntu1) ...\n",
            "Processing triggers for libc-bin (2.27-3ubuntu1) ...\n",
            "/sbin/ldconfig.real: /usr/local/lib/python3.6/dist-packages/ideep4py/lib/libmkldnn.so.0 is not a symbolic link\n",
            "\n",
            "Processing triggers for man-db (2.8.3-2ubuntu0.1) ...\n"
          ],
          "name": "stdout"
        }
      ]
    },
    {
      "cell_type": "code",
      "metadata": {
        "id": "R6qxctozN2-i",
        "colab_type": "code",
        "outputId": "1264f79a-1d01-41c7-d5e0-d7fb459ebffc",
        "colab": {
          "base_uri": "https://localhost:8080/",
          "height": 157
        }
      },
      "source": [
        "!git clone \"https://github.com/OSGeo/grass.git\""
      ],
      "execution_count": 0,
      "outputs": [
        {
          "output_type": "stream",
          "text": [
            "Cloning into 'grass'...\n",
            "remote: Enumerating objects: 46, done.\u001b[K\n",
            "remote: Counting objects: 100% (46/46), done.\u001b[K\n",
            "remote: Compressing objects: 100% (41/41), done.\u001b[K\n",
            "remote: Total 235134 (delta 14), reused 18 (delta 4), pack-reused 235088\u001b[K\n",
            "Receiving objects: 100% (235134/235134), 238.55 MiB | 11.04 MiB/s, done.\n",
            "Resolving deltas: 100% (173934/173934), done.\n",
            "Checking out files: 100% (7397/7397), done.\n"
          ],
          "name": "stdout"
        }
      ]
    },
    {
      "cell_type": "code",
      "metadata": {
        "id": "A9tur9hDN48y",
        "colab_type": "code",
        "outputId": "1fa88473-24cf-4150-ab54-a51cc6171c4f",
        "colab": {
          "base_uri": "https://localhost:8080/",
          "height": 912
        }
      },
      "source": [
        "!g.extension extension=r.viewshed url=/content/grass/raster/r.viewshed"
      ],
      "execution_count": 0,
      "outputs": [
        {
          "output_type": "stream",
          "text": [
            "Fetching <r.viewshed> from </content/grass/raster/r.viewshed> (be\n",
            "patient)...\n",
            "Compiling...\n",
            "In file included from \u001b[01m\u001b[K/usr/lib/grass78/include/grass/iostream/ami.h:44:0\u001b[m\u001b[K,\n",
            "                 from \u001b[01m\u001b[Kdistribute.cpp:52\u001b[m\u001b[K:\n",
            "\u001b[01m\u001b[K/usr/lib/grass78/include/grass/iostream/ami_stream.h:\u001b[m\u001b[K In member function ‘\u001b[01m\u001b[Kchar* AMI_STREAM<T>::sprint() [with T = event_]\u001b[m\u001b[K’:\n",
            "\u001b[01m\u001b[K/usr/lib/grass78/include/grass/iostream/ami_stream.h:671:7:\u001b[m\u001b[K \u001b[01;35m\u001b[Kwarning: \u001b[m\u001b[K‘\u001b[01m\u001b[K%s\u001b[m\u001b[K’ directive writing up to 8191 bytes into a region of size 8180 [\u001b[01;35m\u001b[K-Wformat-overflow=\u001b[m\u001b[K]\n",
            " char *\u001b[01;35m\u001b[KAMI_STREAM<T>\u001b[m\u001b[K::sprint()  {\n",
            "       \u001b[01;35m\u001b[K^~~~~~~~~~~~~\u001b[m\u001b[K\n",
            "In file included from \u001b[01m\u001b[K/usr/include/stdio.h:862:0\u001b[m\u001b[K,\n",
            "                 from \u001b[01m\u001b[Kdistribute.cpp:41\u001b[m\u001b[K:\n",
            "\u001b[01m\u001b[K/usr/include/x86_64-linux-gnu/bits/stdio2.h:34:43:\u001b[m\u001b[K \u001b[01;36m\u001b[Knote: \u001b[m\u001b[K‘\u001b[01m\u001b[K__builtin___sprintf_chk\u001b[m\u001b[K’ output between 16 and 8226 bytes into a destination of size 8192\n",
            "       __bos (__s), __fmt, __va_arg_pack ()\u001b[01;36m\u001b[K)\u001b[m\u001b[K;\n",
            "                                           \u001b[01;36m\u001b[K^\u001b[m\u001b[K\n",
            "\u001b[01m\u001b[Kmain.cpp:\u001b[m\u001b[K In function ‘\u001b[01m\u001b[Kint main(int, char**)\u001b[m\u001b[K’:\n",
            "\u001b[01m\u001b[Kmain.cpp:183:74:\u001b[m\u001b[K \u001b[01;35m\u001b[Kwarning: \u001b[m\u001b[Kformat ‘\u001b[01m\u001b[K%d\u001b[m\u001b[K’ expects argument of type ‘\u001b[01m\u001b[Kint\u001b[m\u001b[K’, but argument 2 has type ‘\u001b[01m\u001b[Kdouble\u001b[m\u001b[K’ [\u001b[01;35m\u001b[K-Wformat=\u001b[m\u001b[K]\n",
            "      \u001b[32m\u001b[Khd->window.north\u001b[m\u001b[K, hd->window.south, hd->window.east, hd->window.west\u001b[01;35m\u001b[K)\u001b[m\u001b[K;\n",
            "      \u001b[32m\u001b[K~~~~~~~~~~~~~~~~\u001b[m\u001b[K                                                    \u001b[01;35m\u001b[K^\u001b[m\u001b[K\n",
            "\u001b[01m\u001b[Kmain.cpp:183:74:\u001b[m\u001b[K \u001b[01;35m\u001b[Kwarning: \u001b[m\u001b[Kformat ‘\u001b[01m\u001b[K%d\u001b[m\u001b[K’ expects argument of type ‘\u001b[01m\u001b[Kint\u001b[m\u001b[K’, but argument 3 has type ‘\u001b[01m\u001b[Kdouble\u001b[m\u001b[K’ [\u001b[01;35m\u001b[K-Wformat=\u001b[m\u001b[K]\n",
            "\u001b[01m\u001b[Kmain.cpp:183:74:\u001b[m\u001b[K \u001b[01;35m\u001b[Kwarning: \u001b[m\u001b[Kformat ‘\u001b[01m\u001b[K%d\u001b[m\u001b[K’ expects argument of type ‘\u001b[01m\u001b[Kint\u001b[m\u001b[K’, but argument 4 has type ‘\u001b[01m\u001b[Kdouble\u001b[m\u001b[K’ [\u001b[01;35m\u001b[K-Wformat=\u001b[m\u001b[K]\n",
            "\u001b[01m\u001b[Kmain.cpp:183:74:\u001b[m\u001b[K \u001b[01;35m\u001b[Kwarning: \u001b[m\u001b[Kformat ‘\u001b[01m\u001b[K%d\u001b[m\u001b[K’ expects argument of type ‘\u001b[01m\u001b[Kint\u001b[m\u001b[K’, but argument 5 has type ‘\u001b[01m\u001b[Kdouble\u001b[m\u001b[K’ [\u001b[01;35m\u001b[K-Wformat=\u001b[m\u001b[K]\n",
            "\u001b[01m\u001b[Kmain.cpp:\u001b[m\u001b[K In function ‘\u001b[01m\u001b[Kvoid parse_args(int, char**, int*, int*, ViewOptions*, long long int*, Cell_head*)\u001b[m\u001b[K’:\n",
            "\u001b[01m\u001b[Kmain.cpp:504:26:\u001b[m\u001b[K \u001b[01;35m\u001b[Kwarning: \u001b[m\u001b[KISO C++ forbids converting a string constant to ‘\u001b[01m\u001b[Kchar*\u001b[m\u001b[K’ [\u001b[01;35m\u001b[K-Wwrite-strings\u001b[m\u001b[K]\n",
            "     obsElevOpt->answer = \u001b[01;35m\u001b[K\"1.75\"\u001b[m\u001b[K;\n",
            "                          \u001b[01;35m\u001b[K^~~~~~\u001b[m\u001b[K\n",
            "\u001b[01m\u001b[Kmain.cpp:516:26:\u001b[m\u001b[K \u001b[01;35m\u001b[Kwarning: \u001b[m\u001b[KISO C++ forbids converting a string constant to ‘\u001b[01m\u001b[Kchar*\u001b[m\u001b[K’ [\u001b[01;35m\u001b[K-Wwrite-strings\u001b[m\u001b[K]\n",
            "     tgtElevOpt->answer = \u001b[01;35m\u001b[K\"0.0\"\u001b[m\u001b[K;\n",
            "                          \u001b[01;35m\u001b[K^~~~~\u001b[m\u001b[K\n",
            "\u001b[01m\u001b[Kmain.cpp:572:28:\u001b[m\u001b[K \u001b[01;35m\u001b[Kwarning: \u001b[m\u001b[KISO C++ forbids converting a string constant to ‘\u001b[01m\u001b[Kchar*\u001b[m\u001b[K’ [\u001b[01;35m\u001b[K-Wwrite-strings\u001b[m\u001b[K]\n",
            "     refrCoeffOpt->answer = \u001b[01;35m\u001b[K\"0.14286\"\u001b[m\u001b[K;\n",
            "                            \u001b[01;35m\u001b[K^~~~~~~~~\u001b[m\u001b[K\n",
            "\u001b[01m\u001b[Kmain.cpp:586:28:\u001b[m\u001b[K \u001b[01;35m\u001b[Kwarning: \u001b[m\u001b[KISO C++ forbids converting a string constant to ‘\u001b[01m\u001b[Kchar*\u001b[m\u001b[K’ [\u001b[01;35m\u001b[K-Wwrite-strings\u001b[m\u001b[K]\n",
            "     memAmountOpt->answer = \u001b[01;35m\u001b[K\"500\"\u001b[m\u001b[K;\n",
            "                            \u001b[01;35m\u001b[K^~~~~\u001b[m\u001b[K\n",
            "\u001b[01m\u001b[Kmain.cpp:\u001b[m\u001b[K In function ‘\u001b[01m\u001b[Kint main(int, char**)\u001b[m\u001b[K’:\n",
            "\u001b[01m\u001b[Kmain.cpp:104:5:\u001b[m\u001b[K \u001b[01;35m\u001b[Kwarning: \u001b[m\u001b[K‘\u001b[01m\u001b[K%s\u001b[m\u001b[K’ directive writing up to 4095 bytes into a region of size 989 [\u001b[01;35m\u001b[K-Wformat-overflow=\u001b[m\u001b[K]\n",
            " int \u001b[01;35m\u001b[Kmain\u001b[m\u001b[K(int argc, char *argv[])\n",
            "     \u001b[01;35m\u001b[K^~~~\u001b[m\u001b[K\n",
            "In file included from \u001b[01m\u001b[K/usr/include/stdio.h:862:0\u001b[m\u001b[K,\n",
            "                 from \u001b[01m\u001b[Kmain.cpp:39\u001b[m\u001b[K:\n",
            "\u001b[01m\u001b[K/usr/include/x86_64-linux-gnu/bits/stdio2.h:34:43:\u001b[m\u001b[K \u001b[01;36m\u001b[Knote: \u001b[m\u001b[K‘\u001b[01m\u001b[K__builtin___sprintf_chk\u001b[m\u001b[K’ output between 12 and 4107 bytes into a destination of size 1000\n",
            "       __bos (__s), __fmt, __va_arg_pack ()\u001b[01;36m\u001b[K)\u001b[m\u001b[K;\n",
            "                                           \u001b[01;36m\u001b[K^\u001b[m\u001b[K\n",
            "\u001b[01m\u001b[Kviewshed.cpp:\u001b[m\u001b[K In function ‘\u001b[01m\u001b[KAEvent* allocate_eventlist(GridHeader*)\u001b[m\u001b[K’:\n",
            "\u001b[01m\u001b[Kviewshed.cpp:154:66:\u001b[m\u001b[K \u001b[01;35m\u001b[Kwarning: \u001b[m\u001b[Kinteger overflow in expression [\u001b[01;35m\u001b[K-Woverflow\u001b[m\u001b[K]\n",
            "  long long maxsizet = \u001b[01;35m\u001b[K((long long)1 << (sizeof(size_t) * 8 - 1)) - 1\u001b[m\u001b[K;\n",
            "                       \u001b[01;35m\u001b[K~~~~~~~~~~~~~~~~~~~~~~~~~~~~~~~~~~~~~~~~~~~^~~\u001b[m\u001b[K\n",
            "Installing...\n",
            "Updating private addons metadata file...\n",
            "Installation of <r.viewshed> successfully finished\n"
          ],
          "name": "stdout"
        }
      ]
    },
    {
      "cell_type": "code",
      "metadata": {
        "id": "XUQKJe4EN6Bq",
        "colab_type": "code",
        "colab": {}
      },
      "source": [
        "os.environ[\"PATH\"] = \"/root/.grass7/addons/bin\" + os.pathsep + os.environ[\"PATH\"]"
      ],
      "execution_count": 0,
      "outputs": []
    },
    {
      "cell_type": "code",
      "metadata": {
        "id": "73sGpoMZo1v1",
        "colab_type": "code",
        "outputId": "7f5a1de7-9e83-4499-d065-d8f130afc161",
        "colab": {
          "base_uri": "https://localhost:8080/",
          "height": 35
        }
      },
      "source": [
        "!which r.viewshed"
      ],
      "execution_count": 0,
      "outputs": [
        {
          "output_type": "stream",
          "text": [
            "/usr/lib/grass78/bin/r.viewshed\n"
          ],
          "name": "stdout"
        }
      ]
    },
    {
      "cell_type": "markdown",
      "metadata": {
        "colab_type": "text",
        "id": "Qgy56fCTrx0L"
      },
      "source": [
        "# Analyses"
      ]
    },
    {
      "cell_type": "code",
      "metadata": {
        "colab_type": "code",
        "id": "gd8x-GOxr1u6",
        "outputId": "11a80e59-a373-41c6-b052-daaa4f2b1543",
        "colab": {
          "base_uri": "https://localhost:8080/",
          "height": 105
        }
      },
      "source": [
        "# import data with selected attributes in EPSG (amersf) location\n",
        "gs.run_command('v.in.ascii', flags='z', input='/content/chips_all.txt', out='chips_cyclists', separator='|', skip=1, x=14, y=15, z=6, cat=0, columns=\"participant integer, time double precision, conductance double precision, conductance_z double precision, phasic double precision, phasic_z double precision, tonic double precision, tonic_z double precision, altitude double precision, distance double precision, speed double precision, speed2 double precision, power double precision, lon double precision, lat double precision\" )\n",
        "# check on cyclists stored vector data\n",
        "gs.parse_command('g.list', type=\"raster\", flags=\"p\")"
      ],
      "execution_count": 0,
      "outputs": [
        {
          "output_type": "execute_result",
          "data": {
            "text/plain": [
              "{'': None,\n",
              " '----------------------------------------------': None,\n",
              " 'chips_area_dem      chips_landuse       cycling_track_dir2': None,\n",
              " 'chips_area_ortho    cycling_track_dir': None,\n",
              " 'raster files available in mapset <PERMANENT>:': None}"
            ]
          },
          "metadata": {
            "tags": []
          },
          "execution_count": 35
        }
      ]
    },
    {
      "cell_type": "markdown",
      "metadata": {
        "colab_type": "text",
        "id": "9k6luw1l6xAJ"
      },
      "source": [
        "## Distance to Roads\n",
        "Since our analyses are interested in any potential dependence between distance from environmental features and associated skin conductance values, we used  [v.distance]<sup>[2](https://grass.osgeo.org/grass79/manuals/v.distance.html)</sup>, a [GRASS GIS]<sup>[3](https://grass.osgeo.org/)</sup> module to map the distances between each cyclist’s locational point and the closest roads. These are then stored for later statistical analyses to determine possible relationships between how far away cyclists were from roads and observed levels of emotional arousal.\n",
        "\n",
        "> **Note**: Vector modules typically don't follow computational region, but we set it to inform display modules about our area of interest."
      ]
    },
    {
      "cell_type": "code",
      "metadata": {
        "colab_type": "code",
        "id": "a66nsEAuPV4F",
        "outputId": "6d852f1a-1728-424b-bf3d-7234ba1955ed",
        "colab": {
          "base_uri": "https://localhost:8080/",
          "height": 35
        }
      },
      "source": [
        "gs.parse_command('g.region', n=413730.54450704, s=394620.68549296, w=129168.57323866, e=136079.49676134, nsres=0.99999262, ewres=0.99998893)\n",
        "# Set resolution (matching DSM res)\n",
        "gs.run_command('g.region', res=0.5)\n",
        "# adding necessary columns for resulting output of v.distance [dist_to,lc_type]\n",
        "gs.run_command('v.db.addcolumn', map='chips_cyclists', columns=\"dist_to double precision,lc_type varchar\")\n",
        "# same for roads [dist_to_road,road_type]\n",
        "gs.run_command('v.db.addcolumn', map='chips_cyclists', columns=\"dist_to_road double precision,road_type varchar\")"
      ],
      "execution_count": 0,
      "outputs": [
        {
          "output_type": "execute_result",
          "data": {
            "text/plain": [
              "0"
            ]
          },
          "metadata": {
            "tags": []
          },
          "execution_count": 36
        }
      ]
    },
    {
      "cell_type": "code",
      "metadata": {
        "id": "mAR9ntN_QYV2",
        "colab_type": "code",
        "outputId": "8b07b748-7225-4676-bb33-53405ad4af78",
        "colab": {
          "base_uri": "https://localhost:8080/",
          "height": 212
        }
      },
      "source": [
        "# find distance from cyclist locations to each specific road type, uploading min distance and road type (large classes: small, med, large)\n",
        "gs.run_command('v.distance', from_='chips_cyclists@PERMANENT', to='roads_polys', to_type='line,area', upload='dist,to_attr', column='dist_to_road,road_type', to_column='class')\n",
        "# check attribute table was correctly updated\n",
        "print(gs.read_command('db.select', table='chips_cyclists', sql='SELECT * FROM chips_cyclists WHERE cat > 1 AND cat < 10'))"
      ],
      "execution_count": 0,
      "outputs": [
        {
          "output_type": "stream",
          "text": [
            "cat|participant|time|conductance|conductance_z|phasic|phasic_z|tonic|tonic_z|altitude|distance|speed|speed2|power|lon|lat|dist_to|lc_type|dist_to_road|road_type\n",
            "2|1|180.25|0.788807|-1.302670351|0.006511054|0.001278188|0.782295946|-1.303948539|3|441.5|0|0|14.16505379|131486.74|411450.89900001|||0.922994758441415|small_roads\n",
            "3|1|180.5|0.788295|-1.302754078|0.005218455|0.001066341|0.783076545|-1.30382042|3|441.5|0|0|14.16505379|131486.74|411450.89900001|||0.922994758441415|small_roads\n",
            "4|1|180.75|0.787783|-1.302837806|0.003928341|0.000858307|0.783854659|-1.303696113|3|441.5|0|0|14.16505379|131486.74|411450.89900001|||0.922994758441415|small_roads\n",
            "5|1|181|0.787271|-1.302921534|0.00263578|0.000653847|0.78463522|-1.303575381|3|441.5|0|0|14.16505379|131486.74|411450.89900001|||0.922994758441415|small_roads\n",
            "6|1|181.25|0.786759|-1.303005261|0.00133663|0.000452663|0.78542237|-1.303457924|3|441.5|0|0|14.16505379|131486.74|411450.89900001|||0.922994758441415|small_roads\n",
            "7|1|181.5|0.83105|-1.295762328|0.044830881|0.0075811|0.786219119|-1.303343429|3|441.5|0|0|14.16505379|131486.74|411450.89900001|||0.922994758441415|small_roads\n",
            "8|1|181.75|0.854092|-1.291994257|0.067064654|0.011237331|0.787027346|-1.303231588|3|441.5|0|0|14.16505379|131486.74|411450.89900001|||0.922994758441415|small_roads\n",
            "9|1|182|0.841291|-1.294087612|0.05344306|0.009034507|0.78784794|-1.303122119|3|441.5|0|0|14.16505379|131486.74|411450.89900001|||0.922994758441415|small_roads\n",
            "\n"
          ],
          "name": "stdout"
        }
      ]
    },
    {
      "cell_type": "markdown",
      "metadata": {
        "colab_type": "text",
        "id": "TB4_hakk5Zqi"
      },
      "source": [
        "## Viewshed Analysis\n"
      ]
    },
    {
      "cell_type": "markdown",
      "metadata": {
        "colab_type": "text",
        "id": "ZXOInhWPF6Bi"
      },
      "source": [
        "To initiate the viewshed analytical process, 1739 viewpoints are evenly generated along the cycling highway at 20 m intervals.\n",
        "\n",
        "This is straightforward to accomplish with GRASS, with use of the v.to.points<sup>[1](https://grass.osgeo.org/grass78/manuals/v.to.points.html)</sup> module. This module creates points along input 2D or 3D lines, boundaries, and faces. Point features including centroids and kernels are copied from input vector map to the output. The `dmax` parameter is of specific interest here, as it is used to set the maximum limit in distance between generated points. "
      ]
    },
    {
      "cell_type": "code",
      "metadata": {
        "colab_type": "code",
        "id": "eWzvqMd8F144",
        "outputId": "c08c895e-8531-490e-9110-208f81f2befd",
        "colab": {
          "base_uri": "https://localhost:8080/",
          "height": 105
        }
      },
      "source": [
        "gs.parse_command('g.list', type=\"vector\", flags=\"p\")"
      ],
      "execution_count": 0,
      "outputs": [
        {
          "output_type": "execute_result",
          "data": {
            "text/plain": [
              "{'': None,\n",
              " '----------------------------------------------': None,\n",
              " 'chips_cyclists  view_line       viewpoints_20m': None,\n",
              " 'roads_polys     viewpoints_100m viewpoints_50m': None,\n",
              " 'vector files available in mapset <PERMANENT>:': None}"
            ]
          },
          "metadata": {
            "tags": []
          },
          "execution_count": 38
        }
      ]
    },
    {
      "cell_type": "code",
      "metadata": {
        "id": "4U8DdLj-A6zb",
        "colab_type": "code",
        "outputId": "a92d44d7-d714-4323-fa83-fff1913a2624",
        "colab": {
          "base_uri": "https://localhost:8080/",
          "height": 490
        }
      },
      "source": [
        "gs.run_command('v.to.points', input='view_line', type='point,line,boundary,centroid,area,face,kernel', output='viewpoints_20m', dmax=20)\n",
        "gs.parse_command('v.info', map=\"viewpoints_20m\")"
      ],
      "execution_count": 0,
      "outputs": [
        {
          "output_type": "execute_result",
          "data": {
            "text/plain": [
              "{'': None,\n",
              " '+----------------------------------------------------------------------------+': None,\n",
              " '|                                                                            |': None,\n",
              " '|               E:       133295.0618    W:       131392.9562                 |': None,\n",
              " '|               N:   411714.06243603    S:   397060.29769787                 |': None,\n",
              " '|     Imported with v.in.mapgen                                              |': None,\n",
              " '|   Comment:                                                                 |': None,\n",
              " '|   Digitization threshold: 0                                                |': None,\n",
              " '|   Map is 3D:              No                                               |': None,\n",
              " '|   Number of areas:        0               Number of islands:    0          |': None,\n",
              " '|   Number of dblinks:      1                                                |': None,\n",
              " '|   Number of lines:        0               Number of boundaries: 0          |': None,\n",
              " '|   Number of points:       870             Number of centroids:  0          |': None,\n",
              " '|   Projection: Amersfoort / RD New                                          |': None,\n",
              " '|   Type of map: vector (level: 2)                                           |': None,\n",
              " '| Database:        /root/grassdata                                           |': None,\n",
              " '| Location:        CEUS                                                      |': None,\n",
              " '| Map format:      native                                                    |': None,\n",
              " '| Map scale:       1:1                                                       |': None,\n",
              " '| Mapset:          PERMANENT                                                 |': None,\n",
              " '| Name of creator: gcmillar@GIS-LAB-41                                       |': None,\n",
              " '| Name:            viewpoints_20m                                            |': None,\n",
              " '| Organization:    GRASSroots organization                                   |': None,\n",
              " '| Source date:     2019                                                      |': None,\n",
              " '| Timestamp (first layer): none                                              |': None,\n",
              " '| Title:           view_line                                                 |': None,\n",
              " '|----------------------------------------------------------------------------|': None}"
            ]
          },
          "metadata": {
            "tags": []
          },
          "execution_count": 39
        }
      ]
    },
    {
      "cell_type": "code",
      "metadata": {
        "id": "JFYN1r3eca7r",
        "colab_type": "code",
        "outputId": "d14c3822-0678-4922-9987-2741abf21a53",
        "colab": {
          "base_uri": "https://localhost:8080/",
          "height": 105
        }
      },
      "source": [
        "gs.parse_command('g.list', type=\"vector\", flags=\"p\")"
      ],
      "execution_count": 0,
      "outputs": [
        {
          "output_type": "execute_result",
          "data": {
            "text/plain": [
              "{'': None,\n",
              " '----------------------------------------------': None,\n",
              " 'chips_cyclists  view_line       viewpoints_20m': None,\n",
              " 'roads_polys     viewpoints_100m viewpoints_50m': None,\n",
              " 'vector files available in mapset <PERMANENT>:': None}"
            ]
          },
          "metadata": {
            "tags": []
          },
          "execution_count": 40
        }
      ]
    },
    {
      "cell_type": "code",
      "metadata": {
        "id": "R4xKy37sBLze",
        "colab_type": "code",
        "outputId": "2ca1ce0b-fff7-4af0-af08-d709126ad3bb",
        "colab": {
          "base_uri": "https://localhost:8080/",
          "height": 105
        }
      },
      "source": [
        "gs.parse_command('g.list', type=\"raster\", flags=\"p\")"
      ],
      "execution_count": 0,
      "outputs": [
        {
          "output_type": "execute_result",
          "data": {
            "text/plain": [
              "{'': None,\n",
              " '----------------------------------------------': None,\n",
              " 'chips_area_dem      chips_landuse       cycling_track_dir2': None,\n",
              " 'chips_area_ortho    cycling_track_dir': None,\n",
              " 'raster files available in mapset <PERMANENT>:': None}"
            ]
          },
          "metadata": {
            "tags": []
          },
          "execution_count": 41
        }
      ]
    },
    {
      "cell_type": "markdown",
      "metadata": {
        "id": "kmc4bh0JCi5v",
        "colab_type": "text"
      },
      "source": [
        "   ___"
      ]
    },
    {
      "cell_type": "markdown",
      "metadata": {
        "colab_type": "text",
        "id": "JSIi-rm0FkI8"
      },
      "source": [
        "### Parallelization in Python\n",
        "\n",
        "\n",
        "Python parallelization script (used to generate viewsheds and zonal statistics on visible land cover classes).\n",
        "\n",
        "***At this time, a solution is still being worked on for running the Python parallelization script (used to generate viewsheds and zonal statistics on visible land cover classes) in a Jupyter Notebook. For the time being, the full Python script is included below, while the following section reads in the .txt output as generated from the successfully-run script below:***"
      ]
    },
    {
      "cell_type": "code",
      "metadata": {
        "id": "28eMf1K8cunT",
        "colab_type": "code",
        "colab": {}
      },
      "source": [
        "#!/usr/bin/env python3\n",
        "\n",
        "#%module\n",
        "#% description: Viewshed for CHIPS project\n",
        "#% keyword: vector\n",
        "#% keyword: geometry\n",
        "#%end\n",
        "\n",
        "#%option G_OPT_M_COORDS\n",
        "#% key: coordinates\n",
        "#%end\n",
        "\n",
        "#%option\n",
        "#% key: view_id\n",
        "#% type: integer\n",
        "#% required: no\n",
        "#% multiple: no\n",
        "#% key_desc: value\n",
        "#% description: View id\n",
        "#%end\n",
        "\n",
        "#%option\n",
        "#% key: direction\n",
        "#% type: double\n",
        "#% required: no\n",
        "#% multiple: no\n",
        "#% key_desc: value\n",
        "#% description: Direction\n",
        "#%end\n",
        "\n",
        "#%option G_OPT_F_OUTPUT\n",
        "#% key: output\n",
        "#%end\n",
        "\n",
        "import os\n",
        "import grass.script as gscript\n",
        "\n",
        "\n",
        "def compute_direction(main_direction):\n",
        "    half_angle = 90\n",
        "    mina = main_direction - half_angle\n",
        "    maxa = main_direction + half_angle\n",
        "    if maxa > 360:\n",
        "        maxa -= 360\n",
        "    if mina < 0:\n",
        "        mina += 360\n",
        "    return mina, maxa\n",
        "\n",
        "\n",
        "def main(elevation, coords, output, pid, direction, sample):\n",
        "    limit = 1000\n",
        "    name = 'viewshed'\n",
        "    gscript.run_command('g.region', raster=elevation)\n",
        "    gscript.run_command('g.region', n=coords[1] + limit, s=coords[1] - limit,\n",
        "                            e=coords[0] + limit, w=coords[0] - limit, align=elevation)\n",
        "    region = gscript.region()\n",
        "    mina, maxa = compute_direction(direction)\n",
        "    gscript.run_command('r.viewshed', input=elevation, output=name,\n",
        "                        coordinates=coords, observer_elevation=1.75,# target_elevation=3,\n",
        "                        max_distance=limit, direction_range=[mina, maxa],\n",
        "                        memory=65000, overwrite=True, quiet=True)\n",
        "    \n",
        "    # area\n",
        "    cells = gscript.parse_command('r.univar', map=name, flags='g', quiet=True)['n']\n",
        "    res = region['nsres']\n",
        "    area = float(cells) * res * res\n",
        "    # ndvi\n",
        "    results = []\n",
        "    # non_null_cells|null_cells|min|max|range|mean|mean_of_abs|stddev|variance|coeff_var|sum|sum_abs\n",
        "    for each in sample:\n",
        "        results.append(gscript.read_command('r.univar', map=name, zones=each, quiet=True, flags='t', separator='comma').strip().splitlines()[1:])\n",
        "\n",
        "    with open(output, 'w') as f:\n",
        "#        f.write(\"id,view_area,z1,z2,z3,z4\\n\")\n",
        "        if pid:\n",
        "            f.write(\"%s,%.4f,%.4f,%.4f\" % (pid, coords[0], coords[1], area))\n",
        "        else:\n",
        "            f.write(\"%.4f,%.4f,%.4f\" % (coords[0], coords[1], area))\n",
        "        for each in results:\n",
        "            zones = {}\n",
        "            for line in each:\n",
        "                zone, label, non_null_cells, null_cells, minim, maxim, range_, mean, mean_of_abs, stddev, variance, coeff_var,  sum_, sum_abs = line.split(',')\n",
        "                zones[int(zone)] = int(non_null_cells)\n",
        "            for zone in range(1, 8):\n",
        "                if zone in zones:\n",
        "                    area = zones[zone] * res * res\n",
        "                    f.write(\",%.0f\" % area)\n",
        "                else:\n",
        "                    f.write(\",0\")\n",
        "        f.write(\"\\n\")\n",
        "    #gscript.run_command('g.remove', type='raster', name=[name], flags='f', quiet=True)\n",
        "\n",
        "\n",
        "if __name__ == '__main__':\n",
        "    options, flags = gscript.parser()\n",
        "    pid = options['view_id']\n",
        "    if not pid:\n",
        "        pid = None\n",
        "    coords = options['coordinates'].split(',')\n",
        "    direction = [float(i) for i in options['direction']]\n",
        "    type(direction)\n",
        "    # coords= 'cycle_track_viewpoints'\n",
        "    main(elevation='chips_area_dem',\n",
        "         coords=(float(coords[0]), float(coords[1])),\n",
        "         output=options['output'],\n",
        "         pid = pid,\n",
        "         direction=direction,\n",
        "         sample=['chips_landuse'])\n",
        "\n"
      ],
      "execution_count": 0,
      "outputs": []
    },
    {
      "cell_type": "code",
      "metadata": {
        "id": "j-SXyNn5HRle",
        "colab_type": "code",
        "outputId": "442d4aa7-a6b3-4daf-c600-da0ed84c0be5",
        "colab": {
          "base_uri": "https://localhost:8080/",
          "height": 280
        }
      },
      "source": [
        "import os\n",
        "!wget /content/ \"https://raw.githubusercontent.com/gcmillar/CEUS/master/single_viewshed.py\"\n",
        "filepath=\"/content/\""
      ],
      "execution_count": 0,
      "outputs": [
        {
          "output_type": "stream",
          "text": [
            "/content/: Scheme missing.\n",
            "--2020-02-18 20:48:44--  https://raw.githubusercontent.com/gcmillar/CEUS/master/single_viewshed.py\n",
            "Resolving raw.githubusercontent.com (raw.githubusercontent.com)... 151.101.0.133, 151.101.64.133, 151.101.128.133, ...\n",
            "Connecting to raw.githubusercontent.com (raw.githubusercontent.com)|151.101.0.133|:443... connected.\n",
            "HTTP request sent, awaiting response... 200 OK\n",
            "Length: 3269 (3.2K) [text/plain]\n",
            "Saving to: ‘single_viewshed.py’\n",
            "\n",
            "\rsingle_viewshed.py    0%[                    ]       0  --.-KB/s               \rsingle_viewshed.py  100%[===================>]   3.19K  --.-KB/s    in 0s      \n",
            "\n",
            "2020-02-18 20:48:44 (90.5 MB/s) - ‘single_viewshed.py’ saved [3269/3269]\n",
            "\n",
            "FINISHED --2020-02-18 20:48:44--\n",
            "Total wall clock time: 0.4s\n",
            "Downloaded: 1 files, 3.2K in 0s (90.5 MB/s)\n"
          ],
          "name": "stdout"
        }
      ]
    },
    {
      "cell_type": "code",
      "metadata": {
        "id": "SczvCW_tEvnp",
        "colab_type": "code",
        "outputId": "f2571966-5e69-4f5b-db3d-12252771527c",
        "colab": {
          "base_uri": "https://localhost:8080/",
          "height": 35
        }
      },
      "source": [
        "os.chdir(filepath)\n",
        "!python3 single_viewshed_test.py coordinates='132974.298831, 402771.310804' view_id=1 output=test"
      ],
      "execution_count": 0,
      "outputs": [
        {
          "output_type": "stream",
          "text": [
            "python3: can't open file 'single_viewshed_test.py': [Errno 2] No such file or directory\n"
          ],
          "name": "stdout"
        }
      ]
    },
    {
      "cell_type": "markdown",
      "metadata": {
        "colab_type": "text",
        "id": "T-fBJIJEDiuU"
      },
      "source": [
        "## Viewshed Results\n"
      ]
    },
    {
      "cell_type": "code",
      "metadata": {
        "colab_type": "code",
        "id": "-2NrqhCPDNVE",
        "colab": {}
      },
      "source": [
        "%%capture\n",
        "# Download & import viewshed result data\n",
        "!wget /content/ \"https://raw.githubusercontent.com/gcmillar/CEUS/master/speedinterp_views_dir1_shf.csv\"\n",
        "!wget /content/ \"https://raw.githubusercontent.com/gcmillar/CEUS/master/speedinterp_views_dir2_shf.csv\""
      ],
      "execution_count": 0,
      "outputs": []
    },
    {
      "cell_type": "markdown",
      "metadata": {
        "colab_type": "text",
        "id": "pj824N1dF9Be"
      },
      "source": [
        "Now, the results outputted from the parallelization viewshed script need to be associated with the original cycling data. To do so, the v.distance module is run for all viewpoint ranges, to obtain a column that describes the nearest viewpoint at each location point."
      ]
    },
    {
      "cell_type": "code",
      "metadata": {
        "colab_type": "code",
        "id": "_RYuW2rnF-JJ",
        "outputId": "e4dc4a18-d344-4368-aa45-240a50ea4780",
        "colab": {
          "base_uri": "https://localhost:8080/",
          "height": 35
        }
      },
      "source": [
        "# gs.run_command('v.db.addtable', map='viewpoints_20m', layer=2)\n",
        "gs.run_command('v.db.addcolumn', layer=2, map='viewpoints_20m', columns=\"viewpoint_id_20m double precision\")\n",
        "gs.run_command('v.db.addcolumn', map='chips_cyclists', columns=\"viewpoint_id_20m double precision\")"
      ],
      "execution_count": 0,
      "outputs": [
        {
          "output_type": "execute_result",
          "data": {
            "text/plain": [
              "0"
            ]
          },
          "metadata": {
            "tags": []
          },
          "execution_count": 45
        }
      ]
    },
    {
      "cell_type": "code",
      "metadata": {
        "id": "_vdb0ftInKTL",
        "colab_type": "code",
        "outputId": "70e9a28c-aa26-40f4-f9d1-d1216ad1bd59",
        "colab": {
          "base_uri": "https://localhost:8080/",
          "height": 212
        }
      },
      "source": [
        "gs.run_command('v.distance', from_='chips_cyclists', from_type='point', to='viewpoints_20m', to_type='point', to_layer=2, upload='cat', column='viewpoint_id_20m', to_column='cat')\n",
        "print(gs.read_command('db.select', table='chips_cyclists', sql='SELECT * FROM chips_cyclists WHERE cat > 1 AND cat < 10'))\n",
        "# gs.parse_command('db.columns', table=\"viewpoints_20m\", database='/root/grassdata')"
      ],
      "execution_count": 0,
      "outputs": [
        {
          "output_type": "stream",
          "text": [
            "cat|participant|time|conductance|conductance_z|phasic|phasic_z|tonic|tonic_z|altitude|distance|speed|speed2|power|lon|lat|dist_to|lc_type|dist_to_road|road_type|viewpoint_id_20m\n",
            "2|1|180.25|0.788807|-1.302670351|0.006511054|0.001278188|0.782295946|-1.303948539|3|441.5|0|0|14.16505379|131486.74|411450.89900001|||0.922994758441415|small_roads|27\n",
            "3|1|180.5|0.788295|-1.302754078|0.005218455|0.001066341|0.783076545|-1.30382042|3|441.5|0|0|14.16505379|131486.74|411450.89900001|||0.922994758441415|small_roads|27\n",
            "4|1|180.75|0.787783|-1.302837806|0.003928341|0.000858307|0.783854659|-1.303696113|3|441.5|0|0|14.16505379|131486.74|411450.89900001|||0.922994758441415|small_roads|27\n",
            "5|1|181|0.787271|-1.302921534|0.00263578|0.000653847|0.78463522|-1.303575381|3|441.5|0|0|14.16505379|131486.74|411450.89900001|||0.922994758441415|small_roads|27\n",
            "6|1|181.25|0.786759|-1.303005261|0.00133663|0.000452663|0.78542237|-1.303457924|3|441.5|0|0|14.16505379|131486.74|411450.89900001|||0.922994758441415|small_roads|27\n",
            "7|1|181.5|0.83105|-1.295762328|0.044830881|0.0075811|0.786219119|-1.303343429|3|441.5|0|0|14.16505379|131486.74|411450.89900001|||0.922994758441415|small_roads|27\n",
            "8|1|181.75|0.854092|-1.291994257|0.067064654|0.011237331|0.787027346|-1.303231588|3|441.5|0|0|14.16505379|131486.74|411450.89900001|||0.922994758441415|small_roads|27\n",
            "9|1|182|0.841291|-1.294087612|0.05344306|0.009034507|0.78784794|-1.303122119|3|441.5|0|0|14.16505379|131486.74|411450.89900001|||0.922994758441415|small_roads|27\n",
            "\n"
          ],
          "name": "stdout"
        }
      ]
    },
    {
      "cell_type": "markdown",
      "metadata": {
        "colab_type": "text",
        "id": "KfINmNCEZGw8"
      },
      "source": [
        "## Final Export of Data\n",
        "> **NOTE**: <img src=\"https://raw.githubusercontent.com/gcmillar/CEUS/master/img/wait_time.png\" alt=\"runbutton\" width=\"25\" height=\"25\">\n"
      ]
    },
    {
      "cell_type": "code",
      "metadata": {
        "colab_type": "code",
        "id": "I_n9dIO9YgEA",
        "outputId": "a3c6344a-9531-4d22-d746-bc4548bc9cb9",
        "colab": {
          "base_uri": "https://localhost:8080/",
          "height": 35
        }
      },
      "source": [
        "gs.run_command('v.out.ascii', flags='c', separator=\",\", input='chips_cyclists', output='/content/CEUS_data.csv', columns='cat,participant,time,conductance,conductance_z,phasic,phasic_z,tonic,tonic_z,altitude,distance,speed,speed2,power,lon,lat,dist_to,lc_type,dist_to_road,road_type,viewpoint_id_20m')"
      ],
      "execution_count": 0,
      "outputs": [
        {
          "output_type": "execute_result",
          "data": {
            "text/plain": [
              "0"
            ]
          },
          "metadata": {
            "tags": []
          },
          "execution_count": 76
        }
      ]
    },
    {
      "cell_type": "markdown",
      "metadata": {
        "colab_type": "text",
        "id": "UEOfNFaqG1WM"
      },
      "source": [
        "## Statistical Modeling"
      ]
    },
    {
      "cell_type": "markdown",
      "metadata": {
        "colab_type": "text",
        "id": "F5H5bHbDGEJF"
      },
      "source": [
        "The new output from GRASS then of course had to be joined with the output from the parallel python viewshed script. This was carried out in R considering the extensive data manipulation I realized would be necessary. Most important to note is the separation by direction in which cyclists were going. I completely separated the original data analysis file to then appropriately join with the 2 separate files outputted by the python viewshed script. Therefore, I'm attaching two separate csv: stats_direction1, and stats_direction2, each containing the following data:\n",
        "\n",
        "* participant\t\t   \n",
        "* time\t\t\t\t\n",
        "* conductance\t\t   \n",
        "* conductance_z\t   \n",
        "* phasic\t\t\t\t\n",
        "* phasic_z\t\t\t\n",
        "* tonic\t\t\t   \n",
        "* tonic_z\t\t\t   \n",
        "* altitude\t\t\t\n",
        "* distance\t\t\t\n",
        "* speed\t\t\t   \n",
        "* speed2\t\t\t  \n",
        "* power\t\t\t   \n",
        "* lon\t\t\t\t   \n",
        "* lat\t\t\t\t   \n",
        "* dist_to\t\t\t   \n",
        "* lc_type\t\t\t   \n",
        "* dist_to_road\t\t\n",
        "* road_type\t\t   \n",
        "* viewableLC\t\t  \n",
        "* buffer50m_lc\t  \n",
        "* buffer100m_lc\t   \n",
        "* buffer200m_lc\t   \n",
        "* buffer500m_lc\t \n",
        "* direction  \n",
        "* viewpoint_id_20m\t\n",
        "* viewpoint_id_50m\n",
        "* viewpoint_id_100m\t\t   \n",
        "* view_area\t\t   \n",
        "* landuse_view_area_1\n",
        "* landuse_view_area_2\n",
        "* landuse_view_area_3\n",
        "* landuse_view_area_4\n",
        "\n",
        "The stats_direction1, and stats_direction2 csvs can technically be joined together if preferred, but they were kept separate throughout for my own peace of mind (and one less thing to worry about).\n"
      ]
    },
    {
      "cell_type": "code",
      "metadata": {
        "colab_type": "code",
        "id": "QHn3cf0-Gm-Y",
        "outputId": "76a4dbfd-53f7-4c62-dc89-c9e0edfc1d5c",
        "colab": {
          "base_uri": "https://localhost:8080/",
          "height": 160
        }
      },
      "source": [
        "%%R\n",
        "CHIPS_CEUS <- read.csv(\"/content/CEUS_data.csv\", header = TRUE, row.names=NULL, sep=\"|\")\n",
        "# read in GRASS viewshed results  - both directions (read in as separate files for each viewpoint spacing)\n",
        "viewshed_20m_dir1 <- read.csv(\"/content/speedinterp_views_dir1_shf.csv\", header = TRUE, row.names=NULL, sep=\",\")\n",
        "viewshed_20m_dir2 <- read.csv(\"/content/speedinterp_views_dir2_shf.csv\", header = TRUE, row.names=NULL, sep=\",\")\n",
        "head(CHIPS_CEUS)\n",
        "# CHIPS_waal_til <- subset(CHIPS_CEUS, direction=\"1\")\n",
        "# CHIPS_til_waal <- subset(CHIPS_CEUS, direction=\"2\")\n",
        "# cleaning viewpoint data - removing points at too high an elevation (e.g., on trees, buildings, etc)\n",
        "# viewpoints_20m_1 <- read.table(\"/content/all_20m_dir1.txt\", header = F, row.names=NULL, sep=\",\")\n",
        "# viewpoints_20m_2 <- read.table(\"/content/all_20m_dir2.txt\", header = F, row.names=NULL, sep=\",\")"
      ],
      "execution_count": 0,
      "outputs": [
        {
          "output_type": "display_data",
          "data": {
            "text/plain": [
              "                                                       east.north.height.cat.participant.time.conductance.conductance_z.phasic.phasic_z.tonic.tonic_z.altitude.distance.speed.speed2.power.lon.lat.dist_to.lc_type.dist_to_road.road_type.viewpoint_id_20m\n",
              "1 131486.74,411450.89900001,0.00149396,1,1,180.00000000,0.78931900,-1.30258662,0.00781078,0.00149396,0.78150822,-1.30408058,3.00000000,441.50000000,0.00000000,0.00000000,14.16505379,131486.74000000,411450.89900001,,,0.92299476,small_roads,27.00000000\n",
              "2 131486.74,411450.89900001,0.00127819,2,1,180.25000000,0.78880700,-1.30267035,0.00651105,0.00127819,0.78229595,-1.30394854,3.00000000,441.50000000,0.00000000,0.00000000,14.16505379,131486.74000000,411450.89900001,,,0.92299476,small_roads,27.00000000\n",
              "3 131486.74,411450.89900001,0.00106634,3,1,180.50000000,0.78829500,-1.30275408,0.00521846,0.00106634,0.78307655,-1.30382042,3.00000000,441.50000000,0.00000000,0.00000000,14.16505379,131486.74000000,411450.89900001,,,0.92299476,small_roads,27.00000000\n",
              "4 131486.74,411450.89900001,0.00085831,4,1,180.75000000,0.78778300,-1.30283781,0.00392834,0.00085831,0.78385466,-1.30369611,3.00000000,441.50000000,0.00000000,0.00000000,14.16505379,131486.74000000,411450.89900001,,,0.92299476,small_roads,27.00000000\n",
              "5 131486.74,411450.89900001,0.00065385,5,1,181.00000000,0.78727100,-1.30292153,0.00263578,0.00065385,0.78463522,-1.30357538,3.00000000,441.50000000,0.00000000,0.00000000,14.16505379,131486.74000000,411450.89900001,,,0.92299476,small_roads,27.00000000\n",
              "6 131486.74,411450.89900001,0.00045266,6,1,181.25000000,0.78675900,-1.30300526,0.00133663,0.00045266,0.78542237,-1.30345792,3.00000000,441.50000000,0.00000000,0.00000000,14.16505379,131486.74000000,411450.89900001,,,0.92299476,small_roads,27.00000000\n"
            ]
          },
          "metadata": {
            "tags": []
          }
        }
      ]
    },
    {
      "cell_type": "code",
      "metadata": {
        "id": "fN78iRHNG_g5",
        "colab_type": "code",
        "colab": {}
      },
      "source": [
        "CHIPS_CEUS_url = \"/content/CEUS_data.csv\"\n",
        "CHIPS_CEUS_df = pd.read_csv(CHIPS_CEUS_url) # Dataset is now stored in a Pandas Dataframe"
      ],
      "execution_count": 0,
      "outputs": []
    },
    {
      "cell_type": "code",
      "metadata": {
        "id": "GZYBfOVTHAJH",
        "colab_type": "code",
        "outputId": "5dbe41be-4525-4052-b5fc-ec73783e3e64",
        "colab": {
          "base_uri": "https://localhost:8080/",
          "height": 446
        }
      },
      "source": [
        "%load_ext google.colab.data_table\n",
        "CHIPS_CEUS_df"
      ],
      "execution_count": 0,
      "outputs": [
        {
          "output_type": "stream",
          "text": [
            "The google.colab.data_table extension is already loaded. To reload it, use:\n",
            "  %reload_ext google.colab.data_table\n"
          ],
          "name": "stdout"
        },
        {
          "output_type": "execute_result",
          "data": {
            "text/html": [
              "<div>\n",
              "<style scoped>\n",
              "    .dataframe tbody tr th:only-of-type {\n",
              "        vertical-align: middle;\n",
              "    }\n",
              "\n",
              "    .dataframe tbody tr th {\n",
              "        vertical-align: top;\n",
              "    }\n",
              "\n",
              "    .dataframe thead th {\n",
              "        text-align: right;\n",
              "    }\n",
              "</style>\n",
              "<table border=\"1\" class=\"dataframe\">\n",
              "  <thead>\n",
              "    <tr style=\"text-align: right;\">\n",
              "      <th></th>\n",
              "      <th>east|north|height|cat|participant|time|conductance|conductance_z|phasic|phasic_z|tonic|tonic_z|altitude|distance|speed|speed2|power|lon|lat|dist_to|lc_type|dist_to_road|road_type|viewpoint_id_20m</th>\n",
              "    </tr>\n",
              "  </thead>\n",
              "  <tbody>\n",
              "    <tr>\n",
              "      <th>0</th>\n",
              "      <td>131486.74|411450.89900001|0.00149396|1|1|180.0...</td>\n",
              "    </tr>\n",
              "    <tr>\n",
              "      <th>1</th>\n",
              "      <td>131486.74|411450.89900001|0.00127819|2|1|180.2...</td>\n",
              "    </tr>\n",
              "    <tr>\n",
              "      <th>2</th>\n",
              "      <td>131486.74|411450.89900001|0.00106634|3|1|180.5...</td>\n",
              "    </tr>\n",
              "    <tr>\n",
              "      <th>3</th>\n",
              "      <td>131486.74|411450.89900001|0.00085831|4|1|180.7...</td>\n",
              "    </tr>\n",
              "    <tr>\n",
              "      <th>4</th>\n",
              "      <td>131486.74|411450.89900001|0.00065385|5|1|181.0...</td>\n",
              "    </tr>\n",
              "    <tr>\n",
              "      <th>...</th>\n",
              "      <td>...</td>\n",
              "    </tr>\n",
              "    <tr>\n",
              "      <th>179287</th>\n",
              "      <td>131351.55672235|411710.83268967|0.17814207|179...</td>\n",
              "    </tr>\n",
              "    <tr>\n",
              "      <th>179288</th>\n",
              "      <td>131351.55672235|411710.83268967|0.1818928|1792...</td>\n",
              "    </tr>\n",
              "    <tr>\n",
              "      <th>179289</th>\n",
              "      <td>131351.55672235|411710.83268967|0.14853957|179...</td>\n",
              "    </tr>\n",
              "    <tr>\n",
              "      <th>179290</th>\n",
              "      <td>131351.55672235|411710.83268967|0.15281908|179...</td>\n",
              "    </tr>\n",
              "    <tr>\n",
              "      <th>179291</th>\n",
              "      <td>131351.55672235|411710.83268967|0.14695576|179...</td>\n",
              "    </tr>\n",
              "  </tbody>\n",
              "</table>\n",
              "<p>179292 rows × 1 columns</p>\n",
              "</div>"
            ],
            "text/plain": [
              "       east|north|height|cat|participant|time|conductance|conductance_z|phasic|phasic_z|tonic|tonic_z|altitude|distance|speed|speed2|power|lon|lat|dist_to|lc_type|dist_to_road|road_type|viewpoint_id_20m\n",
              "0       131486.74|411450.89900001|0.00149396|1|1|180.0...                                                                                                                                                 \n",
              "1       131486.74|411450.89900001|0.00127819|2|1|180.2...                                                                                                                                                 \n",
              "2       131486.74|411450.89900001|0.00106634|3|1|180.5...                                                                                                                                                 \n",
              "3       131486.74|411450.89900001|0.00085831|4|1|180.7...                                                                                                                                                 \n",
              "4       131486.74|411450.89900001|0.00065385|5|1|181.0...                                                                                                                                                 \n",
              "...                                                   ...                                                                                                                                                 \n",
              "179287  131351.55672235|411710.83268967|0.17814207|179...                                                                                                                                                 \n",
              "179288  131351.55672235|411710.83268967|0.1818928|1792...                                                                                                                                                 \n",
              "179289  131351.55672235|411710.83268967|0.14853957|179...                                                                                                                                                 \n",
              "179290  131351.55672235|411710.83268967|0.15281908|179...                                                                                                                                                 \n",
              "179291  131351.55672235|411710.83268967|0.14695576|179...                                                                                                                                                 \n",
              "\n",
              "[179292 rows x 1 columns]"
            ]
          },
          "metadata": {
            "tags": []
          },
          "execution_count": 72
        }
      ]
    },
    {
      "cell_type": "code",
      "metadata": {
        "id": "n2-xxnqnF1Fe",
        "colab_type": "code",
        "colab": {}
      },
      "source": [
        "CHIPS_waal_til <- subset(CHIPS_CEUS, direction=\"1\")\n",
        "CHIPS_til_waal <- subset(CHIPS_CEUS, direction=\"2\")\n",
        "# cleaning viewpoint data - removing points at too high an elevation (e.g., on trees, buildings, etc)\n",
        "# viewpoints_20m_1 <- read.table(\"/content/all_20m_dir1.txt\", header = F, row.names=NULL, sep=\",\")\n",
        "# viewpoints_20m_2 <- read.table(\"/content/all_20m_dir2.txt\", header = F, row.names=NULL, sep=\",\")"
      ],
      "execution_count": 0,
      "outputs": []
    },
    {
      "cell_type": "code",
      "metadata": {
        "colab_type": "code",
        "id": "L8ei9Fmej_LD",
        "colab": {}
      },
      "source": [
        "final_stats_20m_url =\"https://raw.githubusercontent.com/gcmillar/CEUS/master/chips_all_attr.csv\"\n",
        "# final_stats_20m_url = 'https://raw.githubusercontent.com/gcmillar/CEUS/master/CHIPS_all.csv'\n",
        "final_stats_20m = pd.read_csv(final_stats_20m_url,error_bad_lines=False)\n",
        "%load_ext google.colab.data_table\n",
        "final_stats_20m"
      ],
      "execution_count": 0,
      "outputs": []
    },
    {
      "cell_type": "code",
      "metadata": {
        "colab_type": "code",
        "id": "aiQVbCVPOqRr",
        "colab": {}
      },
      "source": [
        "%%capture\n",
        "%unload_ext google.colab.data_table"
      ],
      "execution_count": 0,
      "outputs": []
    },
    {
      "cell_type": "code",
      "metadata": {
        "colab_type": "code",
        "id": "tHy7-pPyHaeF",
        "colab": {}
      },
      "source": [
        "%%R\n",
        "dat <- read_csv(\"/content/chips_all_attr.csv\")\n",
        "head(dat)\n",
        "table(dat$participant)\n",
        "table(dat$direction)\n",
        "names(dat)\n",
        "datCorrel <- dat[c(\"participant\", \"phasic\", \"landuse_view_area_1_20m\",\"landuse_view_area_2_20m\",\"landuse_view_area_3_20m\",\"landuse_view_area_4_20m\", \n",
        "                   \"landuse_view_area_5_20m\", \"landuse_view_area_6_20m\",\"landuse_view_area_7_20m\",\"weighted240dist_kmh\",\"dir_range_20m\",\"direction\")]\n",
        "corrgram(datCorrel, order=TRUE, lower.panel=panel.conf,\n",
        "         upper.panel=panel.pie, text.panel=panel.txt,\n",
        "         main=\"landscape predictors\")\n",
        "describe(datCorrel)"
      ],
      "execution_count": 0,
      "outputs": []
    },
    {
      "cell_type": "code",
      "metadata": {
        "colab_type": "code",
        "id": "Ij-Q-Eb9kVv6",
        "colab": {}
      },
      "source": [
        "%%R\n",
        "# creating models, including a null model\n",
        "# lme falsely converges\n",
        "m0 <- lmer(phasic ~ 1 + (1|participant), data=dat, REML=F)\n",
        "m1 <- lmer(phasic ~ landuse_view_area_1_20m + landuse_view_area_2_20m + landuse_view_area_3_20m + landuse_view_area_4_20m + \n",
        "           landuse_view_area_5_20m + landuse_view_area_6_20m + landuse_view_area_7_20m + (1|participant), data=dat, REML=F)\n",
        "m2 <- lmer(phasic ~ landuse_view_area_1_20m + landuse_view_area_2_20m + landuse_view_area_3_20m + landuse_view_area_4_20m + \n",
        "             landuse_view_area_5_20m + landuse_view_area_6_20m + landuse_view_area_7_20m + weighted240dist_kmh + direction + (1|participant), data=dat, REML=F)\n",
        "# m3 <- lmer(phasic ~ landuse_view_area_1_20m*weighted240dist_kmh + landuse_view_area_2_20m*weighted240dist_kmh + landuse_view_area_3_20m*weighted240dist_kmh + landuse_view_area_4_20m*weighted240dist_kmh + \n",
        "#              landuse_view_area_5_20m*weighted240dist_kmh + landuse_view_area_6_20m*weighted240dist_kmh + landuse_view_area_7_20m*weighted240dist_kmh + weighted240dist_kmh*weighted240dist_kmh + dir + dist_to_road + (1|participant), data=dat.o, REML=F)\n",
        "# m4 <- lmer(phasic ~ landuse_view_area_1_20m*weighted240dist_kmh + landuse_view_area_2_20m*weighted240dist_kmh + landuse_view_area_3_20m*weighted240dist_kmh + landuse_view_area_4_20m*weighted240dist_kmh + \n",
        "#              landuse_view_area_5_20m*weighted240dist_kmh + landuse_view_area_6_20m*weighted240dist_kmh + landuse_view_area_7_20m*weighted240dist_kmh + weighted240dist_kmh*weighted240dist_kmh + dir + dist_to_road + dir_range_20m + (1|participant), data=dat.o, REML=F)\n",
        "# m2.1 <- lmer(phasic ~ landuse_view_area_1_20m + landuse_view_area_2_20m + landuse_view_area_3_20m + landuse_view_area_4_20m + \n",
        "#              landuse_view_area_5_20m + landuse_view_area_6_20m + landuse_view_area_7_20m + weighted240dist_kmh + dir + dir_range_20m + (1|participant), data=dat.o, REML=F)\n",
        "# # w viewarea\n",
        "# m2.2 <- lmer(phasic ~ landuse_view_area_1_20m + landuse_view_area_2_20m + landuse_view_area_3_20m + landuse_view_area_4_20m + \n",
        "#                landuse_view_area_5_20m + landuse_view_area_6_20m + landuse_view_area_7_20m + weighted240dist_kmh + dir + dist_to_road + dir_range_20m + viewarea + (1|participant), data=dat.o, REML=F)\n",
        "# comparing models\n",
        "anova(m0,m1)\n",
        "anova(m1,m2)\n",
        "# anova(m2,m3)\n",
        "# anova(m3,m4)\n",
        "# anova(m2,m2.1)\n",
        "# anova(m0,m2)\n",
        "# anova(m2,m2.1)\n",
        "# summary(m2.1)\n",
        "# summary(m2.2) #do not use"
      ],
      "execution_count": 0,
      "outputs": []
    },
    {
      "cell_type": "markdown",
      "metadata": {
        "colab_type": "text",
        "id": "z27iPt806xcG"
      },
      "source": [
        "<!-- # References\n",
        "\n",
        "[The Actual Elevation map of the Netherlands (AHN)]<sup>[3](http://ahn.nl) -->"
      ]
    }
  ]
}
